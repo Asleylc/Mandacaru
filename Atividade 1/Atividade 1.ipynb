{
 "cells": [
  {
   "cell_type": "markdown",
   "metadata": {},
   "source": [
    "# Atividade 1 - Mandacaru Modulo Cacto"
   ]
  },
  {
   "cell_type": "code",
   "execution_count": null,
   "metadata": {},
   "outputs": [],
   "source": [
    "#Autor: Asley Lioba Caldas"
   ]
  },
  {
   "cell_type": "markdown",
   "metadata": {},
   "source": [
    "## Imports"
   ]
  },
  {
   "cell_type": "code",
   "execution_count": 2,
   "metadata": {},
   "outputs": [],
   "source": [
    "import pandas as pd\n",
    "import numpy as np\n",
    "\n",
    "# modelos\n",
    "from sklearn.model_selection import train_test_split\n",
    "from sklearn.model_selection import GridSearchCV\n",
    "## K-folds\n",
    "from sklearn.model_selection import cross_val_score\n",
    "from sklearn.model_selection import KFold #ver se vou usar\n",
    "## KNN\n",
    "from sklearn.neighbors import KNeighborsClassifier \n",
    "## SVM\n",
    "from sklearn import svm\n",
    "\n",
    "# Metricas\n",
    "from sklearn import metrics\n",
    "from sklearn.metrics import confusion_matrix\n",
    "from sklearn.metrics import plot_confusion_matrix\n",
    "from sklearn.metrics import precision_score, recall_score, f1_score, accuracy_score\n",
    "\n",
    "#plot\n",
    "import seaborn as sns\n",
    "import matplotlib.pyplot as plt"
   ]
  },
  {
   "cell_type": "code",
   "execution_count": 3,
   "metadata": {},
   "outputs": [],
   "source": [
    "df = pd.read_excel('fraud_detection_bank_dataset.xlsx', index_col=0)  \n"
   ]
  },
  {
   "cell_type": "code",
   "execution_count": 4,
   "metadata": {},
   "outputs": [
    {
     "data": {
      "text/html": [
       "<div>\n",
       "<style scoped>\n",
       "    .dataframe tbody tr th:only-of-type {\n",
       "        vertical-align: middle;\n",
       "    }\n",
       "\n",
       "    .dataframe tbody tr th {\n",
       "        vertical-align: top;\n",
       "    }\n",
       "\n",
       "    .dataframe thead th {\n",
       "        text-align: right;\n",
       "    }\n",
       "</style>\n",
       "<table border=\"1\" class=\"dataframe\">\n",
       "  <thead>\n",
       "    <tr style=\"text-align: right;\">\n",
       "      <th></th>\n",
       "      <th>col_0</th>\n",
       "      <th>col_1</th>\n",
       "      <th>col_2</th>\n",
       "      <th>col_3</th>\n",
       "      <th>col_4</th>\n",
       "      <th>col_5</th>\n",
       "      <th>col_6</th>\n",
       "      <th>col_7</th>\n",
       "      <th>col_8</th>\n",
       "      <th>col_9</th>\n",
       "      <th>...</th>\n",
       "      <th>col_103</th>\n",
       "      <th>col_104</th>\n",
       "      <th>col_105</th>\n",
       "      <th>col_106</th>\n",
       "      <th>col_107</th>\n",
       "      <th>col_108</th>\n",
       "      <th>col_109</th>\n",
       "      <th>col_110</th>\n",
       "      <th>col_111</th>\n",
       "      <th>targets</th>\n",
       "    </tr>\n",
       "  </thead>\n",
       "  <tbody>\n",
       "    <tr>\n",
       "      <th>0</th>\n",
       "      <td>9</td>\n",
       "      <td>1354</td>\n",
       "      <td>0</td>\n",
       "      <td>18</td>\n",
       "      <td>0</td>\n",
       "      <td>1</td>\n",
       "      <td>7</td>\n",
       "      <td>9</td>\n",
       "      <td>0</td>\n",
       "      <td>0</td>\n",
       "      <td>...</td>\n",
       "      <td>0</td>\n",
       "      <td>0</td>\n",
       "      <td>0</td>\n",
       "      <td>1</td>\n",
       "      <td>1</td>\n",
       "      <td>0</td>\n",
       "      <td>0</td>\n",
       "      <td>0</td>\n",
       "      <td>49</td>\n",
       "      <td>1</td>\n",
       "    </tr>\n",
       "    <tr>\n",
       "      <th>1</th>\n",
       "      <td>0</td>\n",
       "      <td>239</td>\n",
       "      <td>0</td>\n",
       "      <td>1</td>\n",
       "      <td>0</td>\n",
       "      <td>1</td>\n",
       "      <td>0</td>\n",
       "      <td>0</td>\n",
       "      <td>0</td>\n",
       "      <td>0</td>\n",
       "      <td>...</td>\n",
       "      <td>0</td>\n",
       "      <td>1</td>\n",
       "      <td>0</td>\n",
       "      <td>0</td>\n",
       "      <td>0</td>\n",
       "      <td>0</td>\n",
       "      <td>0</td>\n",
       "      <td>0</td>\n",
       "      <td>55</td>\n",
       "      <td>1</td>\n",
       "    </tr>\n",
       "    <tr>\n",
       "      <th>2</th>\n",
       "      <td>0</td>\n",
       "      <td>260</td>\n",
       "      <td>0</td>\n",
       "      <td>4</td>\n",
       "      <td>0</td>\n",
       "      <td>3</td>\n",
       "      <td>6</td>\n",
       "      <td>0</td>\n",
       "      <td>0</td>\n",
       "      <td>0</td>\n",
       "      <td>...</td>\n",
       "      <td>0</td>\n",
       "      <td>0</td>\n",
       "      <td>0</td>\n",
       "      <td>1</td>\n",
       "      <td>1</td>\n",
       "      <td>0</td>\n",
       "      <td>0</td>\n",
       "      <td>0</td>\n",
       "      <td>56</td>\n",
       "      <td>1</td>\n",
       "    </tr>\n",
       "    <tr>\n",
       "      <th>3</th>\n",
       "      <td>17</td>\n",
       "      <td>682</td>\n",
       "      <td>0</td>\n",
       "      <td>1</td>\n",
       "      <td>0</td>\n",
       "      <td>0</td>\n",
       "      <td>8</td>\n",
       "      <td>17</td>\n",
       "      <td>0</td>\n",
       "      <td>0</td>\n",
       "      <td>...</td>\n",
       "      <td>0</td>\n",
       "      <td>1</td>\n",
       "      <td>0</td>\n",
       "      <td>1</td>\n",
       "      <td>1</td>\n",
       "      <td>0</td>\n",
       "      <td>0</td>\n",
       "      <td>0</td>\n",
       "      <td>65</td>\n",
       "      <td>1</td>\n",
       "    </tr>\n",
       "    <tr>\n",
       "      <th>4</th>\n",
       "      <td>1</td>\n",
       "      <td>540</td>\n",
       "      <td>0</td>\n",
       "      <td>2</td>\n",
       "      <td>0</td>\n",
       "      <td>1</td>\n",
       "      <td>7</td>\n",
       "      <td>1</td>\n",
       "      <td>0</td>\n",
       "      <td>0</td>\n",
       "      <td>...</td>\n",
       "      <td>0</td>\n",
       "      <td>0</td>\n",
       "      <td>0</td>\n",
       "      <td>1</td>\n",
       "      <td>1</td>\n",
       "      <td>0</td>\n",
       "      <td>0</td>\n",
       "      <td>0</td>\n",
       "      <td>175</td>\n",
       "      <td>1</td>\n",
       "    </tr>\n",
       "    <tr>\n",
       "      <th>...</th>\n",
       "      <td>...</td>\n",
       "      <td>...</td>\n",
       "      <td>...</td>\n",
       "      <td>...</td>\n",
       "      <td>...</td>\n",
       "      <td>...</td>\n",
       "      <td>...</td>\n",
       "      <td>...</td>\n",
       "      <td>...</td>\n",
       "      <td>...</td>\n",
       "      <td>...</td>\n",
       "      <td>...</td>\n",
       "      <td>...</td>\n",
       "      <td>...</td>\n",
       "      <td>...</td>\n",
       "      <td>...</td>\n",
       "      <td>...</td>\n",
       "      <td>...</td>\n",
       "      <td>...</td>\n",
       "      <td>...</td>\n",
       "      <td>...</td>\n",
       "    </tr>\n",
       "    <tr>\n",
       "      <th>20463</th>\n",
       "      <td>0</td>\n",
       "      <td>88</td>\n",
       "      <td>0</td>\n",
       "      <td>0</td>\n",
       "      <td>0</td>\n",
       "      <td>2</td>\n",
       "      <td>-1</td>\n",
       "      <td>0</td>\n",
       "      <td>0</td>\n",
       "      <td>0</td>\n",
       "      <td>...</td>\n",
       "      <td>0</td>\n",
       "      <td>1</td>\n",
       "      <td>0</td>\n",
       "      <td>0</td>\n",
       "      <td>0</td>\n",
       "      <td>0</td>\n",
       "      <td>1</td>\n",
       "      <td>0</td>\n",
       "      <td>85</td>\n",
       "      <td>0</td>\n",
       "    </tr>\n",
       "    <tr>\n",
       "      <th>20464</th>\n",
       "      <td>0</td>\n",
       "      <td>134</td>\n",
       "      <td>0</td>\n",
       "      <td>2</td>\n",
       "      <td>0</td>\n",
       "      <td>0</td>\n",
       "      <td>6</td>\n",
       "      <td>0</td>\n",
       "      <td>0</td>\n",
       "      <td>0</td>\n",
       "      <td>...</td>\n",
       "      <td>0</td>\n",
       "      <td>0</td>\n",
       "      <td>0</td>\n",
       "      <td>0</td>\n",
       "      <td>0</td>\n",
       "      <td>0</td>\n",
       "      <td>0</td>\n",
       "      <td>0</td>\n",
       "      <td>7</td>\n",
       "      <td>0</td>\n",
       "    </tr>\n",
       "    <tr>\n",
       "      <th>20465</th>\n",
       "      <td>4</td>\n",
       "      <td>393</td>\n",
       "      <td>1</td>\n",
       "      <td>1</td>\n",
       "      <td>0</td>\n",
       "      <td>0</td>\n",
       "      <td>-1</td>\n",
       "      <td>4</td>\n",
       "      <td>0</td>\n",
       "      <td>0</td>\n",
       "      <td>...</td>\n",
       "      <td>0</td>\n",
       "      <td>1</td>\n",
       "      <td>0</td>\n",
       "      <td>0</td>\n",
       "      <td>0</td>\n",
       "      <td>0</td>\n",
       "      <td>0</td>\n",
       "      <td>0</td>\n",
       "      <td>45</td>\n",
       "      <td>0</td>\n",
       "    </tr>\n",
       "    <tr>\n",
       "      <th>20466</th>\n",
       "      <td>0</td>\n",
       "      <td>10</td>\n",
       "      <td>0</td>\n",
       "      <td>1</td>\n",
       "      <td>0</td>\n",
       "      <td>0</td>\n",
       "      <td>-1</td>\n",
       "      <td>0</td>\n",
       "      <td>0</td>\n",
       "      <td>0</td>\n",
       "      <td>...</td>\n",
       "      <td>0</td>\n",
       "      <td>0</td>\n",
       "      <td>0</td>\n",
       "      <td>0</td>\n",
       "      <td>0</td>\n",
       "      <td>0</td>\n",
       "      <td>0</td>\n",
       "      <td>0</td>\n",
       "      <td>5</td>\n",
       "      <td>0</td>\n",
       "    </tr>\n",
       "    <tr>\n",
       "      <th>20467</th>\n",
       "      <td>4</td>\n",
       "      <td>399</td>\n",
       "      <td>0</td>\n",
       "      <td>3</td>\n",
       "      <td>0</td>\n",
       "      <td>1</td>\n",
       "      <td>7</td>\n",
       "      <td>4</td>\n",
       "      <td>0</td>\n",
       "      <td>0</td>\n",
       "      <td>...</td>\n",
       "      <td>0</td>\n",
       "      <td>1</td>\n",
       "      <td>0</td>\n",
       "      <td>1</td>\n",
       "      <td>1</td>\n",
       "      <td>0</td>\n",
       "      <td>0</td>\n",
       "      <td>0</td>\n",
       "      <td>72</td>\n",
       "      <td>0</td>\n",
       "    </tr>\n",
       "  </tbody>\n",
       "</table>\n",
       "<p>20468 rows × 113 columns</p>\n",
       "</div>"
      ],
      "text/plain": [
       "       col_0  col_1  col_2  col_3  col_4  col_5  col_6  col_7  col_8  col_9  \\\n",
       "0          9   1354      0     18      0      1      7      9      0      0   \n",
       "1          0    239      0      1      0      1      0      0      0      0   \n",
       "2          0    260      0      4      0      3      6      0      0      0   \n",
       "3         17    682      0      1      0      0      8     17      0      0   \n",
       "4          1    540      0      2      0      1      7      1      0      0   \n",
       "...      ...    ...    ...    ...    ...    ...    ...    ...    ...    ...   \n",
       "20463      0     88      0      0      0      2     -1      0      0      0   \n",
       "20464      0    134      0      2      0      0      6      0      0      0   \n",
       "20465      4    393      1      1      0      0     -1      4      0      0   \n",
       "20466      0     10      0      1      0      0     -1      0      0      0   \n",
       "20467      4    399      0      3      0      1      7      4      0      0   \n",
       "\n",
       "       ...  col_103  col_104  col_105  col_106  col_107  col_108  col_109  \\\n",
       "0      ...        0        0        0        1        1        0        0   \n",
       "1      ...        0        1        0        0        0        0        0   \n",
       "2      ...        0        0        0        1        1        0        0   \n",
       "3      ...        0        1        0        1        1        0        0   \n",
       "4      ...        0        0        0        1        1        0        0   \n",
       "...    ...      ...      ...      ...      ...      ...      ...      ...   \n",
       "20463  ...        0        1        0        0        0        0        1   \n",
       "20464  ...        0        0        0        0        0        0        0   \n",
       "20465  ...        0        1        0        0        0        0        0   \n",
       "20466  ...        0        0        0        0        0        0        0   \n",
       "20467  ...        0        1        0        1        1        0        0   \n",
       "\n",
       "       col_110  col_111  targets  \n",
       "0            0       49        1  \n",
       "1            0       55        1  \n",
       "2            0       56        1  \n",
       "3            0       65        1  \n",
       "4            0      175        1  \n",
       "...        ...      ...      ...  \n",
       "20463        0       85        0  \n",
       "20464        0        7        0  \n",
       "20465        0       45        0  \n",
       "20466        0        5        0  \n",
       "20467        0       72        0  \n",
       "\n",
       "[20468 rows x 113 columns]"
      ]
     },
     "execution_count": 4,
     "metadata": {},
     "output_type": "execute_result"
    }
   ],
   "source": [
    "df \n"
   ]
  },
  {
   "cell_type": "code",
   "execution_count": 4,
   "metadata": {},
   "outputs": [
    {
     "name": "stdout",
     "output_type": "stream",
     "text": [
      "<class 'pandas.core.frame.DataFrame'>\n",
      "Int64Index: 20468 entries, 0 to 20467\n",
      "Columns: 113 entries, col_0 to targets\n",
      "dtypes: float64(1), int64(112)\n",
      "memory usage: 17.8 MB\n"
     ]
    }
   ],
   "source": [
    "df.info()\n"
   ]
  },
  {
   "cell_type": "code",
   "execution_count": 5,
   "metadata": {},
   "outputs": [
    {
     "data": {
      "text/html": [
       "<div>\n",
       "<style scoped>\n",
       "    .dataframe tbody tr th:only-of-type {\n",
       "        vertical-align: middle;\n",
       "    }\n",
       "\n",
       "    .dataframe tbody tr th {\n",
       "        vertical-align: top;\n",
       "    }\n",
       "\n",
       "    .dataframe thead th {\n",
       "        text-align: right;\n",
       "    }\n",
       "</style>\n",
       "<table border=\"1\" class=\"dataframe\">\n",
       "  <thead>\n",
       "    <tr style=\"text-align: right;\">\n",
       "      <th></th>\n",
       "      <th>col_0</th>\n",
       "      <th>col_1</th>\n",
       "      <th>col_2</th>\n",
       "      <th>col_3</th>\n",
       "      <th>col_4</th>\n",
       "      <th>col_5</th>\n",
       "      <th>col_6</th>\n",
       "      <th>col_7</th>\n",
       "      <th>col_8</th>\n",
       "      <th>col_9</th>\n",
       "      <th>...</th>\n",
       "      <th>col_103</th>\n",
       "      <th>col_104</th>\n",
       "      <th>col_105</th>\n",
       "      <th>col_106</th>\n",
       "      <th>col_107</th>\n",
       "      <th>col_108</th>\n",
       "      <th>col_109</th>\n",
       "      <th>col_110</th>\n",
       "      <th>col_111</th>\n",
       "      <th>targets</th>\n",
       "    </tr>\n",
       "  </thead>\n",
       "  <tbody>\n",
       "    <tr>\n",
       "      <th>count</th>\n",
       "      <td>20468.000000</td>\n",
       "      <td>20468.000000</td>\n",
       "      <td>20468.000000</td>\n",
       "      <td>20468.000000</td>\n",
       "      <td>20468.000000</td>\n",
       "      <td>20468.000000</td>\n",
       "      <td>20468.000000</td>\n",
       "      <td>20468.000000</td>\n",
       "      <td>20468.0</td>\n",
       "      <td>20468.0</td>\n",
       "      <td>...</td>\n",
       "      <td>20468.000000</td>\n",
       "      <td>20468.000000</td>\n",
       "      <td>20468.000000</td>\n",
       "      <td>20468.000000</td>\n",
       "      <td>20468.000000</td>\n",
       "      <td>20468.000000</td>\n",
       "      <td>20468.000000</td>\n",
       "      <td>20468.000000</td>\n",
       "      <td>20468.000000</td>\n",
       "      <td>20468.000000</td>\n",
       "    </tr>\n",
       "    <tr>\n",
       "      <th>mean</th>\n",
       "      <td>3.226256</td>\n",
       "      <td>294.793043</td>\n",
       "      <td>0.420021</td>\n",
       "      <td>2.329343</td>\n",
       "      <td>0.083594</td>\n",
       "      <td>0.939857</td>\n",
       "      <td>2.386066</td>\n",
       "      <td>3.226256</td>\n",
       "      <td>0.0</td>\n",
       "      <td>0.0</td>\n",
       "      <td>...</td>\n",
       "      <td>0.004935</td>\n",
       "      <td>0.358120</td>\n",
       "      <td>0.002443</td>\n",
       "      <td>0.308384</td>\n",
       "      <td>0.190737</td>\n",
       "      <td>0.000049</td>\n",
       "      <td>0.049345</td>\n",
       "      <td>0.024282</td>\n",
       "      <td>43.486125</td>\n",
       "      <td>0.265683</td>\n",
       "    </tr>\n",
       "    <tr>\n",
       "      <th>std</th>\n",
       "      <td>20.564308</td>\n",
       "      <td>717.541984</td>\n",
       "      <td>7.367275</td>\n",
       "      <td>10.068512</td>\n",
       "      <td>0.840537</td>\n",
       "      <td>4.222896</td>\n",
       "      <td>3.018140</td>\n",
       "      <td>20.564308</td>\n",
       "      <td>0.0</td>\n",
       "      <td>0.0</td>\n",
       "      <td>...</td>\n",
       "      <td>0.073478</td>\n",
       "      <td>0.479459</td>\n",
       "      <td>0.049366</td>\n",
       "      <td>0.461837</td>\n",
       "      <td>0.392892</td>\n",
       "      <td>0.006990</td>\n",
       "      <td>0.216593</td>\n",
       "      <td>0.305079</td>\n",
       "      <td>59.217560</td>\n",
       "      <td>0.441707</td>\n",
       "    </tr>\n",
       "    <tr>\n",
       "      <th>min</th>\n",
       "      <td>0.000000</td>\n",
       "      <td>0.000000</td>\n",
       "      <td>0.000000</td>\n",
       "      <td>0.000000</td>\n",
       "      <td>0.000000</td>\n",
       "      <td>0.000000</td>\n",
       "      <td>-1.000000</td>\n",
       "      <td>0.000000</td>\n",
       "      <td>0.0</td>\n",
       "      <td>0.0</td>\n",
       "      <td>...</td>\n",
       "      <td>0.000000</td>\n",
       "      <td>0.000000</td>\n",
       "      <td>0.000000</td>\n",
       "      <td>0.000000</td>\n",
       "      <td>0.000000</td>\n",
       "      <td>0.000000</td>\n",
       "      <td>0.000000</td>\n",
       "      <td>0.000000</td>\n",
       "      <td>0.000000</td>\n",
       "      <td>0.000000</td>\n",
       "    </tr>\n",
       "    <tr>\n",
       "      <th>25%</th>\n",
       "      <td>0.000000</td>\n",
       "      <td>38.000000</td>\n",
       "      <td>0.000000</td>\n",
       "      <td>0.000000</td>\n",
       "      <td>0.000000</td>\n",
       "      <td>0.000000</td>\n",
       "      <td>0.000000</td>\n",
       "      <td>0.000000</td>\n",
       "      <td>0.0</td>\n",
       "      <td>0.0</td>\n",
       "      <td>...</td>\n",
       "      <td>0.000000</td>\n",
       "      <td>0.000000</td>\n",
       "      <td>0.000000</td>\n",
       "      <td>0.000000</td>\n",
       "      <td>0.000000</td>\n",
       "      <td>0.000000</td>\n",
       "      <td>0.000000</td>\n",
       "      <td>0.000000</td>\n",
       "      <td>5.000000</td>\n",
       "      <td>0.000000</td>\n",
       "    </tr>\n",
       "    <tr>\n",
       "      <th>50%</th>\n",
       "      <td>0.000000</td>\n",
       "      <td>97.000000</td>\n",
       "      <td>0.000000</td>\n",
       "      <td>1.000000</td>\n",
       "      <td>0.000000</td>\n",
       "      <td>0.000000</td>\n",
       "      <td>2.000000</td>\n",
       "      <td>0.000000</td>\n",
       "      <td>0.0</td>\n",
       "      <td>0.0</td>\n",
       "      <td>...</td>\n",
       "      <td>0.000000</td>\n",
       "      <td>0.000000</td>\n",
       "      <td>0.000000</td>\n",
       "      <td>0.000000</td>\n",
       "      <td>0.000000</td>\n",
       "      <td>0.000000</td>\n",
       "      <td>0.000000</td>\n",
       "      <td>0.000000</td>\n",
       "      <td>19.000000</td>\n",
       "      <td>0.000000</td>\n",
       "    </tr>\n",
       "    <tr>\n",
       "      <th>75%</th>\n",
       "      <td>2.000000</td>\n",
       "      <td>283.000000</td>\n",
       "      <td>0.000000</td>\n",
       "      <td>2.000000</td>\n",
       "      <td>0.000000</td>\n",
       "      <td>1.000000</td>\n",
       "      <td>6.000000</td>\n",
       "      <td>2.000000</td>\n",
       "      <td>0.0</td>\n",
       "      <td>0.0</td>\n",
       "      <td>...</td>\n",
       "      <td>0.000000</td>\n",
       "      <td>1.000000</td>\n",
       "      <td>0.000000</td>\n",
       "      <td>1.000000</td>\n",
       "      <td>0.000000</td>\n",
       "      <td>0.000000</td>\n",
       "      <td>0.000000</td>\n",
       "      <td>0.000000</td>\n",
       "      <td>61.250000</td>\n",
       "      <td>1.000000</td>\n",
       "    </tr>\n",
       "    <tr>\n",
       "      <th>max</th>\n",
       "      <td>2301.000000</td>\n",
       "      <td>37808.000000</td>\n",
       "      <td>904.000000</td>\n",
       "      <td>772.000000</td>\n",
       "      <td>54.000000</td>\n",
       "      <td>230.000000</td>\n",
       "      <td>11.000000</td>\n",
       "      <td>2301.000000</td>\n",
       "      <td>0.0</td>\n",
       "      <td>0.0</td>\n",
       "      <td>...</td>\n",
       "      <td>2.000000</td>\n",
       "      <td>1.000000</td>\n",
       "      <td>1.000000</td>\n",
       "      <td>1.000000</td>\n",
       "      <td>1.000000</td>\n",
       "      <td>1.000000</td>\n",
       "      <td>1.000000</td>\n",
       "      <td>17.000000</td>\n",
       "      <td>747.000000</td>\n",
       "      <td>1.000000</td>\n",
       "    </tr>\n",
       "  </tbody>\n",
       "</table>\n",
       "<p>8 rows × 113 columns</p>\n",
       "</div>"
      ],
      "text/plain": [
       "              col_0         col_1         col_2         col_3         col_4  \\\n",
       "count  20468.000000  20468.000000  20468.000000  20468.000000  20468.000000   \n",
       "mean       3.226256    294.793043      0.420021      2.329343      0.083594   \n",
       "std       20.564308    717.541984      7.367275     10.068512      0.840537   \n",
       "min        0.000000      0.000000      0.000000      0.000000      0.000000   \n",
       "25%        0.000000     38.000000      0.000000      0.000000      0.000000   \n",
       "50%        0.000000     97.000000      0.000000      1.000000      0.000000   \n",
       "75%        2.000000    283.000000      0.000000      2.000000      0.000000   \n",
       "max     2301.000000  37808.000000    904.000000    772.000000     54.000000   \n",
       "\n",
       "              col_5         col_6         col_7    col_8    col_9  ...  \\\n",
       "count  20468.000000  20468.000000  20468.000000  20468.0  20468.0  ...   \n",
       "mean       0.939857      2.386066      3.226256      0.0      0.0  ...   \n",
       "std        4.222896      3.018140     20.564308      0.0      0.0  ...   \n",
       "min        0.000000     -1.000000      0.000000      0.0      0.0  ...   \n",
       "25%        0.000000      0.000000      0.000000      0.0      0.0  ...   \n",
       "50%        0.000000      2.000000      0.000000      0.0      0.0  ...   \n",
       "75%        1.000000      6.000000      2.000000      0.0      0.0  ...   \n",
       "max      230.000000     11.000000   2301.000000      0.0      0.0  ...   \n",
       "\n",
       "            col_103       col_104       col_105       col_106       col_107  \\\n",
       "count  20468.000000  20468.000000  20468.000000  20468.000000  20468.000000   \n",
       "mean       0.004935      0.358120      0.002443      0.308384      0.190737   \n",
       "std        0.073478      0.479459      0.049366      0.461837      0.392892   \n",
       "min        0.000000      0.000000      0.000000      0.000000      0.000000   \n",
       "25%        0.000000      0.000000      0.000000      0.000000      0.000000   \n",
       "50%        0.000000      0.000000      0.000000      0.000000      0.000000   \n",
       "75%        0.000000      1.000000      0.000000      1.000000      0.000000   \n",
       "max        2.000000      1.000000      1.000000      1.000000      1.000000   \n",
       "\n",
       "            col_108       col_109       col_110       col_111       targets  \n",
       "count  20468.000000  20468.000000  20468.000000  20468.000000  20468.000000  \n",
       "mean       0.000049      0.049345      0.024282     43.486125      0.265683  \n",
       "std        0.006990      0.216593      0.305079     59.217560      0.441707  \n",
       "min        0.000000      0.000000      0.000000      0.000000      0.000000  \n",
       "25%        0.000000      0.000000      0.000000      5.000000      0.000000  \n",
       "50%        0.000000      0.000000      0.000000     19.000000      0.000000  \n",
       "75%        0.000000      0.000000      0.000000     61.250000      1.000000  \n",
       "max        1.000000      1.000000     17.000000    747.000000      1.000000  \n",
       "\n",
       "[8 rows x 113 columns]"
      ]
     },
     "execution_count": 5,
     "metadata": {},
     "output_type": "execute_result"
    }
   ],
   "source": [
    "df.describe()"
   ]
  },
  {
   "cell_type": "code",
   "execution_count": 6,
   "metadata": {},
   "outputs": [
    {
     "data": {
      "text/plain": [
       "col_0      0\n",
       "col_1      0\n",
       "col_2      0\n",
       "col_3      0\n",
       "col_4      0\n",
       "          ..\n",
       "col_108    0\n",
       "col_109    0\n",
       "col_110    0\n",
       "col_111    0\n",
       "targets    0\n",
       "Length: 113, dtype: int64"
      ]
     },
     "execution_count": 6,
     "metadata": {},
     "output_type": "execute_result"
    }
   ],
   "source": [
    "df.isnull().sum()\n"
   ]
  },
  {
   "cell_type": "code",
   "execution_count": 7,
   "metadata": {},
   "outputs": [
    {
     "data": {
      "text/plain": [
       "Index(['col_0', 'col_1', 'col_2', 'col_3', 'col_4', 'col_5', 'col_6', 'col_7',\n",
       "       'col_8', 'col_9',\n",
       "       ...\n",
       "       'col_103', 'col_104', 'col_105', 'col_106', 'col_107', 'col_108',\n",
       "       'col_109', 'col_110', 'col_111', 'targets'],\n",
       "      dtype='object', length=113)"
      ]
     },
     "execution_count": 7,
     "metadata": {},
     "output_type": "execute_result"
    }
   ],
   "source": [
    "df.columns\n"
   ]
  },
  {
   "cell_type": "code",
   "execution_count": 5,
   "metadata": {},
   "outputs": [
    {
     "data": {
      "text/html": [
       "<div>\n",
       "<style scoped>\n",
       "    .dataframe tbody tr th:only-of-type {\n",
       "        vertical-align: middle;\n",
       "    }\n",
       "\n",
       "    .dataframe tbody tr th {\n",
       "        vertical-align: top;\n",
       "    }\n",
       "\n",
       "    .dataframe thead th {\n",
       "        text-align: right;\n",
       "    }\n",
       "</style>\n",
       "<table border=\"1\" class=\"dataframe\">\n",
       "  <thead>\n",
       "    <tr style=\"text-align: right;\">\n",
       "      <th></th>\n",
       "      <th>col_0</th>\n",
       "      <th>col_1</th>\n",
       "      <th>col_2</th>\n",
       "      <th>col_3</th>\n",
       "      <th>col_4</th>\n",
       "      <th>col_5</th>\n",
       "      <th>col_6</th>\n",
       "      <th>col_7</th>\n",
       "      <th>col_8</th>\n",
       "      <th>col_9</th>\n",
       "      <th>...</th>\n",
       "      <th>col_102</th>\n",
       "      <th>col_103</th>\n",
       "      <th>col_104</th>\n",
       "      <th>col_105</th>\n",
       "      <th>col_106</th>\n",
       "      <th>col_107</th>\n",
       "      <th>col_108</th>\n",
       "      <th>col_109</th>\n",
       "      <th>col_110</th>\n",
       "      <th>col_111</th>\n",
       "    </tr>\n",
       "  </thead>\n",
       "  <tbody>\n",
       "    <tr>\n",
       "      <th>0</th>\n",
       "      <td>9</td>\n",
       "      <td>1354</td>\n",
       "      <td>0</td>\n",
       "      <td>18</td>\n",
       "      <td>0</td>\n",
       "      <td>1</td>\n",
       "      <td>7</td>\n",
       "      <td>9</td>\n",
       "      <td>0</td>\n",
       "      <td>0</td>\n",
       "      <td>...</td>\n",
       "      <td>4</td>\n",
       "      <td>0</td>\n",
       "      <td>0</td>\n",
       "      <td>0</td>\n",
       "      <td>1</td>\n",
       "      <td>1</td>\n",
       "      <td>0</td>\n",
       "      <td>0</td>\n",
       "      <td>0</td>\n",
       "      <td>49</td>\n",
       "    </tr>\n",
       "    <tr>\n",
       "      <th>1</th>\n",
       "      <td>0</td>\n",
       "      <td>239</td>\n",
       "      <td>0</td>\n",
       "      <td>1</td>\n",
       "      <td>0</td>\n",
       "      <td>1</td>\n",
       "      <td>0</td>\n",
       "      <td>0</td>\n",
       "      <td>0</td>\n",
       "      <td>0</td>\n",
       "      <td>...</td>\n",
       "      <td>0</td>\n",
       "      <td>0</td>\n",
       "      <td>1</td>\n",
       "      <td>0</td>\n",
       "      <td>0</td>\n",
       "      <td>0</td>\n",
       "      <td>0</td>\n",
       "      <td>0</td>\n",
       "      <td>0</td>\n",
       "      <td>55</td>\n",
       "    </tr>\n",
       "    <tr>\n",
       "      <th>2</th>\n",
       "      <td>0</td>\n",
       "      <td>260</td>\n",
       "      <td>0</td>\n",
       "      <td>4</td>\n",
       "      <td>0</td>\n",
       "      <td>3</td>\n",
       "      <td>6</td>\n",
       "      <td>0</td>\n",
       "      <td>0</td>\n",
       "      <td>0</td>\n",
       "      <td>...</td>\n",
       "      <td>1</td>\n",
       "      <td>0</td>\n",
       "      <td>0</td>\n",
       "      <td>0</td>\n",
       "      <td>1</td>\n",
       "      <td>1</td>\n",
       "      <td>0</td>\n",
       "      <td>0</td>\n",
       "      <td>0</td>\n",
       "      <td>56</td>\n",
       "    </tr>\n",
       "    <tr>\n",
       "      <th>3</th>\n",
       "      <td>17</td>\n",
       "      <td>682</td>\n",
       "      <td>0</td>\n",
       "      <td>1</td>\n",
       "      <td>0</td>\n",
       "      <td>0</td>\n",
       "      <td>8</td>\n",
       "      <td>17</td>\n",
       "      <td>0</td>\n",
       "      <td>0</td>\n",
       "      <td>...</td>\n",
       "      <td>1</td>\n",
       "      <td>0</td>\n",
       "      <td>1</td>\n",
       "      <td>0</td>\n",
       "      <td>1</td>\n",
       "      <td>1</td>\n",
       "      <td>0</td>\n",
       "      <td>0</td>\n",
       "      <td>0</td>\n",
       "      <td>65</td>\n",
       "    </tr>\n",
       "    <tr>\n",
       "      <th>4</th>\n",
       "      <td>1</td>\n",
       "      <td>540</td>\n",
       "      <td>0</td>\n",
       "      <td>2</td>\n",
       "      <td>0</td>\n",
       "      <td>1</td>\n",
       "      <td>7</td>\n",
       "      <td>1</td>\n",
       "      <td>0</td>\n",
       "      <td>0</td>\n",
       "      <td>...</td>\n",
       "      <td>1</td>\n",
       "      <td>0</td>\n",
       "      <td>0</td>\n",
       "      <td>0</td>\n",
       "      <td>1</td>\n",
       "      <td>1</td>\n",
       "      <td>0</td>\n",
       "      <td>0</td>\n",
       "      <td>0</td>\n",
       "      <td>175</td>\n",
       "    </tr>\n",
       "  </tbody>\n",
       "</table>\n",
       "<p>5 rows × 112 columns</p>\n",
       "</div>"
      ],
      "text/plain": [
       "   col_0  col_1  col_2  col_3  col_4  col_5  col_6  col_7  col_8  col_9  ...  \\\n",
       "0      9   1354      0     18      0      1      7      9      0      0  ...   \n",
       "1      0    239      0      1      0      1      0      0      0      0  ...   \n",
       "2      0    260      0      4      0      3      6      0      0      0  ...   \n",
       "3     17    682      0      1      0      0      8     17      0      0  ...   \n",
       "4      1    540      0      2      0      1      7      1      0      0  ...   \n",
       "\n",
       "   col_102  col_103  col_104  col_105  col_106  col_107  col_108  col_109  \\\n",
       "0        4        0        0        0        1        1        0        0   \n",
       "1        0        0        1        0        0        0        0        0   \n",
       "2        1        0        0        0        1        1        0        0   \n",
       "3        1        0        1        0        1        1        0        0   \n",
       "4        1        0        0        0        1        1        0        0   \n",
       "\n",
       "   col_110  col_111  \n",
       "0        0       49  \n",
       "1        0       55  \n",
       "2        0       56  \n",
       "3        0       65  \n",
       "4        0      175  \n",
       "\n",
       "[5 rows x 112 columns]"
      ]
     },
     "execution_count": 5,
     "metadata": {},
     "output_type": "execute_result"
    }
   ],
   "source": [
    "X = df.iloc[:,0:-1] # removendo o Targets\n",
    "X.head(5)"
   ]
  },
  {
   "cell_type": "code",
   "execution_count": 6,
   "metadata": {},
   "outputs": [
    {
     "data": {
      "text/plain": [
       "0        1\n",
       "1        1\n",
       "2        1\n",
       "3        1\n",
       "4        1\n",
       "        ..\n",
       "20463    0\n",
       "20464    0\n",
       "20465    0\n",
       "20466    0\n",
       "20467    0\n",
       "Name: targets, Length: 20468, dtype: int64"
      ]
     },
     "execution_count": 6,
     "metadata": {},
     "output_type": "execute_result"
    }
   ],
   "source": [
    "y = df.iloc[:, -1]\n",
    "y"
   ]
  },
  {
   "cell_type": "code",
   "execution_count": 10,
   "metadata": {},
   "outputs": [
    {
     "name": "stdout",
     "output_type": "stream",
     "text": [
      "Data Set: (20468, 112) (20468,)\n"
     ]
    }
   ],
   "source": [
    "print ('Data Set:', X.shape,  y.shape)\n"
   ]
  },
  {
   "cell_type": "code",
   "execution_count": 11,
   "metadata": {},
   "outputs": [],
   "source": [
    "# fazer validação"
   ]
  },
  {
   "cell_type": "code",
   "execution_count": 11,
   "metadata": {},
   "outputs": [],
   "source": [
    "\n",
    "\n",
    "param_grid_svm = {'C': [1], 'kernel': ['rbf']}\n",
    "\n",
    "\n",
    "param_grid_knn = {'n_neighbors': [3,5,7]}"
   ]
  },
  {
   "cell_type": "code",
   "execution_count": 12,
   "metadata": {},
   "outputs": [
    {
     "name": "stdout",
     "output_type": "stream",
     "text": [
      "Fitting 5 folds for each of 1 candidates, totalling 5 fits\n"
     ]
    },
    {
     "name": "stderr",
     "output_type": "stream",
     "text": [
      "C:\\Users\\Azzy\\AppData\\Local\\Continuum\\anaconda3\\lib\\site-packages\\sklearn\\metrics\\_classification.py:1248: UndefinedMetricWarning: Precision is ill-defined and being set to 0.0 due to no predicted samples. Use `zero_division` parameter to control this behavior.\n",
      "  _warn_prf(average, modifier, msg_start, len(result))\n"
     ]
    },
    {
     "name": "stdout",
     "output_type": "stream",
     "text": [
      "Fitting 5 folds for each of 3 candidates, totalling 15 fits\n",
      "Fitting 5 folds for each of 1 candidates, totalling 5 fits\n"
     ]
    },
    {
     "name": "stderr",
     "output_type": "stream",
     "text": [
      "C:\\Users\\Azzy\\AppData\\Local\\Continuum\\anaconda3\\lib\\site-packages\\sklearn\\metrics\\_classification.py:1248: UndefinedMetricWarning: Precision is ill-defined and being set to 0.0 due to no predicted samples. Use `zero_division` parameter to control this behavior.\n",
      "  _warn_prf(average, modifier, msg_start, len(result))\n"
     ]
    },
    {
     "name": "stdout",
     "output_type": "stream",
     "text": [
      "Fitting 5 folds for each of 3 candidates, totalling 15 fits\n",
      "Fitting 5 folds for each of 1 candidates, totalling 5 fits\n"
     ]
    },
    {
     "name": "stderr",
     "output_type": "stream",
     "text": [
      "C:\\Users\\Azzy\\AppData\\Local\\Continuum\\anaconda3\\lib\\site-packages\\sklearn\\metrics\\_classification.py:1248: UndefinedMetricWarning: Precision is ill-defined and being set to 0.0 due to no predicted samples. Use `zero_division` parameter to control this behavior.\n",
      "  _warn_prf(average, modifier, msg_start, len(result))\n"
     ]
    },
    {
     "name": "stdout",
     "output_type": "stream",
     "text": [
      "Fitting 5 folds for each of 3 candidates, totalling 15 fits\n",
      "Fitting 5 folds for each of 1 candidates, totalling 5 fits\n"
     ]
    },
    {
     "name": "stderr",
     "output_type": "stream",
     "text": [
      "C:\\Users\\Azzy\\AppData\\Local\\Continuum\\anaconda3\\lib\\site-packages\\sklearn\\metrics\\_classification.py:1248: UndefinedMetricWarning: Precision is ill-defined and being set to 0.0 due to no predicted samples. Use `zero_division` parameter to control this behavior.\n",
      "  _warn_prf(average, modifier, msg_start, len(result))\n"
     ]
    },
    {
     "name": "stdout",
     "output_type": "stream",
     "text": [
      "Fitting 5 folds for each of 3 candidates, totalling 15 fits\n",
      "Fitting 5 folds for each of 1 candidates, totalling 5 fits\n"
     ]
    },
    {
     "name": "stderr",
     "output_type": "stream",
     "text": [
      "C:\\Users\\Azzy\\AppData\\Local\\Continuum\\anaconda3\\lib\\site-packages\\sklearn\\metrics\\_classification.py:1248: UndefinedMetricWarning: Precision is ill-defined and being set to 0.0 due to no predicted samples. Use `zero_division` parameter to control this behavior.\n",
      "  _warn_prf(average, modifier, msg_start, len(result))\n"
     ]
    },
    {
     "name": "stdout",
     "output_type": "stream",
     "text": [
      "Fitting 5 folds for each of 3 candidates, totalling 15 fits\n",
      "Fitting 5 folds for each of 1 candidates, totalling 5 fits\n"
     ]
    },
    {
     "name": "stderr",
     "output_type": "stream",
     "text": [
      "C:\\Users\\Azzy\\AppData\\Local\\Continuum\\anaconda3\\lib\\site-packages\\sklearn\\metrics\\_classification.py:1248: UndefinedMetricWarning: Precision is ill-defined and being set to 0.0 due to no predicted samples. Use `zero_division` parameter to control this behavior.\n",
      "  _warn_prf(average, modifier, msg_start, len(result))\n"
     ]
    },
    {
     "name": "stdout",
     "output_type": "stream",
     "text": [
      "Fitting 5 folds for each of 3 candidates, totalling 15 fits\n",
      "Fitting 5 folds for each of 1 candidates, totalling 5 fits\n"
     ]
    },
    {
     "name": "stderr",
     "output_type": "stream",
     "text": [
      "C:\\Users\\Azzy\\AppData\\Local\\Continuum\\anaconda3\\lib\\site-packages\\sklearn\\metrics\\_classification.py:1248: UndefinedMetricWarning: Precision is ill-defined and being set to 0.0 due to no predicted samples. Use `zero_division` parameter to control this behavior.\n",
      "  _warn_prf(average, modifier, msg_start, len(result))\n"
     ]
    },
    {
     "name": "stdout",
     "output_type": "stream",
     "text": [
      "Fitting 5 folds for each of 3 candidates, totalling 15 fits\n",
      "Fitting 5 folds for each of 1 candidates, totalling 5 fits\n"
     ]
    },
    {
     "name": "stderr",
     "output_type": "stream",
     "text": [
      "C:\\Users\\Azzy\\AppData\\Local\\Continuum\\anaconda3\\lib\\site-packages\\sklearn\\metrics\\_classification.py:1248: UndefinedMetricWarning: Precision is ill-defined and being set to 0.0 due to no predicted samples. Use `zero_division` parameter to control this behavior.\n",
      "  _warn_prf(average, modifier, msg_start, len(result))\n"
     ]
    },
    {
     "name": "stdout",
     "output_type": "stream",
     "text": [
      "Fitting 5 folds for each of 3 candidates, totalling 15 fits\n",
      "Fitting 5 folds for each of 1 candidates, totalling 5 fits\n"
     ]
    },
    {
     "name": "stderr",
     "output_type": "stream",
     "text": [
      "C:\\Users\\Azzy\\AppData\\Local\\Continuum\\anaconda3\\lib\\site-packages\\sklearn\\metrics\\_classification.py:1248: UndefinedMetricWarning: Precision is ill-defined and being set to 0.0 due to no predicted samples. Use `zero_division` parameter to control this behavior.\n",
      "  _warn_prf(average, modifier, msg_start, len(result))\n"
     ]
    },
    {
     "name": "stdout",
     "output_type": "stream",
     "text": [
      "Fitting 5 folds for each of 3 candidates, totalling 15 fits\n",
      "Fitting 5 folds for each of 1 candidates, totalling 5 fits\n"
     ]
    },
    {
     "name": "stderr",
     "output_type": "stream",
     "text": [
      "C:\\Users\\Azzy\\AppData\\Local\\Continuum\\anaconda3\\lib\\site-packages\\sklearn\\metrics\\_classification.py:1248: UndefinedMetricWarning: Precision is ill-defined and being set to 0.0 due to no predicted samples. Use `zero_division` parameter to control this behavior.\n",
      "  _warn_prf(average, modifier, msg_start, len(result))\n"
     ]
    },
    {
     "name": "stdout",
     "output_type": "stream",
     "text": [
      "Fitting 5 folds for each of 3 candidates, totalling 15 fits\n",
      "Fitting 5 folds for each of 1 candidates, totalling 5 fits\n"
     ]
    },
    {
     "name": "stderr",
     "output_type": "stream",
     "text": [
      "C:\\Users\\Azzy\\AppData\\Local\\Continuum\\anaconda3\\lib\\site-packages\\sklearn\\metrics\\_classification.py:1248: UndefinedMetricWarning: Precision is ill-defined and being set to 0.0 due to no predicted samples. Use `zero_division` parameter to control this behavior.\n",
      "  _warn_prf(average, modifier, msg_start, len(result))\n"
     ]
    },
    {
     "name": "stdout",
     "output_type": "stream",
     "text": [
      "Fitting 5 folds for each of 3 candidates, totalling 15 fits\n",
      "Fitting 5 folds for each of 1 candidates, totalling 5 fits\n"
     ]
    },
    {
     "name": "stderr",
     "output_type": "stream",
     "text": [
      "C:\\Users\\Azzy\\AppData\\Local\\Continuum\\anaconda3\\lib\\site-packages\\sklearn\\metrics\\_classification.py:1248: UndefinedMetricWarning: Precision is ill-defined and being set to 0.0 due to no predicted samples. Use `zero_division` parameter to control this behavior.\n",
      "  _warn_prf(average, modifier, msg_start, len(result))\n"
     ]
    },
    {
     "name": "stdout",
     "output_type": "stream",
     "text": [
      "Fitting 5 folds for each of 3 candidates, totalling 15 fits\n",
      "Fitting 5 folds for each of 1 candidates, totalling 5 fits\n"
     ]
    },
    {
     "name": "stderr",
     "output_type": "stream",
     "text": [
      "C:\\Users\\Azzy\\AppData\\Local\\Continuum\\anaconda3\\lib\\site-packages\\sklearn\\metrics\\_classification.py:1248: UndefinedMetricWarning: Precision is ill-defined and being set to 0.0 due to no predicted samples. Use `zero_division` parameter to control this behavior.\n",
      "  _warn_prf(average, modifier, msg_start, len(result))\n"
     ]
    },
    {
     "name": "stdout",
     "output_type": "stream",
     "text": [
      "Fitting 5 folds for each of 3 candidates, totalling 15 fits\n",
      "Fitting 5 folds for each of 1 candidates, totalling 5 fits\n"
     ]
    },
    {
     "name": "stderr",
     "output_type": "stream",
     "text": [
      "C:\\Users\\Azzy\\AppData\\Local\\Continuum\\anaconda3\\lib\\site-packages\\sklearn\\metrics\\_classification.py:1248: UndefinedMetricWarning: Precision is ill-defined and being set to 0.0 due to no predicted samples. Use `zero_division` parameter to control this behavior.\n",
      "  _warn_prf(average, modifier, msg_start, len(result))\n"
     ]
    },
    {
     "name": "stdout",
     "output_type": "stream",
     "text": [
      "Fitting 5 folds for each of 3 candidates, totalling 15 fits\n",
      "Fitting 5 folds for each of 1 candidates, totalling 5 fits\n"
     ]
    },
    {
     "name": "stderr",
     "output_type": "stream",
     "text": [
      "C:\\Users\\Azzy\\AppData\\Local\\Continuum\\anaconda3\\lib\\site-packages\\sklearn\\metrics\\_classification.py:1248: UndefinedMetricWarning: Precision is ill-defined and being set to 0.0 due to no predicted samples. Use `zero_division` parameter to control this behavior.\n",
      "  _warn_prf(average, modifier, msg_start, len(result))\n"
     ]
    },
    {
     "name": "stdout",
     "output_type": "stream",
     "text": [
      "Fitting 5 folds for each of 3 candidates, totalling 15 fits\n",
      "Fitting 5 folds for each of 1 candidates, totalling 5 fits\n"
     ]
    },
    {
     "name": "stderr",
     "output_type": "stream",
     "text": [
      "C:\\Users\\Azzy\\AppData\\Local\\Continuum\\anaconda3\\lib\\site-packages\\sklearn\\metrics\\_classification.py:1248: UndefinedMetricWarning: Precision is ill-defined and being set to 0.0 due to no predicted samples. Use `zero_division` parameter to control this behavior.\n",
      "  _warn_prf(average, modifier, msg_start, len(result))\n"
     ]
    },
    {
     "name": "stdout",
     "output_type": "stream",
     "text": [
      "Fitting 5 folds for each of 3 candidates, totalling 15 fits\n",
      "Fitting 5 folds for each of 1 candidates, totalling 5 fits\n"
     ]
    },
    {
     "name": "stderr",
     "output_type": "stream",
     "text": [
      "C:\\Users\\Azzy\\AppData\\Local\\Continuum\\anaconda3\\lib\\site-packages\\sklearn\\metrics\\_classification.py:1248: UndefinedMetricWarning: Precision is ill-defined and being set to 0.0 due to no predicted samples. Use `zero_division` parameter to control this behavior.\n",
      "  _warn_prf(average, modifier, msg_start, len(result))\n"
     ]
    },
    {
     "name": "stdout",
     "output_type": "stream",
     "text": [
      "Fitting 5 folds for each of 3 candidates, totalling 15 fits\n",
      "Fitting 5 folds for each of 1 candidates, totalling 5 fits\n"
     ]
    },
    {
     "name": "stderr",
     "output_type": "stream",
     "text": [
      "C:\\Users\\Azzy\\AppData\\Local\\Continuum\\anaconda3\\lib\\site-packages\\joblib\\externals\\loky\\process_executor.py:706: UserWarning: A worker stopped while some jobs were given to the executor. This can be caused by a too short worker timeout or by a memory leak.\n",
      "  \"timeout or by a memory leak.\", UserWarning\n",
      "C:\\Users\\Azzy\\AppData\\Local\\Continuum\\anaconda3\\lib\\site-packages\\sklearn\\metrics\\_classification.py:1248: UndefinedMetricWarning: Precision is ill-defined and being set to 0.0 due to no predicted samples. Use `zero_division` parameter to control this behavior.\n",
      "  _warn_prf(average, modifier, msg_start, len(result))\n"
     ]
    },
    {
     "name": "stdout",
     "output_type": "stream",
     "text": [
      "Fitting 5 folds for each of 3 candidates, totalling 15 fits\n",
      "Fitting 5 folds for each of 1 candidates, totalling 5 fits\n"
     ]
    },
    {
     "name": "stderr",
     "output_type": "stream",
     "text": [
      "C:\\Users\\Azzy\\AppData\\Local\\Continuum\\anaconda3\\lib\\site-packages\\sklearn\\metrics\\_classification.py:1248: UndefinedMetricWarning: Precision is ill-defined and being set to 0.0 due to no predicted samples. Use `zero_division` parameter to control this behavior.\n",
      "  _warn_prf(average, modifier, msg_start, len(result))\n"
     ]
    },
    {
     "name": "stdout",
     "output_type": "stream",
     "text": [
      "Fitting 5 folds for each of 3 candidates, totalling 15 fits\n",
      "Fitting 5 folds for each of 1 candidates, totalling 5 fits\n",
      "Fitting 5 folds for each of 3 candidates, totalling 15 fits\n",
      "Fitting 5 folds for each of 1 candidates, totalling 5 fits\n"
     ]
    },
    {
     "name": "stderr",
     "output_type": "stream",
     "text": [
      "C:\\Users\\Azzy\\AppData\\Local\\Continuum\\anaconda3\\lib\\site-packages\\sklearn\\metrics\\_classification.py:1248: UndefinedMetricWarning: Precision is ill-defined and being set to 0.0 due to no predicted samples. Use `zero_division` parameter to control this behavior.\n",
      "  _warn_prf(average, modifier, msg_start, len(result))\n"
     ]
    },
    {
     "name": "stdout",
     "output_type": "stream",
     "text": [
      "Fitting 5 folds for each of 3 candidates, totalling 15 fits\n",
      "Fitting 5 folds for each of 1 candidates, totalling 5 fits\n"
     ]
    },
    {
     "name": "stderr",
     "output_type": "stream",
     "text": [
      "C:\\Users\\Azzy\\AppData\\Local\\Continuum\\anaconda3\\lib\\site-packages\\sklearn\\metrics\\_classification.py:1248: UndefinedMetricWarning: Precision is ill-defined and being set to 0.0 due to no predicted samples. Use `zero_division` parameter to control this behavior.\n",
      "  _warn_prf(average, modifier, msg_start, len(result))\n"
     ]
    },
    {
     "name": "stdout",
     "output_type": "stream",
     "text": [
      "Fitting 5 folds for each of 3 candidates, totalling 15 fits\n",
      "Fitting 5 folds for each of 1 candidates, totalling 5 fits\n"
     ]
    },
    {
     "name": "stderr",
     "output_type": "stream",
     "text": [
      "C:\\Users\\Azzy\\AppData\\Local\\Continuum\\anaconda3\\lib\\site-packages\\sklearn\\metrics\\_classification.py:1248: UndefinedMetricWarning: Precision is ill-defined and being set to 0.0 due to no predicted samples. Use `zero_division` parameter to control this behavior.\n",
      "  _warn_prf(average, modifier, msg_start, len(result))\n"
     ]
    },
    {
     "name": "stdout",
     "output_type": "stream",
     "text": [
      "Fitting 5 folds for each of 3 candidates, totalling 15 fits\n",
      "Fitting 5 folds for each of 1 candidates, totalling 5 fits\n"
     ]
    },
    {
     "name": "stderr",
     "output_type": "stream",
     "text": [
      "C:\\Users\\Azzy\\AppData\\Local\\Continuum\\anaconda3\\lib\\site-packages\\sklearn\\metrics\\_classification.py:1248: UndefinedMetricWarning: Precision is ill-defined and being set to 0.0 due to no predicted samples. Use `zero_division` parameter to control this behavior.\n",
      "  _warn_prf(average, modifier, msg_start, len(result))\n"
     ]
    },
    {
     "name": "stdout",
     "output_type": "stream",
     "text": [
      "Fitting 5 folds for each of 3 candidates, totalling 15 fits\n",
      "Fitting 5 folds for each of 1 candidates, totalling 5 fits\n"
     ]
    },
    {
     "name": "stderr",
     "output_type": "stream",
     "text": [
      "C:\\Users\\Azzy\\AppData\\Local\\Continuum\\anaconda3\\lib\\site-packages\\sklearn\\metrics\\_classification.py:1248: UndefinedMetricWarning: Precision is ill-defined and being set to 0.0 due to no predicted samples. Use `zero_division` parameter to control this behavior.\n",
      "  _warn_prf(average, modifier, msg_start, len(result))\n"
     ]
    },
    {
     "name": "stdout",
     "output_type": "stream",
     "text": [
      "Fitting 5 folds for each of 3 candidates, totalling 15 fits\n",
      "Fitting 5 folds for each of 1 candidates, totalling 5 fits\n"
     ]
    },
    {
     "name": "stderr",
     "output_type": "stream",
     "text": [
      "C:\\Users\\Azzy\\AppData\\Local\\Continuum\\anaconda3\\lib\\site-packages\\sklearn\\metrics\\_classification.py:1248: UndefinedMetricWarning: Precision is ill-defined and being set to 0.0 due to no predicted samples. Use `zero_division` parameter to control this behavior.\n",
      "  _warn_prf(average, modifier, msg_start, len(result))\n"
     ]
    },
    {
     "name": "stdout",
     "output_type": "stream",
     "text": [
      "Fitting 5 folds for each of 3 candidates, totalling 15 fits\n",
      "Fitting 5 folds for each of 1 candidates, totalling 5 fits\n"
     ]
    },
    {
     "name": "stderr",
     "output_type": "stream",
     "text": [
      "C:\\Users\\Azzy\\AppData\\Local\\Continuum\\anaconda3\\lib\\site-packages\\sklearn\\metrics\\_classification.py:1248: UndefinedMetricWarning: Precision is ill-defined and being set to 0.0 due to no predicted samples. Use `zero_division` parameter to control this behavior.\n",
      "  _warn_prf(average, modifier, msg_start, len(result))\n"
     ]
    },
    {
     "name": "stdout",
     "output_type": "stream",
     "text": [
      "Fitting 5 folds for each of 3 candidates, totalling 15 fits\n",
      "Fitting 5 folds for each of 1 candidates, totalling 5 fits\n"
     ]
    },
    {
     "name": "stderr",
     "output_type": "stream",
     "text": [
      "C:\\Users\\Azzy\\AppData\\Local\\Continuum\\anaconda3\\lib\\site-packages\\sklearn\\metrics\\_classification.py:1248: UndefinedMetricWarning: Precision is ill-defined and being set to 0.0 due to no predicted samples. Use `zero_division` parameter to control this behavior.\n",
      "  _warn_prf(average, modifier, msg_start, len(result))\n"
     ]
    },
    {
     "name": "stdout",
     "output_type": "stream",
     "text": [
      "Fitting 5 folds for each of 3 candidates, totalling 15 fits\n",
      "Fitting 5 folds for each of 1 candidates, totalling 5 fits\n"
     ]
    },
    {
     "name": "stderr",
     "output_type": "stream",
     "text": [
      "C:\\Users\\Azzy\\AppData\\Local\\Continuum\\anaconda3\\lib\\site-packages\\sklearn\\metrics\\_classification.py:1248: UndefinedMetricWarning: Precision is ill-defined and being set to 0.0 due to no predicted samples. Use `zero_division` parameter to control this behavior.\n",
      "  _warn_prf(average, modifier, msg_start, len(result))\n"
     ]
    },
    {
     "name": "stdout",
     "output_type": "stream",
     "text": [
      "Fitting 5 folds for each of 3 candidates, totalling 15 fits\n",
      "Fitting 5 folds for each of 1 candidates, totalling 5 fits\n"
     ]
    },
    {
     "name": "stderr",
     "output_type": "stream",
     "text": [
      "C:\\Users\\Azzy\\AppData\\Local\\Continuum\\anaconda3\\lib\\site-packages\\sklearn\\metrics\\_classification.py:1248: UndefinedMetricWarning: Precision is ill-defined and being set to 0.0 due to no predicted samples. Use `zero_division` parameter to control this behavior.\n",
      "  _warn_prf(average, modifier, msg_start, len(result))\n"
     ]
    },
    {
     "name": "stdout",
     "output_type": "stream",
     "text": [
      "Fitting 5 folds for each of 3 candidates, totalling 15 fits\n",
      "Fitting 5 folds for each of 1 candidates, totalling 5 fits\n"
     ]
    },
    {
     "name": "stderr",
     "output_type": "stream",
     "text": [
      "C:\\Users\\Azzy\\AppData\\Local\\Continuum\\anaconda3\\lib\\site-packages\\sklearn\\metrics\\_classification.py:1248: UndefinedMetricWarning: Precision is ill-defined and being set to 0.0 due to no predicted samples. Use `zero_division` parameter to control this behavior.\n",
      "  _warn_prf(average, modifier, msg_start, len(result))\n"
     ]
    },
    {
     "name": "stdout",
     "output_type": "stream",
     "text": [
      "Fitting 5 folds for each of 3 candidates, totalling 15 fits\n",
      "Fitting 5 folds for each of 1 candidates, totalling 5 fits\n"
     ]
    },
    {
     "name": "stderr",
     "output_type": "stream",
     "text": [
      "C:\\Users\\Azzy\\AppData\\Local\\Continuum\\anaconda3\\lib\\site-packages\\sklearn\\metrics\\_classification.py:1248: UndefinedMetricWarning: Precision is ill-defined and being set to 0.0 due to no predicted samples. Use `zero_division` parameter to control this behavior.\n",
      "  _warn_prf(average, modifier, msg_start, len(result))\n"
     ]
    },
    {
     "name": "stdout",
     "output_type": "stream",
     "text": [
      "Fitting 5 folds for each of 3 candidates, totalling 15 fits\n",
      "Fitting 5 folds for each of 1 candidates, totalling 5 fits\n"
     ]
    },
    {
     "name": "stderr",
     "output_type": "stream",
     "text": [
      "C:\\Users\\Azzy\\AppData\\Local\\Continuum\\anaconda3\\lib\\site-packages\\sklearn\\metrics\\_classification.py:1248: UndefinedMetricWarning: Precision is ill-defined and being set to 0.0 due to no predicted samples. Use `zero_division` parameter to control this behavior.\n",
      "  _warn_prf(average, modifier, msg_start, len(result))\n"
     ]
    },
    {
     "name": "stdout",
     "output_type": "stream",
     "text": [
      "Fitting 5 folds for each of 3 candidates, totalling 15 fits\n",
      "Fitting 5 folds for each of 1 candidates, totalling 5 fits\n"
     ]
    },
    {
     "name": "stderr",
     "output_type": "stream",
     "text": [
      "C:\\Users\\Azzy\\AppData\\Local\\Continuum\\anaconda3\\lib\\site-packages\\sklearn\\metrics\\_classification.py:1248: UndefinedMetricWarning: Precision is ill-defined and being set to 0.0 due to no predicted samples. Use `zero_division` parameter to control this behavior.\n",
      "  _warn_prf(average, modifier, msg_start, len(result))\n"
     ]
    },
    {
     "name": "stdout",
     "output_type": "stream",
     "text": [
      "Fitting 5 folds for each of 3 candidates, totalling 15 fits\n",
      "Fitting 5 folds for each of 1 candidates, totalling 5 fits\n"
     ]
    },
    {
     "name": "stderr",
     "output_type": "stream",
     "text": [
      "C:\\Users\\Azzy\\AppData\\Local\\Continuum\\anaconda3\\lib\\site-packages\\sklearn\\metrics\\_classification.py:1248: UndefinedMetricWarning: Precision is ill-defined and being set to 0.0 due to no predicted samples. Use `zero_division` parameter to control this behavior.\n",
      "  _warn_prf(average, modifier, msg_start, len(result))\n"
     ]
    },
    {
     "name": "stdout",
     "output_type": "stream",
     "text": [
      "Fitting 5 folds for each of 3 candidates, totalling 15 fits\n",
      "Fitting 5 folds for each of 1 candidates, totalling 5 fits\n"
     ]
    },
    {
     "name": "stderr",
     "output_type": "stream",
     "text": [
      "C:\\Users\\Azzy\\AppData\\Local\\Continuum\\anaconda3\\lib\\site-packages\\sklearn\\metrics\\_classification.py:1248: UndefinedMetricWarning: Precision is ill-defined and being set to 0.0 due to no predicted samples. Use `zero_division` parameter to control this behavior.\n",
      "  _warn_prf(average, modifier, msg_start, len(result))\n"
     ]
    },
    {
     "name": "stdout",
     "output_type": "stream",
     "text": [
      "Fitting 5 folds for each of 3 candidates, totalling 15 fits\n",
      "Fitting 5 folds for each of 1 candidates, totalling 5 fits\n"
     ]
    },
    {
     "name": "stderr",
     "output_type": "stream",
     "text": [
      "C:\\Users\\Azzy\\AppData\\Local\\Continuum\\anaconda3\\lib\\site-packages\\sklearn\\metrics\\_classification.py:1248: UndefinedMetricWarning: Precision is ill-defined and being set to 0.0 due to no predicted samples. Use `zero_division` parameter to control this behavior.\n",
      "  _warn_prf(average, modifier, msg_start, len(result))\n"
     ]
    },
    {
     "name": "stdout",
     "output_type": "stream",
     "text": [
      "Fitting 5 folds for each of 3 candidates, totalling 15 fits\n",
      "Fitting 5 folds for each of 1 candidates, totalling 5 fits\n"
     ]
    },
    {
     "name": "stderr",
     "output_type": "stream",
     "text": [
      "C:\\Users\\Azzy\\AppData\\Local\\Continuum\\anaconda3\\lib\\site-packages\\sklearn\\metrics\\_classification.py:1248: UndefinedMetricWarning: Precision is ill-defined and being set to 0.0 due to no predicted samples. Use `zero_division` parameter to control this behavior.\n",
      "  _warn_prf(average, modifier, msg_start, len(result))\n"
     ]
    },
    {
     "name": "stdout",
     "output_type": "stream",
     "text": [
      "Fitting 5 folds for each of 3 candidates, totalling 15 fits\n",
      "Fitting 5 folds for each of 1 candidates, totalling 5 fits\n"
     ]
    },
    {
     "name": "stderr",
     "output_type": "stream",
     "text": [
      "C:\\Users\\Azzy\\AppData\\Local\\Continuum\\anaconda3\\lib\\site-packages\\sklearn\\metrics\\_classification.py:1248: UndefinedMetricWarning: Precision is ill-defined and being set to 0.0 due to no predicted samples. Use `zero_division` parameter to control this behavior.\n",
      "  _warn_prf(average, modifier, msg_start, len(result))\n"
     ]
    },
    {
     "name": "stdout",
     "output_type": "stream",
     "text": [
      "Fitting 5 folds for each of 3 candidates, totalling 15 fits\n",
      "Fitting 5 folds for each of 1 candidates, totalling 5 fits\n"
     ]
    },
    {
     "name": "stderr",
     "output_type": "stream",
     "text": [
      "C:\\Users\\Azzy\\AppData\\Local\\Continuum\\anaconda3\\lib\\site-packages\\sklearn\\metrics\\_classification.py:1248: UndefinedMetricWarning: Precision is ill-defined and being set to 0.0 due to no predicted samples. Use `zero_division` parameter to control this behavior.\n",
      "  _warn_prf(average, modifier, msg_start, len(result))\n"
     ]
    },
    {
     "name": "stdout",
     "output_type": "stream",
     "text": [
      "Fitting 5 folds for each of 3 candidates, totalling 15 fits\n",
      "Fitting 5 folds for each of 1 candidates, totalling 5 fits\n"
     ]
    },
    {
     "name": "stderr",
     "output_type": "stream",
     "text": [
      "C:\\Users\\Azzy\\AppData\\Local\\Continuum\\anaconda3\\lib\\site-packages\\sklearn\\metrics\\_classification.py:1248: UndefinedMetricWarning: Precision is ill-defined and being set to 0.0 due to no predicted samples. Use `zero_division` parameter to control this behavior.\n",
      "  _warn_prf(average, modifier, msg_start, len(result))\n"
     ]
    },
    {
     "name": "stdout",
     "output_type": "stream",
     "text": [
      "Fitting 5 folds for each of 3 candidates, totalling 15 fits\n",
      "Fitting 5 folds for each of 1 candidates, totalling 5 fits\n"
     ]
    },
    {
     "name": "stderr",
     "output_type": "stream",
     "text": [
      "C:\\Users\\Azzy\\AppData\\Local\\Continuum\\anaconda3\\lib\\site-packages\\sklearn\\metrics\\_classification.py:1248: UndefinedMetricWarning: Precision is ill-defined and being set to 0.0 due to no predicted samples. Use `zero_division` parameter to control this behavior.\n",
      "  _warn_prf(average, modifier, msg_start, len(result))\n"
     ]
    },
    {
     "name": "stdout",
     "output_type": "stream",
     "text": [
      "Fitting 5 folds for each of 3 candidates, totalling 15 fits\n",
      "Fitting 5 folds for each of 1 candidates, totalling 5 fits\n"
     ]
    },
    {
     "name": "stderr",
     "output_type": "stream",
     "text": [
      "C:\\Users\\Azzy\\AppData\\Local\\Continuum\\anaconda3\\lib\\site-packages\\sklearn\\metrics\\_classification.py:1248: UndefinedMetricWarning: Precision is ill-defined and being set to 0.0 due to no predicted samples. Use `zero_division` parameter to control this behavior.\n",
      "  _warn_prf(average, modifier, msg_start, len(result))\n"
     ]
    },
    {
     "name": "stdout",
     "output_type": "stream",
     "text": [
      "Fitting 5 folds for each of 3 candidates, totalling 15 fits\n",
      "Fitting 5 folds for each of 1 candidates, totalling 5 fits\n",
      "Fitting 5 folds for each of 3 candidates, totalling 15 fits\n",
      "Fitting 5 folds for each of 1 candidates, totalling 5 fits\n"
     ]
    },
    {
     "name": "stderr",
     "output_type": "stream",
     "text": [
      "C:\\Users\\Azzy\\AppData\\Local\\Continuum\\anaconda3\\lib\\site-packages\\sklearn\\metrics\\_classification.py:1248: UndefinedMetricWarning: Precision is ill-defined and being set to 0.0 due to no predicted samples. Use `zero_division` parameter to control this behavior.\n",
      "  _warn_prf(average, modifier, msg_start, len(result))\n"
     ]
    },
    {
     "name": "stdout",
     "output_type": "stream",
     "text": [
      "Fitting 5 folds for each of 3 candidates, totalling 15 fits\n",
      "Fitting 5 folds for each of 1 candidates, totalling 5 fits\n"
     ]
    },
    {
     "name": "stderr",
     "output_type": "stream",
     "text": [
      "C:\\Users\\Azzy\\AppData\\Local\\Continuum\\anaconda3\\lib\\site-packages\\sklearn\\metrics\\_classification.py:1248: UndefinedMetricWarning: Precision is ill-defined and being set to 0.0 due to no predicted samples. Use `zero_division` parameter to control this behavior.\n",
      "  _warn_prf(average, modifier, msg_start, len(result))\n"
     ]
    },
    {
     "name": "stdout",
     "output_type": "stream",
     "text": [
      "Fitting 5 folds for each of 3 candidates, totalling 15 fits\n",
      "Fitting 5 folds for each of 1 candidates, totalling 5 fits\n"
     ]
    },
    {
     "name": "stderr",
     "output_type": "stream",
     "text": [
      "C:\\Users\\Azzy\\AppData\\Local\\Continuum\\anaconda3\\lib\\site-packages\\sklearn\\metrics\\_classification.py:1248: UndefinedMetricWarning: Precision is ill-defined and being set to 0.0 due to no predicted samples. Use `zero_division` parameter to control this behavior.\n",
      "  _warn_prf(average, modifier, msg_start, len(result))\n"
     ]
    },
    {
     "name": "stdout",
     "output_type": "stream",
     "text": [
      "Fitting 5 folds for each of 3 candidates, totalling 15 fits\n",
      "Fitting 5 folds for each of 1 candidates, totalling 5 fits\n"
     ]
    },
    {
     "name": "stderr",
     "output_type": "stream",
     "text": [
      "C:\\Users\\Azzy\\AppData\\Local\\Continuum\\anaconda3\\lib\\site-packages\\sklearn\\metrics\\_classification.py:1248: UndefinedMetricWarning: Precision is ill-defined and being set to 0.0 due to no predicted samples. Use `zero_division` parameter to control this behavior.\n",
      "  _warn_prf(average, modifier, msg_start, len(result))\n"
     ]
    },
    {
     "name": "stdout",
     "output_type": "stream",
     "text": [
      "Fitting 5 folds for each of 3 candidates, totalling 15 fits\n",
      "Fitting 5 folds for each of 1 candidates, totalling 5 fits\n"
     ]
    },
    {
     "name": "stderr",
     "output_type": "stream",
     "text": [
      "C:\\Users\\Azzy\\AppData\\Local\\Continuum\\anaconda3\\lib\\site-packages\\sklearn\\metrics\\_classification.py:1248: UndefinedMetricWarning: Precision is ill-defined and being set to 0.0 due to no predicted samples. Use `zero_division` parameter to control this behavior.\n",
      "  _warn_prf(average, modifier, msg_start, len(result))\n"
     ]
    },
    {
     "name": "stdout",
     "output_type": "stream",
     "text": [
      "Fitting 5 folds for each of 3 candidates, totalling 15 fits\n",
      "Fitting 5 folds for each of 1 candidates, totalling 5 fits\n"
     ]
    },
    {
     "name": "stderr",
     "output_type": "stream",
     "text": [
      "C:\\Users\\Azzy\\AppData\\Local\\Continuum\\anaconda3\\lib\\site-packages\\sklearn\\metrics\\_classification.py:1248: UndefinedMetricWarning: Precision is ill-defined and being set to 0.0 due to no predicted samples. Use `zero_division` parameter to control this behavior.\n",
      "  _warn_prf(average, modifier, msg_start, len(result))\n"
     ]
    },
    {
     "name": "stdout",
     "output_type": "stream",
     "text": [
      "Fitting 5 folds for each of 3 candidates, totalling 15 fits\n",
      "Fitting 5 folds for each of 1 candidates, totalling 5 fits\n"
     ]
    },
    {
     "name": "stderr",
     "output_type": "stream",
     "text": [
      "C:\\Users\\Azzy\\AppData\\Local\\Continuum\\anaconda3\\lib\\site-packages\\sklearn\\metrics\\_classification.py:1248: UndefinedMetricWarning: Precision is ill-defined and being set to 0.0 due to no predicted samples. Use `zero_division` parameter to control this behavior.\n",
      "  _warn_prf(average, modifier, msg_start, len(result))\n"
     ]
    },
    {
     "name": "stdout",
     "output_type": "stream",
     "text": [
      "Fitting 5 folds for each of 3 candidates, totalling 15 fits\n",
      "Fitting 5 folds for each of 1 candidates, totalling 5 fits\n",
      "Fitting 5 folds for each of 3 candidates, totalling 15 fits\n",
      "Fitting 5 folds for each of 1 candidates, totalling 5 fits\n"
     ]
    },
    {
     "name": "stderr",
     "output_type": "stream",
     "text": [
      "C:\\Users\\Azzy\\AppData\\Local\\Continuum\\anaconda3\\lib\\site-packages\\joblib\\externals\\loky\\process_executor.py:706: UserWarning: A worker stopped while some jobs were given to the executor. This can be caused by a too short worker timeout or by a memory leak.\n",
      "  \"timeout or by a memory leak.\", UserWarning\n",
      "C:\\Users\\Azzy\\AppData\\Local\\Continuum\\anaconda3\\lib\\site-packages\\sklearn\\metrics\\_classification.py:1248: UndefinedMetricWarning: Precision is ill-defined and being set to 0.0 due to no predicted samples. Use `zero_division` parameter to control this behavior.\n",
      "  _warn_prf(average, modifier, msg_start, len(result))\n"
     ]
    },
    {
     "name": "stdout",
     "output_type": "stream",
     "text": [
      "Fitting 5 folds for each of 3 candidates, totalling 15 fits\n",
      "Fitting 5 folds for each of 1 candidates, totalling 5 fits\n"
     ]
    },
    {
     "name": "stderr",
     "output_type": "stream",
     "text": [
      "C:\\Users\\Azzy\\AppData\\Local\\Continuum\\anaconda3\\lib\\site-packages\\sklearn\\metrics\\_classification.py:1248: UndefinedMetricWarning: Precision is ill-defined and being set to 0.0 due to no predicted samples. Use `zero_division` parameter to control this behavior.\n",
      "  _warn_prf(average, modifier, msg_start, len(result))\n"
     ]
    },
    {
     "name": "stdout",
     "output_type": "stream",
     "text": [
      "Fitting 5 folds for each of 3 candidates, totalling 15 fits\n",
      "Fitting 5 folds for each of 1 candidates, totalling 5 fits\n"
     ]
    },
    {
     "name": "stderr",
     "output_type": "stream",
     "text": [
      "C:\\Users\\Azzy\\AppData\\Local\\Continuum\\anaconda3\\lib\\site-packages\\sklearn\\metrics\\_classification.py:1248: UndefinedMetricWarning: Precision is ill-defined and being set to 0.0 due to no predicted samples. Use `zero_division` parameter to control this behavior.\n",
      "  _warn_prf(average, modifier, msg_start, len(result))\n"
     ]
    },
    {
     "name": "stdout",
     "output_type": "stream",
     "text": [
      "Fitting 5 folds for each of 3 candidates, totalling 15 fits\n",
      "Fitting 5 folds for each of 1 candidates, totalling 5 fits\n"
     ]
    },
    {
     "name": "stderr",
     "output_type": "stream",
     "text": [
      "C:\\Users\\Azzy\\AppData\\Local\\Continuum\\anaconda3\\lib\\site-packages\\sklearn\\metrics\\_classification.py:1248: UndefinedMetricWarning: Precision is ill-defined and being set to 0.0 due to no predicted samples. Use `zero_division` parameter to control this behavior.\n",
      "  _warn_prf(average, modifier, msg_start, len(result))\n"
     ]
    },
    {
     "name": "stdout",
     "output_type": "stream",
     "text": [
      "Fitting 5 folds for each of 3 candidates, totalling 15 fits\n",
      "Fitting 5 folds for each of 1 candidates, totalling 5 fits\n"
     ]
    },
    {
     "name": "stderr",
     "output_type": "stream",
     "text": [
      "C:\\Users\\Azzy\\AppData\\Local\\Continuum\\anaconda3\\lib\\site-packages\\sklearn\\metrics\\_classification.py:1248: UndefinedMetricWarning: Precision is ill-defined and being set to 0.0 due to no predicted samples. Use `zero_division` parameter to control this behavior.\n",
      "  _warn_prf(average, modifier, msg_start, len(result))\n"
     ]
    },
    {
     "name": "stdout",
     "output_type": "stream",
     "text": [
      "Fitting 5 folds for each of 3 candidates, totalling 15 fits\n",
      "Fitting 5 folds for each of 1 candidates, totalling 5 fits\n"
     ]
    },
    {
     "name": "stderr",
     "output_type": "stream",
     "text": [
      "C:\\Users\\Azzy\\AppData\\Local\\Continuum\\anaconda3\\lib\\site-packages\\sklearn\\metrics\\_classification.py:1248: UndefinedMetricWarning: Precision is ill-defined and being set to 0.0 due to no predicted samples. Use `zero_division` parameter to control this behavior.\n",
      "  _warn_prf(average, modifier, msg_start, len(result))\n"
     ]
    },
    {
     "name": "stdout",
     "output_type": "stream",
     "text": [
      "Fitting 5 folds for each of 3 candidates, totalling 15 fits\n",
      "Fitting 5 folds for each of 1 candidates, totalling 5 fits\n"
     ]
    },
    {
     "name": "stderr",
     "output_type": "stream",
     "text": [
      "C:\\Users\\Azzy\\AppData\\Local\\Continuum\\anaconda3\\lib\\site-packages\\sklearn\\metrics\\_classification.py:1248: UndefinedMetricWarning: Precision is ill-defined and being set to 0.0 due to no predicted samples. Use `zero_division` parameter to control this behavior.\n",
      "  _warn_prf(average, modifier, msg_start, len(result))\n"
     ]
    },
    {
     "name": "stdout",
     "output_type": "stream",
     "text": [
      "Fitting 5 folds for each of 3 candidates, totalling 15 fits\n",
      "Fitting 5 folds for each of 1 candidates, totalling 5 fits\n"
     ]
    },
    {
     "name": "stderr",
     "output_type": "stream",
     "text": [
      "C:\\Users\\Azzy\\AppData\\Local\\Continuum\\anaconda3\\lib\\site-packages\\sklearn\\metrics\\_classification.py:1248: UndefinedMetricWarning: Precision is ill-defined and being set to 0.0 due to no predicted samples. Use `zero_division` parameter to control this behavior.\n",
      "  _warn_prf(average, modifier, msg_start, len(result))\n"
     ]
    },
    {
     "name": "stdout",
     "output_type": "stream",
     "text": [
      "Fitting 5 folds for each of 3 candidates, totalling 15 fits\n",
      "Fitting 5 folds for each of 1 candidates, totalling 5 fits\n"
     ]
    },
    {
     "name": "stderr",
     "output_type": "stream",
     "text": [
      "C:\\Users\\Azzy\\AppData\\Local\\Continuum\\anaconda3\\lib\\site-packages\\sklearn\\metrics\\_classification.py:1248: UndefinedMetricWarning: Precision is ill-defined and being set to 0.0 due to no predicted samples. Use `zero_division` parameter to control this behavior.\n",
      "  _warn_prf(average, modifier, msg_start, len(result))\n"
     ]
    },
    {
     "name": "stdout",
     "output_type": "stream",
     "text": [
      "Fitting 5 folds for each of 3 candidates, totalling 15 fits\n",
      "Fitting 5 folds for each of 1 candidates, totalling 5 fits\n"
     ]
    },
    {
     "name": "stderr",
     "output_type": "stream",
     "text": [
      "C:\\Users\\Azzy\\AppData\\Local\\Continuum\\anaconda3\\lib\\site-packages\\sklearn\\metrics\\_classification.py:1248: UndefinedMetricWarning: Precision is ill-defined and being set to 0.0 due to no predicted samples. Use `zero_division` parameter to control this behavior.\n",
      "  _warn_prf(average, modifier, msg_start, len(result))\n"
     ]
    },
    {
     "name": "stdout",
     "output_type": "stream",
     "text": [
      "Fitting 5 folds for each of 3 candidates, totalling 15 fits\n",
      "Fitting 5 folds for each of 1 candidates, totalling 5 fits\n"
     ]
    },
    {
     "name": "stderr",
     "output_type": "stream",
     "text": [
      "C:\\Users\\Azzy\\AppData\\Local\\Continuum\\anaconda3\\lib\\site-packages\\sklearn\\metrics\\_classification.py:1248: UndefinedMetricWarning: Precision is ill-defined and being set to 0.0 due to no predicted samples. Use `zero_division` parameter to control this behavior.\n",
      "  _warn_prf(average, modifier, msg_start, len(result))\n"
     ]
    },
    {
     "name": "stdout",
     "output_type": "stream",
     "text": [
      "Fitting 5 folds for each of 3 candidates, totalling 15 fits\n",
      "Fitting 5 folds for each of 1 candidates, totalling 5 fits\n"
     ]
    },
    {
     "name": "stderr",
     "output_type": "stream",
     "text": [
      "C:\\Users\\Azzy\\AppData\\Local\\Continuum\\anaconda3\\lib\\site-packages\\joblib\\externals\\loky\\process_executor.py:706: UserWarning: A worker stopped while some jobs were given to the executor. This can be caused by a too short worker timeout or by a memory leak.\n",
      "  \"timeout or by a memory leak.\", UserWarning\n",
      "C:\\Users\\Azzy\\AppData\\Local\\Continuum\\anaconda3\\lib\\site-packages\\sklearn\\metrics\\_classification.py:1248: UndefinedMetricWarning: Precision is ill-defined and being set to 0.0 due to no predicted samples. Use `zero_division` parameter to control this behavior.\n",
      "  _warn_prf(average, modifier, msg_start, len(result))\n"
     ]
    },
    {
     "name": "stdout",
     "output_type": "stream",
     "text": [
      "Fitting 5 folds for each of 3 candidates, totalling 15 fits\n",
      "Fitting 5 folds for each of 1 candidates, totalling 5 fits\n"
     ]
    },
    {
     "name": "stderr",
     "output_type": "stream",
     "text": [
      "C:\\Users\\Azzy\\AppData\\Local\\Continuum\\anaconda3\\lib\\site-packages\\sklearn\\metrics\\_classification.py:1248: UndefinedMetricWarning: Precision is ill-defined and being set to 0.0 due to no predicted samples. Use `zero_division` parameter to control this behavior.\n",
      "  _warn_prf(average, modifier, msg_start, len(result))\n"
     ]
    },
    {
     "name": "stdout",
     "output_type": "stream",
     "text": [
      "Fitting 5 folds for each of 3 candidates, totalling 15 fits\n",
      "Fitting 5 folds for each of 1 candidates, totalling 5 fits\n"
     ]
    },
    {
     "name": "stderr",
     "output_type": "stream",
     "text": [
      "C:\\Users\\Azzy\\AppData\\Local\\Continuum\\anaconda3\\lib\\site-packages\\sklearn\\metrics\\_classification.py:1248: UndefinedMetricWarning: Precision is ill-defined and being set to 0.0 due to no predicted samples. Use `zero_division` parameter to control this behavior.\n",
      "  _warn_prf(average, modifier, msg_start, len(result))\n"
     ]
    },
    {
     "name": "stdout",
     "output_type": "stream",
     "text": [
      "Fitting 5 folds for each of 3 candidates, totalling 15 fits\n",
      "Fitting 5 folds for each of 1 candidates, totalling 5 fits\n"
     ]
    },
    {
     "name": "stderr",
     "output_type": "stream",
     "text": [
      "C:\\Users\\Azzy\\AppData\\Local\\Continuum\\anaconda3\\lib\\site-packages\\sklearn\\metrics\\_classification.py:1248: UndefinedMetricWarning: Precision is ill-defined and being set to 0.0 due to no predicted samples. Use `zero_division` parameter to control this behavior.\n",
      "  _warn_prf(average, modifier, msg_start, len(result))\n"
     ]
    },
    {
     "name": "stdout",
     "output_type": "stream",
     "text": [
      "Fitting 5 folds for each of 3 candidates, totalling 15 fits\n",
      "Fitting 5 folds for each of 1 candidates, totalling 5 fits\n"
     ]
    },
    {
     "name": "stderr",
     "output_type": "stream",
     "text": [
      "C:\\Users\\Azzy\\AppData\\Local\\Continuum\\anaconda3\\lib\\site-packages\\sklearn\\metrics\\_classification.py:1248: UndefinedMetricWarning: Precision is ill-defined and being set to 0.0 due to no predicted samples. Use `zero_division` parameter to control this behavior.\n",
      "  _warn_prf(average, modifier, msg_start, len(result))\n"
     ]
    },
    {
     "name": "stdout",
     "output_type": "stream",
     "text": [
      "Fitting 5 folds for each of 3 candidates, totalling 15 fits\n",
      "Fitting 5 folds for each of 1 candidates, totalling 5 fits\n"
     ]
    },
    {
     "name": "stderr",
     "output_type": "stream",
     "text": [
      "C:\\Users\\Azzy\\AppData\\Local\\Continuum\\anaconda3\\lib\\site-packages\\sklearn\\metrics\\_classification.py:1248: UndefinedMetricWarning: Precision is ill-defined and being set to 0.0 due to no predicted samples. Use `zero_division` parameter to control this behavior.\n",
      "  _warn_prf(average, modifier, msg_start, len(result))\n"
     ]
    },
    {
     "name": "stdout",
     "output_type": "stream",
     "text": [
      "Fitting 5 folds for each of 3 candidates, totalling 15 fits\n",
      "Fitting 5 folds for each of 1 candidates, totalling 5 fits\n"
     ]
    },
    {
     "name": "stderr",
     "output_type": "stream",
     "text": [
      "C:\\Users\\Azzy\\AppData\\Local\\Continuum\\anaconda3\\lib\\site-packages\\sklearn\\metrics\\_classification.py:1248: UndefinedMetricWarning: Precision is ill-defined and being set to 0.0 due to no predicted samples. Use `zero_division` parameter to control this behavior.\n",
      "  _warn_prf(average, modifier, msg_start, len(result))\n"
     ]
    },
    {
     "name": "stdout",
     "output_type": "stream",
     "text": [
      "Fitting 5 folds for each of 3 candidates, totalling 15 fits\n",
      "Fitting 5 folds for each of 1 candidates, totalling 5 fits\n"
     ]
    },
    {
     "name": "stderr",
     "output_type": "stream",
     "text": [
      "C:\\Users\\Azzy\\AppData\\Local\\Continuum\\anaconda3\\lib\\site-packages\\sklearn\\metrics\\_classification.py:1248: UndefinedMetricWarning: Precision is ill-defined and being set to 0.0 due to no predicted samples. Use `zero_division` parameter to control this behavior.\n",
      "  _warn_prf(average, modifier, msg_start, len(result))\n"
     ]
    },
    {
     "name": "stdout",
     "output_type": "stream",
     "text": [
      "Fitting 5 folds for each of 3 candidates, totalling 15 fits\n",
      "Fitting 5 folds for each of 1 candidates, totalling 5 fits\n"
     ]
    },
    {
     "name": "stderr",
     "output_type": "stream",
     "text": [
      "C:\\Users\\Azzy\\AppData\\Local\\Continuum\\anaconda3\\lib\\site-packages\\sklearn\\metrics\\_classification.py:1248: UndefinedMetricWarning: Precision is ill-defined and being set to 0.0 due to no predicted samples. Use `zero_division` parameter to control this behavior.\n",
      "  _warn_prf(average, modifier, msg_start, len(result))\n"
     ]
    },
    {
     "name": "stdout",
     "output_type": "stream",
     "text": [
      "Fitting 5 folds for each of 3 candidates, totalling 15 fits\n",
      "Fitting 5 folds for each of 1 candidates, totalling 5 fits\n"
     ]
    },
    {
     "name": "stderr",
     "output_type": "stream",
     "text": [
      "C:\\Users\\Azzy\\AppData\\Local\\Continuum\\anaconda3\\lib\\site-packages\\sklearn\\metrics\\_classification.py:1248: UndefinedMetricWarning: Precision is ill-defined and being set to 0.0 due to no predicted samples. Use `zero_division` parameter to control this behavior.\n",
      "  _warn_prf(average, modifier, msg_start, len(result))\n"
     ]
    },
    {
     "name": "stdout",
     "output_type": "stream",
     "text": [
      "Fitting 5 folds for each of 3 candidates, totalling 15 fits\n",
      "Fitting 5 folds for each of 1 candidates, totalling 5 fits\n"
     ]
    },
    {
     "name": "stderr",
     "output_type": "stream",
     "text": [
      "C:\\Users\\Azzy\\AppData\\Local\\Continuum\\anaconda3\\lib\\site-packages\\sklearn\\metrics\\_classification.py:1248: UndefinedMetricWarning: Precision is ill-defined and being set to 0.0 due to no predicted samples. Use `zero_division` parameter to control this behavior.\n",
      "  _warn_prf(average, modifier, msg_start, len(result))\n"
     ]
    },
    {
     "name": "stdout",
     "output_type": "stream",
     "text": [
      "Fitting 5 folds for each of 3 candidates, totalling 15 fits\n",
      "Fitting 5 folds for each of 1 candidates, totalling 5 fits\n"
     ]
    },
    {
     "name": "stderr",
     "output_type": "stream",
     "text": [
      "C:\\Users\\Azzy\\AppData\\Local\\Continuum\\anaconda3\\lib\\site-packages\\joblib\\externals\\loky\\process_executor.py:706: UserWarning: A worker stopped while some jobs were given to the executor. This can be caused by a too short worker timeout or by a memory leak.\n",
      "  \"timeout or by a memory leak.\", UserWarning\n",
      "C:\\Users\\Azzy\\AppData\\Local\\Continuum\\anaconda3\\lib\\site-packages\\sklearn\\metrics\\_classification.py:1248: UndefinedMetricWarning: Precision is ill-defined and being set to 0.0 due to no predicted samples. Use `zero_division` parameter to control this behavior.\n",
      "  _warn_prf(average, modifier, msg_start, len(result))\n"
     ]
    },
    {
     "name": "stdout",
     "output_type": "stream",
     "text": [
      "Fitting 5 folds for each of 3 candidates, totalling 15 fits\n",
      "Fitting 5 folds for each of 1 candidates, totalling 5 fits\n"
     ]
    },
    {
     "name": "stderr",
     "output_type": "stream",
     "text": [
      "C:\\Users\\Azzy\\AppData\\Local\\Continuum\\anaconda3\\lib\\site-packages\\sklearn\\metrics\\_classification.py:1248: UndefinedMetricWarning: Precision is ill-defined and being set to 0.0 due to no predicted samples. Use `zero_division` parameter to control this behavior.\n",
      "  _warn_prf(average, modifier, msg_start, len(result))\n"
     ]
    },
    {
     "name": "stdout",
     "output_type": "stream",
     "text": [
      "Fitting 5 folds for each of 3 candidates, totalling 15 fits\n",
      "Fitting 5 folds for each of 1 candidates, totalling 5 fits\n"
     ]
    },
    {
     "name": "stderr",
     "output_type": "stream",
     "text": [
      "C:\\Users\\Azzy\\AppData\\Local\\Continuum\\anaconda3\\lib\\site-packages\\sklearn\\metrics\\_classification.py:1248: UndefinedMetricWarning: Precision is ill-defined and being set to 0.0 due to no predicted samples. Use `zero_division` parameter to control this behavior.\n",
      "  _warn_prf(average, modifier, msg_start, len(result))\n"
     ]
    },
    {
     "name": "stdout",
     "output_type": "stream",
     "text": [
      "Fitting 5 folds for each of 3 candidates, totalling 15 fits\n",
      "Fitting 5 folds for each of 1 candidates, totalling 5 fits\n"
     ]
    },
    {
     "name": "stderr",
     "output_type": "stream",
     "text": [
      "C:\\Users\\Azzy\\AppData\\Local\\Continuum\\anaconda3\\lib\\site-packages\\sklearn\\metrics\\_classification.py:1248: UndefinedMetricWarning: Precision is ill-defined and being set to 0.0 due to no predicted samples. Use `zero_division` parameter to control this behavior.\n",
      "  _warn_prf(average, modifier, msg_start, len(result))\n"
     ]
    },
    {
     "name": "stdout",
     "output_type": "stream",
     "text": [
      "Fitting 5 folds for each of 3 candidates, totalling 15 fits\n",
      "Fitting 5 folds for each of 1 candidates, totalling 5 fits\n",
      "Fitting 5 folds for each of 3 candidates, totalling 15 fits\n",
      "Fitting 5 folds for each of 1 candidates, totalling 5 fits\n"
     ]
    },
    {
     "name": "stderr",
     "output_type": "stream",
     "text": [
      "C:\\Users\\Azzy\\AppData\\Local\\Continuum\\anaconda3\\lib\\site-packages\\sklearn\\metrics\\_classification.py:1248: UndefinedMetricWarning: Precision is ill-defined and being set to 0.0 due to no predicted samples. Use `zero_division` parameter to control this behavior.\n",
      "  _warn_prf(average, modifier, msg_start, len(result))\n"
     ]
    },
    {
     "name": "stdout",
     "output_type": "stream",
     "text": [
      "Fitting 5 folds for each of 3 candidates, totalling 15 fits\n",
      "Fitting 5 folds for each of 1 candidates, totalling 5 fits\n"
     ]
    },
    {
     "name": "stderr",
     "output_type": "stream",
     "text": [
      "C:\\Users\\Azzy\\AppData\\Local\\Continuum\\anaconda3\\lib\\site-packages\\sklearn\\metrics\\_classification.py:1248: UndefinedMetricWarning: Precision is ill-defined and being set to 0.0 due to no predicted samples. Use `zero_division` parameter to control this behavior.\n",
      "  _warn_prf(average, modifier, msg_start, len(result))\n"
     ]
    },
    {
     "name": "stdout",
     "output_type": "stream",
     "text": [
      "Fitting 5 folds for each of 3 candidates, totalling 15 fits\n",
      "Fitting 5 folds for each of 1 candidates, totalling 5 fits\n"
     ]
    },
    {
     "name": "stderr",
     "output_type": "stream",
     "text": [
      "C:\\Users\\Azzy\\AppData\\Local\\Continuum\\anaconda3\\lib\\site-packages\\sklearn\\metrics\\_classification.py:1248: UndefinedMetricWarning: Precision is ill-defined and being set to 0.0 due to no predicted samples. Use `zero_division` parameter to control this behavior.\n",
      "  _warn_prf(average, modifier, msg_start, len(result))\n"
     ]
    },
    {
     "name": "stdout",
     "output_type": "stream",
     "text": [
      "Fitting 5 folds for each of 3 candidates, totalling 15 fits\n",
      "Fitting 5 folds for each of 1 candidates, totalling 5 fits\n"
     ]
    },
    {
     "name": "stderr",
     "output_type": "stream",
     "text": [
      "C:\\Users\\Azzy\\AppData\\Local\\Continuum\\anaconda3\\lib\\site-packages\\sklearn\\metrics\\_classification.py:1248: UndefinedMetricWarning: Precision is ill-defined and being set to 0.0 due to no predicted samples. Use `zero_division` parameter to control this behavior.\n",
      "  _warn_prf(average, modifier, msg_start, len(result))\n"
     ]
    },
    {
     "name": "stdout",
     "output_type": "stream",
     "text": [
      "Fitting 5 folds for each of 3 candidates, totalling 15 fits\n",
      "Fitting 5 folds for each of 1 candidates, totalling 5 fits\n"
     ]
    },
    {
     "name": "stderr",
     "output_type": "stream",
     "text": [
      "C:\\Users\\Azzy\\AppData\\Local\\Continuum\\anaconda3\\lib\\site-packages\\sklearn\\metrics\\_classification.py:1248: UndefinedMetricWarning: Precision is ill-defined and being set to 0.0 due to no predicted samples. Use `zero_division` parameter to control this behavior.\n",
      "  _warn_prf(average, modifier, msg_start, len(result))\n"
     ]
    },
    {
     "name": "stdout",
     "output_type": "stream",
     "text": [
      "Fitting 5 folds for each of 3 candidates, totalling 15 fits\n",
      "Fitting 5 folds for each of 1 candidates, totalling 5 fits\n"
     ]
    },
    {
     "name": "stderr",
     "output_type": "stream",
     "text": [
      "C:\\Users\\Azzy\\AppData\\Local\\Continuum\\anaconda3\\lib\\site-packages\\sklearn\\metrics\\_classification.py:1248: UndefinedMetricWarning: Precision is ill-defined and being set to 0.0 due to no predicted samples. Use `zero_division` parameter to control this behavior.\n",
      "  _warn_prf(average, modifier, msg_start, len(result))\n"
     ]
    },
    {
     "name": "stdout",
     "output_type": "stream",
     "text": [
      "Fitting 5 folds for each of 3 candidates, totalling 15 fits\n",
      "Fitting 5 folds for each of 1 candidates, totalling 5 fits\n"
     ]
    },
    {
     "name": "stderr",
     "output_type": "stream",
     "text": [
      "C:\\Users\\Azzy\\AppData\\Local\\Continuum\\anaconda3\\lib\\site-packages\\sklearn\\metrics\\_classification.py:1248: UndefinedMetricWarning: Precision is ill-defined and being set to 0.0 due to no predicted samples. Use `zero_division` parameter to control this behavior.\n",
      "  _warn_prf(average, modifier, msg_start, len(result))\n"
     ]
    },
    {
     "name": "stdout",
     "output_type": "stream",
     "text": [
      "Fitting 5 folds for each of 3 candidates, totalling 15 fits\n",
      "Fitting 5 folds for each of 1 candidates, totalling 5 fits\n"
     ]
    },
    {
     "name": "stderr",
     "output_type": "stream",
     "text": [
      "C:\\Users\\Azzy\\AppData\\Local\\Continuum\\anaconda3\\lib\\site-packages\\sklearn\\metrics\\_classification.py:1248: UndefinedMetricWarning: Precision is ill-defined and being set to 0.0 due to no predicted samples. Use `zero_division` parameter to control this behavior.\n",
      "  _warn_prf(average, modifier, msg_start, len(result))\n"
     ]
    },
    {
     "name": "stdout",
     "output_type": "stream",
     "text": [
      "Fitting 5 folds for each of 3 candidates, totalling 15 fits\n",
      "Fitting 5 folds for each of 1 candidates, totalling 5 fits\n"
     ]
    },
    {
     "name": "stderr",
     "output_type": "stream",
     "text": [
      "C:\\Users\\Azzy\\AppData\\Local\\Continuum\\anaconda3\\lib\\site-packages\\sklearn\\metrics\\_classification.py:1248: UndefinedMetricWarning: Precision is ill-defined and being set to 0.0 due to no predicted samples. Use `zero_division` parameter to control this behavior.\n",
      "  _warn_prf(average, modifier, msg_start, len(result))\n"
     ]
    },
    {
     "name": "stdout",
     "output_type": "stream",
     "text": [
      "Fitting 5 folds for each of 3 candidates, totalling 15 fits\n",
      "Fitting 5 folds for each of 1 candidates, totalling 5 fits\n"
     ]
    },
    {
     "name": "stderr",
     "output_type": "stream",
     "text": [
      "C:\\Users\\Azzy\\AppData\\Local\\Continuum\\anaconda3\\lib\\site-packages\\joblib\\externals\\loky\\process_executor.py:706: UserWarning: A worker stopped while some jobs were given to the executor. This can be caused by a too short worker timeout or by a memory leak.\n",
      "  \"timeout or by a memory leak.\", UserWarning\n",
      "C:\\Users\\Azzy\\AppData\\Local\\Continuum\\anaconda3\\lib\\site-packages\\sklearn\\metrics\\_classification.py:1248: UndefinedMetricWarning: Precision is ill-defined and being set to 0.0 due to no predicted samples. Use `zero_division` parameter to control this behavior.\n",
      "  _warn_prf(average, modifier, msg_start, len(result))\n"
     ]
    },
    {
     "name": "stdout",
     "output_type": "stream",
     "text": [
      "Fitting 5 folds for each of 3 candidates, totalling 15 fits\n",
      "Fitting 5 folds for each of 1 candidates, totalling 5 fits\n"
     ]
    },
    {
     "name": "stderr",
     "output_type": "stream",
     "text": [
      "C:\\Users\\Azzy\\AppData\\Local\\Continuum\\anaconda3\\lib\\site-packages\\sklearn\\metrics\\_classification.py:1248: UndefinedMetricWarning: Precision is ill-defined and being set to 0.0 due to no predicted samples. Use `zero_division` parameter to control this behavior.\n",
      "  _warn_prf(average, modifier, msg_start, len(result))\n"
     ]
    },
    {
     "name": "stdout",
     "output_type": "stream",
     "text": [
      "Fitting 5 folds for each of 3 candidates, totalling 15 fits\n",
      "Fitting 5 folds for each of 1 candidates, totalling 5 fits\n"
     ]
    },
    {
     "name": "stderr",
     "output_type": "stream",
     "text": [
      "C:\\Users\\Azzy\\AppData\\Local\\Continuum\\anaconda3\\lib\\site-packages\\sklearn\\metrics\\_classification.py:1248: UndefinedMetricWarning: Precision is ill-defined and being set to 0.0 due to no predicted samples. Use `zero_division` parameter to control this behavior.\n",
      "  _warn_prf(average, modifier, msg_start, len(result))\n"
     ]
    },
    {
     "name": "stdout",
     "output_type": "stream",
     "text": [
      "Fitting 5 folds for each of 3 candidates, totalling 15 fits\n",
      "Fitting 5 folds for each of 1 candidates, totalling 5 fits\n"
     ]
    },
    {
     "name": "stderr",
     "output_type": "stream",
     "text": [
      "C:\\Users\\Azzy\\AppData\\Local\\Continuum\\anaconda3\\lib\\site-packages\\sklearn\\metrics\\_classification.py:1248: UndefinedMetricWarning: Precision is ill-defined and being set to 0.0 due to no predicted samples. Use `zero_division` parameter to control this behavior.\n",
      "  _warn_prf(average, modifier, msg_start, len(result))\n"
     ]
    },
    {
     "name": "stdout",
     "output_type": "stream",
     "text": [
      "Fitting 5 folds for each of 3 candidates, totalling 15 fits\n",
      "Fitting 5 folds for each of 1 candidates, totalling 5 fits\n"
     ]
    },
    {
     "name": "stderr",
     "output_type": "stream",
     "text": [
      "C:\\Users\\Azzy\\AppData\\Local\\Continuum\\anaconda3\\lib\\site-packages\\sklearn\\metrics\\_classification.py:1248: UndefinedMetricWarning: Precision is ill-defined and being set to 0.0 due to no predicted samples. Use `zero_division` parameter to control this behavior.\n",
      "  _warn_prf(average, modifier, msg_start, len(result))\n"
     ]
    },
    {
     "name": "stdout",
     "output_type": "stream",
     "text": [
      "Fitting 5 folds for each of 3 candidates, totalling 15 fits\n",
      "Fitting 5 folds for each of 1 candidates, totalling 5 fits\n"
     ]
    },
    {
     "name": "stderr",
     "output_type": "stream",
     "text": [
      "C:\\Users\\Azzy\\AppData\\Local\\Continuum\\anaconda3\\lib\\site-packages\\sklearn\\metrics\\_classification.py:1248: UndefinedMetricWarning: Precision is ill-defined and being set to 0.0 due to no predicted samples. Use `zero_division` parameter to control this behavior.\n",
      "  _warn_prf(average, modifier, msg_start, len(result))\n"
     ]
    },
    {
     "name": "stdout",
     "output_type": "stream",
     "text": [
      "Fitting 5 folds for each of 3 candidates, totalling 15 fits\n",
      "Fitting 5 folds for each of 1 candidates, totalling 5 fits\n"
     ]
    },
    {
     "name": "stderr",
     "output_type": "stream",
     "text": [
      "C:\\Users\\Azzy\\AppData\\Local\\Continuum\\anaconda3\\lib\\site-packages\\sklearn\\metrics\\_classification.py:1248: UndefinedMetricWarning: Precision is ill-defined and being set to 0.0 due to no predicted samples. Use `zero_division` parameter to control this behavior.\n",
      "  _warn_prf(average, modifier, msg_start, len(result))\n"
     ]
    },
    {
     "name": "stdout",
     "output_type": "stream",
     "text": [
      "Fitting 5 folds for each of 3 candidates, totalling 15 fits\n",
      "Fitting 5 folds for each of 1 candidates, totalling 5 fits\n"
     ]
    },
    {
     "name": "stderr",
     "output_type": "stream",
     "text": [
      "C:\\Users\\Azzy\\AppData\\Local\\Continuum\\anaconda3\\lib\\site-packages\\sklearn\\metrics\\_classification.py:1248: UndefinedMetricWarning: Precision is ill-defined and being set to 0.0 due to no predicted samples. Use `zero_division` parameter to control this behavior.\n",
      "  _warn_prf(average, modifier, msg_start, len(result))\n"
     ]
    },
    {
     "name": "stdout",
     "output_type": "stream",
     "text": [
      "Fitting 5 folds for each of 3 candidates, totalling 15 fits\n",
      "Fitting 5 folds for each of 1 candidates, totalling 5 fits\n"
     ]
    },
    {
     "name": "stderr",
     "output_type": "stream",
     "text": [
      "C:\\Users\\Azzy\\AppData\\Local\\Continuum\\anaconda3\\lib\\site-packages\\sklearn\\metrics\\_classification.py:1248: UndefinedMetricWarning: Precision is ill-defined and being set to 0.0 due to no predicted samples. Use `zero_division` parameter to control this behavior.\n",
      "  _warn_prf(average, modifier, msg_start, len(result))\n"
     ]
    },
    {
     "name": "stdout",
     "output_type": "stream",
     "text": [
      "Fitting 5 folds for each of 3 candidates, totalling 15 fits\n",
      "Fitting 5 folds for each of 1 candidates, totalling 5 fits\n"
     ]
    },
    {
     "name": "stderr",
     "output_type": "stream",
     "text": [
      "C:\\Users\\Azzy\\AppData\\Local\\Continuum\\anaconda3\\lib\\site-packages\\sklearn\\metrics\\_classification.py:1248: UndefinedMetricWarning: Precision is ill-defined and being set to 0.0 due to no predicted samples. Use `zero_division` parameter to control this behavior.\n",
      "  _warn_prf(average, modifier, msg_start, len(result))\n"
     ]
    },
    {
     "name": "stdout",
     "output_type": "stream",
     "text": [
      "Fitting 5 folds for each of 3 candidates, totalling 15 fits\n",
      "Fitting 5 folds for each of 1 candidates, totalling 5 fits\n"
     ]
    },
    {
     "name": "stderr",
     "output_type": "stream",
     "text": [
      "C:\\Users\\Azzy\\AppData\\Local\\Continuum\\anaconda3\\lib\\site-packages\\sklearn\\metrics\\_classification.py:1248: UndefinedMetricWarning: Precision is ill-defined and being set to 0.0 due to no predicted samples. Use `zero_division` parameter to control this behavior.\n",
      "  _warn_prf(average, modifier, msg_start, len(result))\n"
     ]
    },
    {
     "name": "stdout",
     "output_type": "stream",
     "text": [
      "Fitting 5 folds for each of 3 candidates, totalling 15 fits\n",
      "Fitting 5 folds for each of 1 candidates, totalling 5 fits\n"
     ]
    },
    {
     "name": "stderr",
     "output_type": "stream",
     "text": [
      "C:\\Users\\Azzy\\AppData\\Local\\Continuum\\anaconda3\\lib\\site-packages\\sklearn\\metrics\\_classification.py:1248: UndefinedMetricWarning: Precision is ill-defined and being set to 0.0 due to no predicted samples. Use `zero_division` parameter to control this behavior.\n",
      "  _warn_prf(average, modifier, msg_start, len(result))\n"
     ]
    },
    {
     "name": "stdout",
     "output_type": "stream",
     "text": [
      "Fitting 5 folds for each of 3 candidates, totalling 15 fits\n"
     ]
    }
   ],
   "source": [
    "n=10\n",
    "k=10\n",
    "lst_results = []\n",
    "models_dic = {}\n",
    "for i in range(n):\n",
    "    train_val_x, test_x, train_val_y, test_y = train_test_split(X.values, y.values, test_size=0.2)\n",
    "    \n",
    "    kf = KFold(n_splits=k)\n",
    "    count = 0\n",
    "    for train_index, test_index in kf.split(train_val_x, train_val_y):\n",
    "#         print(\"TRAIN:\", train_index, \"VAL:\", test_index)\n",
    "        X_train, X_test = train_val_x[train_index], train_val_x[test_index]\n",
    "        y_train, y_test = train_val_y[train_index], train_val_y[test_index]\n",
    "        classifier_svm = svm.SVC(kernel='rbf')\n",
    "        clf = GridSearchCV(classifier_svm, param_grid_svm, verbose=1,  n_jobs=-1)\n",
    "        #clf = GridSearchCV(classifier_svm, verbose=1,  n_jobs=-1)\n",
    "        clf.fit(X_train, y_train)\n",
    "        output = clf.predict(X_test)\n",
    "        \n",
    "        models_dic[\"svm_{}\".format(count)] = clf\n",
    "        lst_results.append({\"model\":\"svm_{}\".format(count) , 'accuracy_score':accuracy_score(y_test,output),\n",
    "                            'Precision': [metrics.precision_score(y_test, output)],\n",
    "                            'recall': [metrics.recall_score(y_test, output)], \n",
    "                            \"F-1 score\":[f1_score(y_test, output, average='weighted')]})#+predicts\n",
    "        \n",
    "        \n",
    "        knn = KNeighborsClassifier(n_neighbors= k)#vai funcionar com k=10, mas nao ta certo\n",
    "        clf_2 = GridSearchCV(knn, param_grid_knn, verbose=1, n_jobs=-1)\n",
    "        clf_2.fit(X_train, y_train)\n",
    "        output_2 = clf_2.predict(X_test)\n",
    "        \n",
    "        models_dic[\"knn_{}\".format(count)] = clf #aqui o knn estava svm\n",
    "        lst_results.append({\"model\":\"knn_{}\".format(count) , 'accuracy_score':accuracy_score(y_test,output_2),\n",
    "                            'Precision': [metrics.precision_score(y_test, output_2)],\n",
    "                            'recall': [metrics.recall_score(y_test, output_2)], \n",
    "                            \"F-1 score\":[f1_score(y_test, output_2, average='weighted')]})#+predicts\n",
    "        \n",
    "        #na execução ficou svm, mas foi corrigido, por causa do tempo para processar, não foi alterado no notebook\n",
    "        #porem o SVM não computa precisão e recall, logo os que tem valores são knn\n",
    "        # na hora que re-executar, vai estar com o nome knn\n",
    "        # não vai alterar o resultado.\n",
    "        count = count +1\n",
    "        \n",
    "        \n",
    "        \n",
    "        \n",
    "       "
   ]
  },
  {
   "cell_type": "code",
   "execution_count": 13,
   "metadata": {},
   "outputs": [
    {
     "data": {
      "text/plain": [
       "[{'model': 'svm_0',\n",
       "  'accuracy_score': 0.7301587301587301,\n",
       "  'Precision': [0.0],\n",
       "  'recall': [0.0],\n",
       "  'F-1 score': [0.6162807630697539]},\n",
       " {'model': 'svm_0',\n",
       "  'accuracy_score': 0.8595848595848596,\n",
       "  'Precision': [0.7676767676767676],\n",
       "  'recall': [0.6877828054298643],\n",
       "  'F-1 score': [0.8570556545519394]},\n",
       " {'model': 'svm_1',\n",
       "  'accuracy_score': 0.7313797313797313,\n",
       "  'Precision': [0.0],\n",
       "  'recall': [0.0],\n",
       "  'F-1 score': [0.6179075586691947]},\n",
       " {'model': 'svm_1',\n",
       "  'accuracy_score': 0.847985347985348,\n",
       "  'Precision': [0.7442455242966752],\n",
       "  'recall': [0.6613636363636364],\n",
       "  'F-1 score': [0.8450268234370469]},\n",
       " {'model': 'svm_2',\n",
       "  'accuracy_score': 0.7417582417582418,\n",
       "  'Precision': [0.0],\n",
       "  'recall': [0.0],\n",
       "  'F-1 score': [0.6317814677436129]},\n",
       " {'model': 'svm_2',\n",
       "  'accuracy_score': 0.8473748473748474,\n",
       "  'Precision': [0.7282321899736148],\n",
       "  'recall': [0.6524822695035462],\n",
       "  'F-1 score': [0.8445453388834628]},\n",
       " {'model': 'svm_3',\n",
       "  'accuracy_score': 0.7283272283272283,\n",
       "  'Precision': [0.0],\n",
       "  'recall': [0.0],\n",
       "  'F-1 score': [0.6138427293496173]},\n",
       " {'model': 'svm_3',\n",
       "  'accuracy_score': 0.8492063492063492,\n",
       "  'Precision': [0.7438423645320197],\n",
       "  'recall': [0.6786516853932584],\n",
       "  'F-1 score': [0.8469635980348666]},\n",
       " {'model': 'svm_4',\n",
       "  'accuracy_score': 0.740989615149664,\n",
       "  'Precision': [0.0],\n",
       "  'recall': [0.0],\n",
       "  'F-1 score': [0.6307511601238894]},\n",
       " {'model': 'svm_4',\n",
       "  'accuracy_score': 0.8472816127061699,\n",
       "  'Precision': [0.7485714285714286],\n",
       "  'recall': [0.6179245283018868],\n",
       "  'F-1 score': [0.8422413534558554]},\n",
       " {'model': 'svm_5',\n",
       "  'accuracy_score': 0.7434331093463653,\n",
       "  'Precision': [0.0],\n",
       "  'recall': [0.0],\n",
       "  'F-1 score': [0.634028096758603]},\n",
       " {'model': 'svm_5',\n",
       "  'accuracy_score': 0.8503359804520464,\n",
       "  'Precision': [0.7450980392156863],\n",
       "  'recall': [0.6333333333333333],\n",
       "  'F-1 score': [0.8461565524851486]},\n",
       " {'model': 'svm_6',\n",
       "  'accuracy_score': 0.7293830177153329,\n",
       "  'Precision': [0.0],\n",
       "  'recall': [0.0],\n",
       "  'F-1 score': [0.615247843978882]},\n",
       " {'model': 'svm_6',\n",
       "  'accuracy_score': 0.8411728772144166,\n",
       "  'Precision': [0.7237163814180929],\n",
       "  'recall': [0.6681715575620768],\n",
       "  'F-1 score': [0.839118597825585]},\n",
       " {'model': 'svm_7',\n",
       "  'accuracy_score': 0.7324373854612095,\n",
       "  'Precision': [0.0],\n",
       "  'recall': [0.0],\n",
       "  'F-1 score': [0.6193176482143795]},\n",
       " {'model': 'svm_7',\n",
       "  'accuracy_score': 0.8399511301160659,\n",
       "  'Precision': [0.7444444444444445],\n",
       "  'recall': [0.6118721461187214],\n",
       "  'F-1 score': [0.8346501564870499]},\n",
       " {'model': 'svm_8',\n",
       "  'accuracy_score': 0.7434331093463653,\n",
       "  'Precision': [0.0],\n",
       "  'recall': [0.0],\n",
       "  'F-1 score': [0.634028096758603]},\n",
       " {'model': 'svm_8',\n",
       "  'accuracy_score': 0.8503359804520464,\n",
       "  'Precision': [0.7450980392156863],\n",
       "  'recall': [0.6333333333333333],\n",
       "  'F-1 score': [0.8461565524851486]},\n",
       " {'model': 'svm_9',\n",
       "  'accuracy_score': 0.7110568112400732,\n",
       "  'Precision': [0.0],\n",
       "  'recall': [0.0],\n",
       "  'F-1 score': [0.590981883815384]},\n",
       " {'model': 'svm_9',\n",
       "  'accuracy_score': 0.8387293830177154,\n",
       "  'Precision': [0.7742782152230971],\n",
       "  'recall': [0.6236786469344608],\n",
       "  'F-1 score': [0.8331081498490893]},\n",
       " {'model': 'svm_0',\n",
       "  'accuracy_score': 0.746031746031746,\n",
       "  'Precision': [0.0],\n",
       "  'recall': [0.0],\n",
       "  'F-1 score': [0.6375180375180375]},\n",
       " {'model': 'svm_0',\n",
       "  'accuracy_score': 0.8528693528693528,\n",
       "  'Precision': [0.7345844504021448],\n",
       "  'recall': [0.6586538461538461],\n",
       "  'F-1 score': [0.8501320269954428]},\n",
       " {'model': 'svm_1',\n",
       "  'accuracy_score': 0.7277167277167277,\n",
       "  'Precision': [0.0],\n",
       "  'recall': [0.0],\n",
       "  'F-1 score': [0.6130306285783317]},\n",
       " {'model': 'svm_1',\n",
       "  'accuracy_score': 0.8431013431013431,\n",
       "  'Precision': [0.7603305785123967],\n",
       "  'recall': [0.6188340807174888],\n",
       "  'F-1 score': [0.8376921289227766]},\n",
       " {'model': 'svm_2',\n",
       "  'accuracy_score': 0.7551892551892552,\n",
       "  'Precision': [0.0],\n",
       "  'recall': [0.0],\n",
       "  'F-1 score': [0.6498567712480756]},\n",
       " {'model': 'svm_2',\n",
       "  'accuracy_score': 0.8608058608058609,\n",
       "  'Precision': [0.7464387464387464],\n",
       "  'recall': [0.6533665835411472],\n",
       "  'F-1 score': [0.8575571018881198]},\n",
       " {'model': 'svm_3',\n",
       "  'accuracy_score': 0.7393162393162394,\n",
       "  'Precision': [0.0],\n",
       "  'recall': [0.0],\n",
       "  'F-1 score': [0.6285096285096285]},\n",
       " {'model': 'svm_3',\n",
       "  'accuracy_score': 0.8553113553113553,\n",
       "  'Precision': [0.7553763440860215],\n",
       "  'recall': [0.65807962529274],\n",
       "  'F-1 score': [0.8519378118230743]},\n",
       " {'model': 'svm_4',\n",
       "  'accuracy_score': 0.7269395235186317,\n",
       "  'Precision': [0.0],\n",
       "  'recall': [0.0],\n",
       "  'F-1 score': [0.6119971934822579]},\n",
       " {'model': 'svm_4',\n",
       "  'accuracy_score': 0.8411728772144166,\n",
       "  'Precision': [0.7480106100795756],\n",
       "  'recall': [0.6308724832214765],\n",
       "  'F-1 score': [0.8366955384202184]},\n",
       " {'model': 'svm_5',\n",
       "  'accuracy_score': 0.7348808796579108,\n",
       "  'Precision': [0.0],\n",
       "  'recall': [0.0],\n",
       "  'F-1 score': [0.6225786607242723]},\n",
       " {'model': 'svm_5',\n",
       "  'accuracy_score': 0.8430054978619426,\n",
       "  'Precision': [0.7229219143576826],\n",
       "  'recall': [0.6612903225806451],\n",
       "  'F-1 score': [0.8406992991829589]},\n",
       " {'model': 'svm_6',\n",
       "  'accuracy_score': 0.7287721441661577,\n",
       "  'Precision': [0.0],\n",
       "  'recall': [0.0],\n",
       "  'F-1 score': [0.6144347476962729]},\n",
       " {'model': 'svm_6',\n",
       "  'accuracy_score': 0.8527794746487477,\n",
       "  'Precision': [0.7796143250688705],\n",
       "  'recall': [0.6373873873873874],\n",
       "  'F-1 score': [0.8478079592354459]},\n",
       " {'model': 'svm_7',\n",
       "  'accuracy_score': 0.725717776420281,\n",
       "  'Precision': [0.0],\n",
       "  'recall': [0.0],\n",
       "  'F-1 score': [0.6103736059379071]},\n",
       " {'model': 'svm_7',\n",
       "  'accuracy_score': 0.8478924862553452,\n",
       "  'Precision': [0.7702702702702703],\n",
       "  'recall': [0.6347438752783965],\n",
       "  'F-1 score': [0.8430037606209307]},\n",
       " {'model': 'svm_8',\n",
       "  'accuracy_score': 0.7550397067806964,\n",
       "  'Precision': [0.0],\n",
       "  'recall': [0.0],\n",
       "  'F-1 score': [0.6496547703313196]},\n",
       " {'model': 'svm_8',\n",
       "  'accuracy_score': 0.8497251069028711,\n",
       "  'Precision': [0.7444794952681388],\n",
       "  'recall': [0.5885286783042394],\n",
       "  'F-1 score': [0.8434039593013318]},\n",
       " {'model': 'svm_9',\n",
       "  'accuracy_score': 0.7306047648136835,\n",
       "  'Precision': [0.0],\n",
       "  'recall': [0.0],\n",
       "  'F-1 score': [0.6173906837147753]},\n",
       " {'model': 'svm_9',\n",
       "  'accuracy_score': 0.8454489920586439,\n",
       "  'Precision': [0.7367088607594937],\n",
       "  'recall': [0.6613636363636364],\n",
       "  'F-1 score': [0.8427101912461956]},\n",
       " {'model': 'svm_0',\n",
       "  'accuracy_score': 0.7374847374847375,\n",
       "  'Precision': [0.0],\n",
       "  'recall': [0.0],\n",
       "  'F-1 score': [0.6260587230369381]},\n",
       " {'model': 'svm_0',\n",
       "  'accuracy_score': 0.8351648351648352,\n",
       "  'Precision': [0.7],\n",
       "  'recall': [0.6511627906976745],\n",
       "  'F-1 score': [0.8331967316490857]},\n",
       " {'model': 'svm_1',\n",
       "  'accuracy_score': 0.7454212454212454,\n",
       "  'Precision': [0.0],\n",
       "  'recall': [0.0],\n",
       "  'F-1 score': [0.6366976849663104]},\n",
       " {'model': 'svm_1',\n",
       "  'accuracy_score': 0.8492063492063492,\n",
       "  'Precision': [0.73224043715847],\n",
       "  'recall': [0.6426858513189448],\n",
       "  'F-1 score': [0.8458378588674451]},\n",
       " {'model': 'svm_2',\n",
       "  'accuracy_score': 0.7301587301587301,\n",
       "  'Precision': [0.0],\n",
       "  'recall': [0.0],\n",
       "  'F-1 score': [0.6162807630697539]},\n",
       " {'model': 'svm_2',\n",
       "  'accuracy_score': 0.8345543345543346,\n",
       "  'Precision': [0.7329700272479565],\n",
       "  'recall': [0.6085972850678733],\n",
       "  'F-1 score': [0.829400226534112]},\n",
       " {'model': 'svm_3',\n",
       "  'accuracy_score': 0.721001221001221,\n",
       "  'Precision': [0.0],\n",
       "  'recall': [0.0],\n",
       "  'F-1 score': [0.6041166669048896]},\n",
       " {'model': 'svm_3',\n",
       "  'accuracy_score': 0.8424908424908425,\n",
       "  'Precision': [0.7571059431524548],\n",
       "  'recall': [0.6411378555798687],\n",
       "  'F-1 score': [0.8382258493823879]},\n",
       " {'model': 'svm_4',\n",
       "  'accuracy_score': 0.7196090409285278,\n",
       "  'Precision': [0.0],\n",
       "  'recall': [0.0],\n",
       "  'F-1 score': [0.6022731440240183]},\n",
       " {'model': 'svm_4',\n",
       "  'accuracy_score': 0.8497251069028711,\n",
       "  'Precision': [0.7737789203084833],\n",
       "  'recall': [0.6557734204793029],\n",
       "  'F-1 score': [0.8456907452966115]},\n",
       " {'model': 'svm_5',\n",
       "  'accuracy_score': 0.7477092241905925,\n",
       "  'Precision': [0.0],\n",
       "  'recall': [0.0],\n",
       "  'F-1 score': [0.6397735689683923]},\n",
       " {'model': 'svm_5',\n",
       "  'accuracy_score': 0.8466707391569945,\n",
       "  'Precision': [0.7275280898876404],\n",
       "  'recall': [0.6271186440677966],\n",
       "  'F-1 score': [0.8427326499209186]},\n",
       " {'model': 'svm_6',\n",
       "  'accuracy_score': 0.7489309712889431,\n",
       "  'Precision': [0.0],\n",
       "  'recall': [0.0],\n",
       "  'F-1 score': [0.641417653370761]},\n",
       " {'model': 'svm_6',\n",
       "  'accuracy_score': 0.8588882101405009,\n",
       "  'Precision': [0.7571428571428571],\n",
       "  'recall': [0.6447688564476886],\n",
       "  'F-1 score': [0.8549452707954333]},\n",
       " {'model': 'svm_7',\n",
       "  'accuracy_score': 0.7232742822235797,\n",
       "  'Precision': [0.0],\n",
       "  'recall': [0.0],\n",
       "  'F-1 score': [0.6071299185769007]},\n",
       " {'model': 'svm_7',\n",
       "  'accuracy_score': 0.8521686010995724,\n",
       "  'Precision': [0.7783641160949868],\n",
       "  'recall': [0.6512141280353201],\n",
       "  'F-1 score': [0.8478342378960888]},\n",
       " {'model': 'svm_8',\n",
       "  'accuracy_score': 0.7422113622480146,\n",
       "  'Precision': [0.0],\n",
       "  'recall': [0.0],\n",
       "  'F-1 score': [0.632389063906969]},\n",
       " {'model': 'svm_8',\n",
       "  'accuracy_score': 0.855222968845449,\n",
       "  'Precision': [0.7479892761394102],\n",
       "  'recall': [0.6611374407582938],\n",
       "  'F-1 score': [0.8521921206634245]},\n",
       " {'model': 'svm_9',\n",
       "  'accuracy_score': 0.7361026267562615,\n",
       "  'Precision': [0.0],\n",
       "  'recall': [0.0],\n",
       "  'F-1 score': [0.6242108833506651]},\n",
       " {'model': 'svm_9',\n",
       "  'accuracy_score': 0.8430054978619426,\n",
       "  'Precision': [0.7437325905292479],\n",
       "  'recall': [0.6180555555555556],\n",
       "  'F-1 score': [0.8380689373602442]},\n",
       " {'model': 'svm_0',\n",
       "  'accuracy_score': 0.7264957264957265,\n",
       "  'Precision': [0.0],\n",
       "  'recall': [0.0],\n",
       "  'F-1 score': [0.6114072945756114]},\n",
       " {'model': 'svm_0',\n",
       "  'accuracy_score': 0.8357753357753358,\n",
       "  'Precision': [0.7349081364829396],\n",
       "  'recall': [0.625],\n",
       "  'F-1 score': [0.8313872692104968]},\n",
       " {'model': 'svm_1',\n",
       "  'accuracy_score': 0.7423687423687424,\n",
       "  'Precision': [0.0],\n",
       "  'recall': [0.0],\n",
       "  'F-1 score': [0.63260013365129]},\n",
       " {'model': 'svm_1',\n",
       "  'accuracy_score': 0.8553113553113553,\n",
       "  'Precision': [0.7548209366391184],\n",
       "  'recall': [0.6492890995260664],\n",
       "  'F-1 score': [0.8515875059268218]},\n",
       " {'model': 'svm_2',\n",
       "  'accuracy_score': 0.7374847374847375,\n",
       "  'Precision': [0.0],\n",
       "  'recall': [0.0],\n",
       "  'F-1 score': [0.6260587230369381]},\n",
       " {'model': 'svm_2',\n",
       "  'accuracy_score': 0.8418803418803419,\n",
       "  'Precision': [0.726790450928382],\n",
       "  'recall': [0.6372093023255814],\n",
       "  'F-1 score': [0.8383851732377166]},\n",
       " {'model': 'svm_3',\n",
       "  'accuracy_score': 0.7417582417582418,\n",
       "  'Precision': [0.0],\n",
       "  'recall': [0.0],\n",
       "  'F-1 score': [0.6317814677436129]},\n",
       " {'model': 'svm_3',\n",
       "  'accuracy_score': 0.8516483516483516,\n",
       "  'Precision': [0.7486187845303868],\n",
       "  'recall': [0.640661938534279],\n",
       "  'F-1 score': [0.8477007996618723]},\n",
       " {'model': 'svm_4',\n",
       "  'accuracy_score': 0.7306047648136835,\n",
       "  'Precision': [0.0],\n",
       "  'recall': [0.0],\n",
       "  'F-1 score': [0.6168749020241197]},\n",
       " {'model': 'svm_4',\n",
       "  'accuracy_score': 0.8485033598045205,\n",
       "  'Precision': [0.7688022284122563],\n",
       "  'recall': [0.6258503401360545],\n",
       "  'F-1 score': [0.8432498127131823]},\n",
       " {'model': 'svm_5',\n",
       "  'accuracy_score': 0.7367135003054368,\n",
       "  'Precision': [0.0],\n",
       "  'recall': [0.0],\n",
       "  'F-1 score': [0.6250274227002158]},\n",
       " {'model': 'svm_5',\n",
       "  'accuracy_score': 0.8411728772144166,\n",
       "  'Precision': [0.7408450704225352],\n",
       "  'recall': [0.6102088167053364],\n",
       "  'F-1 score': [0.8359200284291632]},\n",
       " {'model': 'svm_6',\n",
       "  'accuracy_score': 0.7532070861331704,\n",
       "  'Precision': [0.0],\n",
       "  'recall': [0.0],\n",
       "  'F-1 score': [0.647180722788989]},\n",
       " {'model': 'svm_6',\n",
       "  'accuracy_score': 0.8454489920586439,\n",
       "  'Precision': [0.7163323782234957],\n",
       "  'recall': [0.6188118811881188],\n",
       "  'F-1 score': [0.8414905984712276]},\n",
       " {'model': 'svm_7',\n",
       "  'accuracy_score': 0.7342700061087355,\n",
       "  'Precision': [0.0],\n",
       "  'recall': [0.0],\n",
       "  'F-1 score': [0.6217629780505107]},\n",
       " {'model': 'svm_7',\n",
       "  'accuracy_score': 0.8485033598045205,\n",
       "  'Precision': [0.7561643835616438],\n",
       "  'recall': [0.6344827586206897],\n",
       "  'F-1 score': [0.8440186244826464]},\n",
       " {'model': 'svm_8',\n",
       "  'accuracy_score': 0.7483200977397678,\n",
       "  'Precision': [0.0],\n",
       "  'recall': [0.0],\n",
       "  'F-1 score': [0.6405954715102833]},\n",
       " {'model': 'svm_8',\n",
       "  'accuracy_score': 0.8454489920586439,\n",
       "  'Precision': [0.7214484679665738],\n",
       "  'recall': [0.6286407766990292],\n",
       "  'F-1 score': [0.8417732047349538]},\n",
       " {'model': 'svm_9',\n",
       "  'accuracy_score': 0.7189981673793525,\n",
       "  'Precision': [0.0],\n",
       "  'recall': [0.0],\n",
       "  'F-1 score': [0.6014647071823012]},\n",
       " {'model': 'svm_9',\n",
       "  'accuracy_score': 0.857055589492975,\n",
       "  'Precision': [0.7882653061224489],\n",
       "  'recall': [0.6717391304347826],\n",
       "  'F-1 score': [0.853357886593078]},\n",
       " {'model': 'svm_0',\n",
       "  'accuracy_score': 0.7191697191697192,\n",
       "  'Precision': [0.0],\n",
       "  'recall': [0.0],\n",
       "  'F-1 score': [0.601691711066711]},\n",
       " {'model': 'svm_0',\n",
       "  'accuracy_score': 0.8528693528693528,\n",
       "  'Precision': [0.7889182058047494],\n",
       "  'recall': [0.65],\n",
       "  'F-1 score': [0.848212232603542]},\n",
       " {'model': 'svm_1',\n",
       "  'accuracy_score': 0.7448107448107448,\n",
       "  'Precision': [0.0],\n",
       "  'recall': [0.0],\n",
       "  'F-1 score': [0.6358776127845408]},\n",
       " {'model': 'svm_1',\n",
       "  'accuracy_score': 0.8601953601953602,\n",
       "  'Precision': [0.7603305785123967],\n",
       "  'recall': [0.6602870813397129],\n",
       "  'F-1 score': [0.8568135945143482]},\n",
       " {'model': 'svm_2',\n",
       "  'accuracy_score': 0.7448107448107448,\n",
       "  'Precision': [0.0],\n",
       "  'recall': [0.0],\n",
       "  'F-1 score': [0.6358776127845408]},\n",
       " {'model': 'svm_2',\n",
       "  'accuracy_score': 0.8455433455433455,\n",
       "  'Precision': [0.7142857142857143],\n",
       "  'recall': [0.6578947368421053],\n",
       "  'F-1 score': [0.84340012246332]},\n",
       " {'model': 'svm_3',\n",
       "  'accuracy_score': 0.7442002442002442,\n",
       "  'Precision': [0.0],\n",
       "  'recall': [0.0],\n",
       "  'F-1 score': [0.635578787486383]},\n",
       " {'model': 'svm_3',\n",
       "  'accuracy_score': 0.8498168498168498,\n",
       "  'Precision': [0.7287234042553191],\n",
       "  'recall': [0.6555023923444976],\n",
       "  'F-1 score': [0.84711543879721]},\n",
       " {'model': 'svm_4',\n",
       "  'accuracy_score': 0.7354917532070862,\n",
       "  'Precision': [0.0],\n",
       "  'recall': [0.0],\n",
       "  'F-1 score': [0.6233946292582413]},\n",
       " {'model': 'svm_4',\n",
       "  'accuracy_score': 0.8643860720830788,\n",
       "  'Precision': [0.7644110275689223],\n",
       "  'recall': [0.7043879907621247],\n",
       "  'F-1 score': [0.8625591917245857]},\n",
       " {'model': 'svm_5',\n",
       "  'accuracy_score': 0.7189981673793525,\n",
       "  'Precision': [0.0],\n",
       "  'recall': [0.0],\n",
       "  'F-1 score': [0.6014647071823012]},\n",
       " {'model': 'svm_5',\n",
       "  'accuracy_score': 0.8503359804520464,\n",
       "  'Precision': [0.7994428969359332],\n",
       "  'recall': [0.6239130434782608],\n",
       "  'F-1 score': [0.8441862414543552]},\n",
       " {'model': 'svm_6',\n",
       "  'accuracy_score': 0.7617593158216249,\n",
       "  'Precision': [0.0],\n",
       "  'recall': [0.0],\n",
       "  'F-1 score': [0.6587474804643316]},\n",
       " {'model': 'svm_6',\n",
       "  'accuracy_score': 0.8442272449602932,\n",
       "  'Precision': [0.7014925373134329],\n",
       "  'recall': [0.6025641025641025],\n",
       "  'F-1 score': [0.8399991845212884]},\n",
       " {'model': 'svm_7',\n",
       "  'accuracy_score': 0.7135003054367746,\n",
       "  'Precision': [0.0],\n",
       "  'recall': [0.0],\n",
       "  'F-1 score': [0.5942020368985046]},\n",
       " {'model': 'svm_7',\n",
       "  'accuracy_score': 0.8454489920586439,\n",
       "  'Precision': [0.7755102040816326],\n",
       "  'recall': [0.6481876332622601],\n",
       "  'F-1 score': [0.8410040734309282]},\n",
       " {'model': 'svm_8',\n",
       "  'accuracy_score': 0.7177764202810019,\n",
       "  'Precision': [0.0],\n",
       "  'recall': [0.0],\n",
       "  'F-1 score': [0.5998487153841944]},\n",
       " {'model': 'svm_8',\n",
       "  'accuracy_score': 0.8485033598045205,\n",
       "  'Precision': [0.7757731958762887],\n",
       "  'recall': [0.6515151515151515],\n",
       "  'F-1 score': [0.844221248888337]},\n",
       " {'model': 'svm_9',\n",
       "  'accuracy_score': 0.7306047648136835,\n",
       "  'Precision': [0.0],\n",
       "  'recall': [0.0],\n",
       "  'F-1 score': [0.6168749020241197]},\n",
       " {'model': 'svm_9',\n",
       "  'accuracy_score': 0.8466707391569945,\n",
       "  'Precision': [0.7386934673366834],\n",
       "  'recall': [0.6666666666666666],\n",
       "  'F-1 score': [0.8440953938835477]},\n",
       " {'model': 'svm_0',\n",
       "  'accuracy_score': 0.724053724053724,\n",
       "  'Precision': [0.0],\n",
       "  'recall': [0.0],\n",
       "  'F-1 score': [0.6081641053312441]},\n",
       " {'model': 'svm_0',\n",
       "  'accuracy_score': 0.8437118437118437,\n",
       "  'Precision': [0.7592592592592593],\n",
       "  'recall': [0.6349557522123894],\n",
       "  'F-1 score': [0.8391089112424166]},\n",
       " {'model': 'svm_1',\n",
       "  'accuracy_score': 0.7466422466422467,\n",
       "  'Precision': [0.0],\n",
       "  'recall': [0.0],\n",
       "  'F-1 score': [0.6388606150927018]},\n",
       " {'model': 'svm_1',\n",
       "  'accuracy_score': 0.8492063492063492,\n",
       "  'Precision': [0.7275204359673024],\n",
       "  'recall': [0.644927536231884],\n",
       "  'F-1 score': [0.8460893251657879]},\n",
       " {'model': 'svm_2',\n",
       "  'accuracy_score': 0.7332112332112332,\n",
       "  'Precision': [0.0],\n",
       "  'recall': [0.0],\n",
       "  'F-1 score': [0.6203499056616351]},\n",
       " {'model': 'svm_2',\n",
       "  'accuracy_score': 0.8547008547008547,\n",
       "  'Precision': [0.7557840616966581],\n",
       "  'recall': [0.6727688787185355],\n",
       "  'F-1 score': [0.8519024263334192]},\n",
       " {'model': 'svm_3',\n",
       "  'accuracy_score': 0.7094017094017094,\n",
       "  'Precision': [0.0],\n",
       "  'recall': [0.0],\n",
       "  'F-1 score': [0.5888034188034188]},\n",
       " {'model': 'svm_3',\n",
       "  'accuracy_score': 0.8351648351648352,\n",
       "  'Precision': [0.7575],\n",
       "  'recall': [0.6365546218487395],\n",
       "  'F-1 score': [0.8306243414120127]},\n",
       " {'model': 'svm_4',\n",
       "  'accuracy_score': 0.7379352474037875,\n",
       "  'Precision': [0.0],\n",
       "  'recall': [0.0],\n",
       "  'F-1 score': [0.6266613559675046]},\n",
       " {'model': 'svm_4',\n",
       "  'accuracy_score': 0.8430054978619426,\n",
       "  'Precision': [0.7239583333333334],\n",
       "  'recall': [0.6480186480186481],\n",
       "  'F-1 score': [0.8400959734187448]},\n",
       " {'model': 'svm_5',\n",
       "  'accuracy_score': 0.7177764202810019,\n",
       "  'Precision': [0.0],\n",
       "  'recall': [0.0],\n",
       "  'F-1 score': [0.5998487153841944]},\n",
       " {'model': 'svm_5',\n",
       "  'accuracy_score': 0.8356750152718387,\n",
       "  'Precision': [0.7443037974683544],\n",
       "  'recall': [0.6363636363636364],\n",
       "  'F-1 score': [0.8315291466690481]},\n",
       " {'model': 'svm_6',\n",
       "  'accuracy_score': 0.7538179596823458,\n",
       "  'Precision': [0.0],\n",
       "  'recall': [0.0],\n",
       "  'F-1 score': [0.6480051286994181]},\n",
       " {'model': 'svm_6',\n",
       "  'accuracy_score': 0.8564447159437997,\n",
       "  'Precision': [0.74],\n",
       "  'recall': [0.6426799007444168],\n",
       "  'F-1 score': [0.8529016478783115]},\n",
       " {'model': 'svm_7',\n",
       "  'accuracy_score': 0.7385461209529627,\n",
       "  'Precision': [0.0],\n",
       "  'recall': [0.0],\n",
       "  'F-1 score': [0.6274787492847027]},\n",
       " {'model': 'svm_7',\n",
       "  'accuracy_score': 0.8558338423946243,\n",
       "  'Precision': [0.7666666666666667],\n",
       "  'recall': [0.6448598130841121],\n",
       "  'F-1 score': [0.8515851764588491]},\n",
       " {'model': 'svm_8',\n",
       "  'accuracy_score': 0.7312156383628589,\n",
       "  'Precision': [0.0],\n",
       "  'recall': [0.0],\n",
       "  'F-1 score': [0.6176888631759647]},\n",
       " {'model': 'svm_8',\n",
       "  'accuracy_score': 0.8393402565668907,\n",
       "  'Precision': [0.7398373983739838],\n",
       "  'recall': [0.6204545454545455],\n",
       "  'F-1 score': [0.8346040535581698]},\n",
       " {'model': 'svm_9',\n",
       "  'accuracy_score': 0.7379352474037875,\n",
       "  'Precision': [0.0],\n",
       "  'recall': [0.0],\n",
       "  'F-1 score': [0.6266613559675046]},\n",
       " {'model': 'svm_9',\n",
       "  'accuracy_score': 0.8497251069028711,\n",
       "  'Precision': [0.7534626038781164],\n",
       "  'recall': [0.634032634032634],\n",
       "  'F-1 score': [0.8453144825817364]},\n",
       " {'model': 'svm_0',\n",
       "  'accuracy_score': 0.7356532356532357,\n",
       "  'Precision': [0.0],\n",
       "  'recall': [0.0],\n",
       "  'F-1 score': [0.6236103756328871]},\n",
       " {'model': 'svm_0',\n",
       "  'accuracy_score': 0.8412698412698413,\n",
       "  'Precision': [0.736986301369863],\n",
       "  'recall': [0.6212471131639723],\n",
       "  'F-1 score': [0.8366847978164405]},\n",
       " {'model': 'svm_1',\n",
       "  'accuracy_score': 0.753968253968254,\n",
       "  'Precision': [0.0],\n",
       "  'recall': [0.0],\n",
       "  'F-1 score': [0.6482080011491776]},\n",
       " {'model': 'svm_1',\n",
       "  'accuracy_score': 0.8394383394383395,\n",
       "  'Precision': [0.6861702127659575],\n",
       "  'recall': [0.6401985111662531],\n",
       "  'F-1 score': [0.837523894945304]},\n",
       " {'model': 'svm_2',\n",
       "  'accuracy_score': 0.7374847374847375,\n",
       "  'Precision': [0.0],\n",
       "  'recall': [0.0],\n",
       "  'F-1 score': [0.6260587230369381]},\n",
       " {'model': 'svm_2',\n",
       "  'accuracy_score': 0.8516483516483516,\n",
       "  'Precision': [0.7506702412868632],\n",
       "  'recall': [0.6511627906976745],\n",
       "  'F-1 score': [0.848092742248252]},\n",
       " {'model': 'svm_3',\n",
       "  'accuracy_score': 0.7344322344322345,\n",
       "  'Precision': [0.0],\n",
       "  'recall': [0.0],\n",
       "  'F-1 score': [0.6219795691812587]},\n",
       " {'model': 'svm_3',\n",
       "  'accuracy_score': 0.8467643467643468,\n",
       "  'Precision': [0.7598870056497176],\n",
       "  'recall': [0.6183908045977011],\n",
       "  'F-1 score': [0.841394031957586]},\n",
       " {'model': 'svm_4',\n",
       "  'accuracy_score': 0.739156994502138,\n",
       "  'Precision': [0.0],\n",
       "  'recall': [0.0],\n",
       "  'F-1 score': [0.6282964266579467]},\n",
       " {'model': 'svm_4',\n",
       "  'accuracy_score': 0.855222968845449,\n",
       "  'Precision': [0.7513227513227513],\n",
       "  'recall': [0.6651053864168618],\n",
       "  'F-1 score': [0.8522533404817597]},\n",
       " {'model': 'svm_5',\n",
       "  'accuracy_score': 0.7306047648136835,\n",
       "  'Precision': [0.0],\n",
       "  'recall': [0.0],\n",
       "  'F-1 score': [0.6168749020241197]},\n",
       " {'model': 'svm_5',\n",
       "  'accuracy_score': 0.8436163714111179,\n",
       "  'Precision': [0.7329974811083123],\n",
       "  'recall': [0.6598639455782312],\n",
       "  'F-1 score': [0.8409231662434702]},\n",
       " {'model': 'svm_6',\n",
       "  'accuracy_score': 0.7226634086744044,\n",
       "  'Precision': [0.0],\n",
       "  'recall': [0.0],\n",
       "  'F-1 score': [0.6063197251502273]},\n",
       " {'model': 'svm_6',\n",
       "  'accuracy_score': 0.8430054978619426,\n",
       "  'Precision': [0.7506361323155216],\n",
       "  'recall': [0.6497797356828194],\n",
       "  'F-1 score': [0.8393251558136687]},\n",
       " {'model': 'svm_7',\n",
       "  'accuracy_score': 0.7556505803298718,\n",
       "  'Precision': [0.0],\n",
       "  'recall': [0.0],\n",
       "  'F-1 score': [0.6504800054753314]},\n",
       " {'model': 'svm_7',\n",
       "  'accuracy_score': 0.8466707391569945,\n",
       "  'Precision': [0.7075208913649025],\n",
       "  'recall': [0.635],\n",
       "  'F-1 score': [0.8437792361424983]},\n",
       " {'model': 'svm_8',\n",
       "  'accuracy_score': 0.7177764202810019,\n",
       "  'Precision': [0.0],\n",
       "  'recall': [0.0],\n",
       "  'F-1 score': [0.5998487153841944]},\n",
       " {'model': 'svm_8',\n",
       "  'accuracy_score': 0.8472816127061699,\n",
       "  'Precision': [0.765],\n",
       "  'recall': [0.6623376623376623],\n",
       "  'F-1 score': [0.8437522186336724]},\n",
       " {'model': 'svm_9',\n",
       "  'accuracy_score': 0.7483200977397678,\n",
       "  'Precision': [0.0],\n",
       "  'recall': [0.0],\n",
       "  'F-1 score': [0.6405954715102833]},\n",
       " {'model': 'svm_9',\n",
       "  'accuracy_score': 0.8582773365913255,\n",
       "  'Precision': [0.7528089887640449],\n",
       "  'recall': [0.6504854368932039],\n",
       "  'F-1 score': [0.8546938579337914]},\n",
       " {'model': 'svm_0',\n",
       "  'accuracy_score': 0.7490842490842491,\n",
       "  'Precision': [0.0],\n",
       "  'recall': [0.0],\n",
       "  'F-1 score': [0.641623995550697]},\n",
       " {'model': 'svm_0',\n",
       "  'accuracy_score': 0.8577533577533577,\n",
       "  'Precision': [0.7458563535911602],\n",
       "  'recall': [0.656934306569343],\n",
       "  'F-1 score': [0.8546372399502847]},\n",
       " {'model': 'svm_1',\n",
       "  'accuracy_score': 0.7155067155067155,\n",
       "  'Precision': [0.0],\n",
       "  'recall': [0.0],\n",
       "  'F-1 score': [0.5968497299458153]},\n",
       " {'model': 'svm_1',\n",
       "  'accuracy_score': 0.854090354090354,\n",
       "  'Precision': [0.7775061124694377],\n",
       "  'recall': [0.6824034334763949],\n",
       "  'F-1 score': [0.8510698238778206]},\n",
       " {'model': 'svm_2',\n",
       "  'accuracy_score': 0.7393162393162394,\n",
       "  'Precision': [0.0],\n",
       "  'recall': [0.0],\n",
       "  'F-1 score': [0.6285096285096285]},\n",
       " {'model': 'svm_2',\n",
       "  'accuracy_score': 0.8516483516483516,\n",
       "  'Precision': [0.7371134020618557],\n",
       "  'recall': [0.6697892271662763],\n",
       "  'F-1 score': [0.849274314032268]},\n",
       " {'model': 'svm_3',\n",
       "  'accuracy_score': 0.7258852258852259,\n",
       "  'Precision': [0.0],\n",
       "  'recall': [0.0],\n",
       "  'F-1 score': [0.6105960619579296]},\n",
       " {'model': 'svm_3',\n",
       "  'accuracy_score': 0.8412698412698413,\n",
       "  'Precision': [0.7467362924281984],\n",
       "  'recall': [0.6369710467706013],\n",
       "  'F-1 score': [0.8371173005481516]},\n",
       " {'model': 'svm_4',\n",
       "  'accuracy_score': 0.7373243738546121,\n",
       "  'Precision': [0.0],\n",
       "  'recall': [0.0],\n",
       "  'F-1 score': [0.6258442470059893]},\n",
       " {'model': 'svm_4',\n",
       "  'accuracy_score': 0.8582773365913255,\n",
       "  'Precision': [0.75],\n",
       "  'recall': [0.6906976744186046],\n",
       "  'F-1 score': [0.8563447114900268]},\n",
       " {'model': 'svm_5',\n",
       "  'accuracy_score': 0.7281612706169823,\n",
       "  'Precision': [0.0],\n",
       "  'recall': [0.0],\n",
       "  'F-1 score': [0.6136219403149119]},\n",
       " {'model': 'svm_5',\n",
       "  'accuracy_score': 0.83811850946854,\n",
       "  'Precision': [0.7513966480446927],\n",
       "  'recall': [0.604494382022472],\n",
       "  'F-1 score': [0.8321988843123791]},\n",
       " {'model': 'svm_6',\n",
       "  'accuracy_score': 0.7385461209529627,\n",
       "  'Precision': [0.0],\n",
       "  'recall': [0.0],\n",
       "  'F-1 score': [0.6274787492847027]},\n",
       " {'model': 'svm_6',\n",
       "  'accuracy_score': 0.851557727550397,\n",
       "  'Precision': [0.7440633245382586],\n",
       "  'recall': [0.6588785046728972],\n",
       "  'F-1 score': [0.8485253094352296]},\n",
       " {'model': 'svm_7',\n",
       "  'accuracy_score': 0.7226634086744044,\n",
       "  'Precision': [0.0],\n",
       "  'recall': [0.0],\n",
       "  'F-1 score': [0.6063197251502273]},\n",
       " {'model': 'svm_7',\n",
       "  'accuracy_score': 0.8509468540012217,\n",
       "  'Precision': [0.770618556701031],\n",
       "  'recall': [0.6585903083700441],\n",
       "  'F-1 score': [0.8471276175290083]},\n",
       " {'model': 'svm_8',\n",
       "  'accuracy_score': 0.7403787416004887,\n",
       "  'Precision': [0.0],\n",
       "  'recall': [0.0],\n",
       "  'F-1 score': [0.6304523787724765]},\n",
       " {'model': 'svm_8',\n",
       "  'accuracy_score': 0.851557727550397,\n",
       "  'Precision': [0.7493112947658402],\n",
       "  'recall': [0.6415094339622641],\n",
       "  'F-1 score': [0.8476253443028658]},\n",
       " {'model': 'svm_9',\n",
       "  'accuracy_score': 0.7293830177153329,\n",
       "  'Precision': [0.0],\n",
       "  'recall': [0.0],\n",
       "  'F-1 score': [0.615247843978882]},\n",
       " {'model': 'svm_9',\n",
       "  'accuracy_score': 0.8436163714111179,\n",
       "  'Precision': [0.7403598971722365],\n",
       "  'recall': [0.6501128668171557],\n",
       "  'F-1 score': [0.8402704792442116]},\n",
       " {'model': 'svm_0',\n",
       "  'accuracy_score': 0.7374847374847375,\n",
       "  'Precision': [0.0],\n",
       "  'recall': [0.0],\n",
       "  'F-1 score': [0.6260587230369381]},\n",
       " {'model': 'svm_0',\n",
       "  'accuracy_score': 0.8296703296703297,\n",
       "  'Precision': [0.7126760563380282],\n",
       "  'recall': [0.5883720930232558],\n",
       "  'F-1 score': [0.8240977380682868]},\n",
       " {'model': 'svm_1',\n",
       "  'accuracy_score': 0.7503052503052503,\n",
       "  'Precision': [0.0],\n",
       "  'recall': [0.0],\n",
       "  'F-1 score': [0.643268331095328]},\n",
       " {'model': 'svm_1',\n",
       "  'accuracy_score': 0.8394383394383395,\n",
       "  'Precision': [0.7050561797752809],\n",
       "  'recall': [0.6136919315403423],\n",
       "  'F-1 score': [0.8355708973742567]},\n",
       " {'model': 'svm_2',\n",
       "  'accuracy_score': 0.7362637362637363,\n",
       "  'Precision': [0.0],\n",
       "  'recall': [0.0],\n",
       "  'F-1 score': [0.6244262067046877]},\n",
       " {'model': 'svm_2',\n",
       "  'accuracy_score': 0.8504273504273504,\n",
       "  'Precision': [0.7428571428571429],\n",
       "  'recall': [0.6620370370370371],\n",
       "  'F-1 score': [0.847554502637148]},\n",
       " {'model': 'svm_3',\n",
       "  'accuracy_score': 0.7362637362637363,\n",
       "  'Precision': [0.0],\n",
       "  'recall': [0.0],\n",
       "  'F-1 score': [0.6244262067046877]},\n",
       " {'model': 'svm_3',\n",
       "  'accuracy_score': 0.8553113553113553,\n",
       "  'Precision': [0.7506426735218509],\n",
       "  'recall': [0.6759259259259259],\n",
       "  'F-1 score': [0.8527894411107719]},\n",
       " {'model': 'svm_4',\n",
       "  'accuracy_score': 0.7312156383628589,\n",
       "  'Precision': [0.0],\n",
       "  'recall': [0.0],\n",
       "  'F-1 score': [0.6176888631759647]},\n",
       " {'model': 'svm_4',\n",
       "  'accuracy_score': 0.8442272449602932,\n",
       "  'Precision': [0.7402597402597403],\n",
       "  'recall': [0.6477272727272727],\n",
       "  'F-1 score': [0.8407840034442393]},\n",
       " {'model': 'svm_5',\n",
       "  'accuracy_score': 0.7397678680513133,\n",
       "  'Precision': [0.0],\n",
       "  'recall': [0.0],\n",
       "  'F-1 score': [0.62911438778802]},\n",
       " {'model': 'svm_5',\n",
       "  'accuracy_score': 0.8503359804520464,\n",
       "  'Precision': [0.7375328083989501],\n",
       "  'recall': [0.6596244131455399],\n",
       "  'F-1 score': [0.8475281859009655]},\n",
       " {'model': 'svm_6',\n",
       "  'accuracy_score': 0.7354917532070862,\n",
       "  'Precision': [0.0],\n",
       "  'recall': [0.0],\n",
       "  'F-1 score': [0.6233946292582413]},\n",
       " {'model': 'svm_6',\n",
       "  'accuracy_score': 0.8454489920586439,\n",
       "  'Precision': [0.7356020942408377],\n",
       "  'recall': [0.648960739030023],\n",
       "  'F-1 score': [0.8422160516619454]},\n",
       " {'model': 'svm_7',\n",
       "  'accuracy_score': 0.7477092241905925,\n",
       "  'Precision': [0.0],\n",
       "  'recall': [0.0],\n",
       "  'F-1 score': [0.6397735689683923]},\n",
       " {'model': 'svm_7',\n",
       "  'accuracy_score': 0.8613317043372022,\n",
       "  'Precision': [0.7396907216494846],\n",
       "  'recall': [0.6949152542372882],\n",
       "  'F-1 score': [0.8598686285219669]},\n",
       " {'model': 'svm_8',\n",
       "  'accuracy_score': 0.7226634086744044,\n",
       "  'Precision': [0.0],\n",
       "  'recall': [0.0],\n",
       "  'F-1 score': [0.6063197251502273]},\n",
       " {'model': 'svm_8',\n",
       "  'accuracy_score': 0.8460598656078192,\n",
       "  'Precision': [0.7759562841530054],\n",
       "  'recall': [0.6255506607929515],\n",
       "  'F-1 score': [0.8405597960835679]},\n",
       " {'model': 'svm_9',\n",
       "  'accuracy_score': 0.7128894318875992,\n",
       "  'Precision': [0.0],\n",
       "  'recall': [0.0],\n",
       "  'F-1 score': [0.5933965527908904]},\n",
       " {'model': 'svm_9',\n",
       "  'accuracy_score': 0.8448381185094685,\n",
       "  'Precision': [0.77],\n",
       "  'recall': [0.6553191489361702],\n",
       "  'F-1 score': [0.8408549862695109]},\n",
       " {'model': 'svm_0',\n",
       "  'accuracy_score': 0.7118437118437119,\n",
       "  'Precision': [0.0],\n",
       "  'recall': [0.0],\n",
       "  'F-1 score': [0.5920183794648844]},\n",
       " {'model': 'svm_0',\n",
       "  'accuracy_score': 0.8437118437118437,\n",
       "  'Precision': [0.77],\n",
       "  'recall': [0.652542372881356],\n",
       "  'F-1 score': [0.8396000020204327]},\n",
       " {'model': 'svm_1',\n",
       "  'accuracy_score': 0.7295482295482295,\n",
       "  'Precision': [0.0],\n",
       "  'recall': [0.0],\n",
       "  'F-1 score': [0.6154677969009066]},\n",
       " {'model': 'svm_1',\n",
       "  'accuracy_score': 0.8492063492063492,\n",
       "  'Precision': [0.756544502617801],\n",
       "  'recall': [0.6523702031602708],\n",
       "  'F-1 score': [0.8455080148103404]},\n",
       " {'model': 'svm_2',\n",
       "  'accuracy_score': 0.7246642246642246,\n",
       "  'Precision': [0.0],\n",
       "  'recall': [0.0],\n",
       "  'F-1 score': [0.6089744670275643]},\n",
       " {'model': 'svm_2',\n",
       "  'accuracy_score': 0.8431013431013431,\n",
       "  'Precision': [0.7487179487179487],\n",
       "  'recall': [0.647450110864745],\n",
       "  'F-1 score': [0.8393764619451747]},\n",
       " {'model': 'svm_3',\n",
       "  'accuracy_score': 0.717948717948718,\n",
       "  'Precision': [0.0],\n",
       "  'recall': [0.0],\n",
       "  'F-1 score': [0.6000765403750478]},\n",
       " {'model': 'svm_3',\n",
       "  'accuracy_score': 0.8449328449328449,\n",
       "  'Precision': [0.7639593908629442],\n",
       "  'recall': [0.6515151515151515],\n",
       "  'F-1 score': [0.8409522649539641]},\n",
       " {'model': 'svm_4',\n",
       "  'accuracy_score': 0.739156994502138,\n",
       "  'Precision': [0.0],\n",
       "  'recall': [0.0],\n",
       "  'F-1 score': [0.6282964266579467]},\n",
       " {'model': 'svm_4',\n",
       "  'accuracy_score': 0.855222968845449,\n",
       "  'Precision': [0.7513227513227513],\n",
       "  'recall': [0.6651053864168618],\n",
       "  'F-1 score': [0.8522533404817597]},\n",
       " {'model': 'svm_5',\n",
       "  'accuracy_score': 0.7367135003054368,\n",
       "  'Precision': [0.0],\n",
       "  'recall': [0.0],\n",
       "  'F-1 score': [0.6250274227002158]},\n",
       " {'model': 'svm_5',\n",
       "  'accuracy_score': 0.8466707391569945,\n",
       "  'Precision': [0.7284263959390863],\n",
       "  'recall': [0.665893271461717],\n",
       "  'F-1 score': [0.8443907117801964]},\n",
       " {'model': 'svm_6',\n",
       "  'accuracy_score': 0.74282223579719,\n",
       "  'Precision': [0.0],\n",
       "  'recall': [0.0],\n",
       "  'F-1 score': [0.6332084393476222]},\n",
       " {'model': 'svm_6',\n",
       "  'accuracy_score': 0.8558338423946243,\n",
       "  'Precision': [0.7506775067750677],\n",
       "  'recall': [0.6579572446555819],\n",
       "  'F-1 score': [0.8525981189567378]},\n",
       " {'model': 'svm_7',\n",
       "  'accuracy_score': 0.7232742822235797,\n",
       "  'Precision': [0.0],\n",
       "  'recall': [0.0],\n",
       "  'F-1 score': [0.6071299185769007]},\n",
       " {'model': 'svm_7',\n",
       "  'accuracy_score': 0.8607208307880269,\n",
       "  'Precision': [0.7805486284289277],\n",
       "  'recall': [0.6909492273730684],\n",
       "  'F-1 score': [0.8579768691424723]},\n",
       " {'model': 'svm_8',\n",
       "  'accuracy_score': 0.7495418448381185,\n",
       "  'Precision': [0.0],\n",
       "  'recall': [0.0],\n",
       "  'F-1 score': [0.6422401142572426]},\n",
       " {'model': 'svm_8',\n",
       "  'accuracy_score': 0.8503359804520464,\n",
       "  'Precision': [0.7310924369747899],\n",
       "  'recall': [0.6365853658536585],\n",
       "  'F-1 score': [0.8467470682893583]},\n",
       " {'model': 'svm_9',\n",
       "  'accuracy_score': 0.7495418448381185,\n",
       "  'Precision': [0.0],\n",
       "  'recall': [0.0],\n",
       "  'F-1 score': [0.6422401142572426]},\n",
       " {'model': 'svm_9',\n",
       "  'accuracy_score': 0.8546120952962737,\n",
       "  'Precision': [0.7402234636871509],\n",
       "  'recall': [0.6463414634146342],\n",
       "  'F-1 score': [0.8511985229543984]}]"
      ]
     },
     "execution_count": 13,
     "metadata": {},
     "output_type": "execute_result"
    }
   ],
   "source": [
    "lst_results"
   ]
  },
  {
   "cell_type": "code",
   "execution_count": 14,
   "metadata": {},
   "outputs": [],
   "source": [
    "df_result = pd.DataFrame(data=lst_results)\n"
   ]
  },
  {
   "cell_type": "code",
   "execution_count": 15,
   "metadata": {},
   "outputs": [
    {
     "data": {
      "text/html": [
       "<div>\n",
       "<style scoped>\n",
       "    .dataframe tbody tr th:only-of-type {\n",
       "        vertical-align: middle;\n",
       "    }\n",
       "\n",
       "    .dataframe tbody tr th {\n",
       "        vertical-align: top;\n",
       "    }\n",
       "\n",
       "    .dataframe thead th {\n",
       "        text-align: right;\n",
       "    }\n",
       "</style>\n",
       "<table border=\"1\" class=\"dataframe\">\n",
       "  <thead>\n",
       "    <tr style=\"text-align: right;\">\n",
       "      <th></th>\n",
       "      <th>model</th>\n",
       "      <th>accuracy_score</th>\n",
       "      <th>Precision</th>\n",
       "      <th>recall</th>\n",
       "      <th>F-1 score</th>\n",
       "    </tr>\n",
       "  </thead>\n",
       "  <tbody>\n",
       "    <tr>\n",
       "      <th>0</th>\n",
       "      <td>svm_0</td>\n",
       "      <td>0.730159</td>\n",
       "      <td>[0.0]</td>\n",
       "      <td>[0.0]</td>\n",
       "      <td>[0.6162807630697539]</td>\n",
       "    </tr>\n",
       "    <tr>\n",
       "      <th>1</th>\n",
       "      <td>svm_0</td>\n",
       "      <td>0.859585</td>\n",
       "      <td>[0.7676767676767676]</td>\n",
       "      <td>[0.6877828054298643]</td>\n",
       "      <td>[0.8570556545519394]</td>\n",
       "    </tr>\n",
       "    <tr>\n",
       "      <th>2</th>\n",
       "      <td>svm_1</td>\n",
       "      <td>0.731380</td>\n",
       "      <td>[0.0]</td>\n",
       "      <td>[0.0]</td>\n",
       "      <td>[0.6179075586691947]</td>\n",
       "    </tr>\n",
       "    <tr>\n",
       "      <th>3</th>\n",
       "      <td>svm_1</td>\n",
       "      <td>0.847985</td>\n",
       "      <td>[0.7442455242966752]</td>\n",
       "      <td>[0.6613636363636364]</td>\n",
       "      <td>[0.8450268234370469]</td>\n",
       "    </tr>\n",
       "    <tr>\n",
       "      <th>4</th>\n",
       "      <td>svm_2</td>\n",
       "      <td>0.741758</td>\n",
       "      <td>[0.0]</td>\n",
       "      <td>[0.0]</td>\n",
       "      <td>[0.6317814677436129]</td>\n",
       "    </tr>\n",
       "    <tr>\n",
       "      <th>...</th>\n",
       "      <td>...</td>\n",
       "      <td>...</td>\n",
       "      <td>...</td>\n",
       "      <td>...</td>\n",
       "      <td>...</td>\n",
       "    </tr>\n",
       "    <tr>\n",
       "      <th>195</th>\n",
       "      <td>svm_7</td>\n",
       "      <td>0.860721</td>\n",
       "      <td>[0.7805486284289277]</td>\n",
       "      <td>[0.6909492273730684]</td>\n",
       "      <td>[0.8579768691424723]</td>\n",
       "    </tr>\n",
       "    <tr>\n",
       "      <th>196</th>\n",
       "      <td>svm_8</td>\n",
       "      <td>0.749542</td>\n",
       "      <td>[0.0]</td>\n",
       "      <td>[0.0]</td>\n",
       "      <td>[0.6422401142572426]</td>\n",
       "    </tr>\n",
       "    <tr>\n",
       "      <th>197</th>\n",
       "      <td>svm_8</td>\n",
       "      <td>0.850336</td>\n",
       "      <td>[0.7310924369747899]</td>\n",
       "      <td>[0.6365853658536585]</td>\n",
       "      <td>[0.8467470682893583]</td>\n",
       "    </tr>\n",
       "    <tr>\n",
       "      <th>198</th>\n",
       "      <td>svm_9</td>\n",
       "      <td>0.749542</td>\n",
       "      <td>[0.0]</td>\n",
       "      <td>[0.0]</td>\n",
       "      <td>[0.6422401142572426]</td>\n",
       "    </tr>\n",
       "    <tr>\n",
       "      <th>199</th>\n",
       "      <td>svm_9</td>\n",
       "      <td>0.854612</td>\n",
       "      <td>[0.7402234636871509]</td>\n",
       "      <td>[0.6463414634146342]</td>\n",
       "      <td>[0.8511985229543984]</td>\n",
       "    </tr>\n",
       "  </tbody>\n",
       "</table>\n",
       "<p>200 rows × 5 columns</p>\n",
       "</div>"
      ],
      "text/plain": [
       "     model  accuracy_score             Precision                recall  \\\n",
       "0    svm_0        0.730159                 [0.0]                 [0.0]   \n",
       "1    svm_0        0.859585  [0.7676767676767676]  [0.6877828054298643]   \n",
       "2    svm_1        0.731380                 [0.0]                 [0.0]   \n",
       "3    svm_1        0.847985  [0.7442455242966752]  [0.6613636363636364]   \n",
       "4    svm_2        0.741758                 [0.0]                 [0.0]   \n",
       "..     ...             ...                   ...                   ...   \n",
       "195  svm_7        0.860721  [0.7805486284289277]  [0.6909492273730684]   \n",
       "196  svm_8        0.749542                 [0.0]                 [0.0]   \n",
       "197  svm_8        0.850336  [0.7310924369747899]  [0.6365853658536585]   \n",
       "198  svm_9        0.749542                 [0.0]                 [0.0]   \n",
       "199  svm_9        0.854612  [0.7402234636871509]  [0.6463414634146342]   \n",
       "\n",
       "                F-1 score  \n",
       "0    [0.6162807630697539]  \n",
       "1    [0.8570556545519394]  \n",
       "2    [0.6179075586691947]  \n",
       "3    [0.8450268234370469]  \n",
       "4    [0.6317814677436129]  \n",
       "..                    ...  \n",
       "195  [0.8579768691424723]  \n",
       "196  [0.6422401142572426]  \n",
       "197  [0.8467470682893583]  \n",
       "198  [0.6422401142572426]  \n",
       "199  [0.8511985229543984]  \n",
       "\n",
       "[200 rows x 5 columns]"
      ]
     },
     "execution_count": 15,
     "metadata": {},
     "output_type": "execute_result"
    }
   ],
   "source": [
    "df_result"
   ]
  },
  {
   "cell_type": "code",
   "execution_count": 17,
   "metadata": {},
   "outputs": [
    {
     "data": {
      "text/html": [
       "<div>\n",
       "<style scoped>\n",
       "    .dataframe tbody tr th:only-of-type {\n",
       "        vertical-align: middle;\n",
       "    }\n",
       "\n",
       "    .dataframe tbody tr th {\n",
       "        vertical-align: top;\n",
       "    }\n",
       "\n",
       "    .dataframe thead th {\n",
       "        text-align: right;\n",
       "    }\n",
       "</style>\n",
       "<table border=\"1\" class=\"dataframe\">\n",
       "  <thead>\n",
       "    <tr style=\"text-align: right;\">\n",
       "      <th></th>\n",
       "      <th>model</th>\n",
       "      <th>accuracy_score</th>\n",
       "      <th>Precision</th>\n",
       "      <th>recall</th>\n",
       "      <th>F-1 score</th>\n",
       "    </tr>\n",
       "  </thead>\n",
       "  <tbody>\n",
       "    <tr>\n",
       "      <th>1</th>\n",
       "      <td>svm_0</td>\n",
       "      <td>0.859585</td>\n",
       "      <td>[0.7676767676767676]</td>\n",
       "      <td>[0.6877828054298643]</td>\n",
       "      <td>[0.8570556545519394]</td>\n",
       "    </tr>\n",
       "    <tr>\n",
       "      <th>3</th>\n",
       "      <td>svm_1</td>\n",
       "      <td>0.847985</td>\n",
       "      <td>[0.7442455242966752]</td>\n",
       "      <td>[0.6613636363636364]</td>\n",
       "      <td>[0.8450268234370469]</td>\n",
       "    </tr>\n",
       "    <tr>\n",
       "      <th>5</th>\n",
       "      <td>svm_2</td>\n",
       "      <td>0.847375</td>\n",
       "      <td>[0.7282321899736148]</td>\n",
       "      <td>[0.6524822695035462]</td>\n",
       "      <td>[0.8445453388834628]</td>\n",
       "    </tr>\n",
       "    <tr>\n",
       "      <th>7</th>\n",
       "      <td>svm_3</td>\n",
       "      <td>0.849206</td>\n",
       "      <td>[0.7438423645320197]</td>\n",
       "      <td>[0.6786516853932584]</td>\n",
       "      <td>[0.8469635980348666]</td>\n",
       "    </tr>\n",
       "    <tr>\n",
       "      <th>9</th>\n",
       "      <td>svm_4</td>\n",
       "      <td>0.847282</td>\n",
       "      <td>[0.7485714285714286]</td>\n",
       "      <td>[0.6179245283018868]</td>\n",
       "      <td>[0.8422413534558554]</td>\n",
       "    </tr>\n",
       "    <tr>\n",
       "      <th>...</th>\n",
       "      <td>...</td>\n",
       "      <td>...</td>\n",
       "      <td>...</td>\n",
       "      <td>...</td>\n",
       "      <td>...</td>\n",
       "    </tr>\n",
       "    <tr>\n",
       "      <th>191</th>\n",
       "      <td>svm_5</td>\n",
       "      <td>0.846671</td>\n",
       "      <td>[0.7284263959390863]</td>\n",
       "      <td>[0.665893271461717]</td>\n",
       "      <td>[0.8443907117801964]</td>\n",
       "    </tr>\n",
       "    <tr>\n",
       "      <th>193</th>\n",
       "      <td>svm_6</td>\n",
       "      <td>0.855834</td>\n",
       "      <td>[0.7506775067750677]</td>\n",
       "      <td>[0.6579572446555819]</td>\n",
       "      <td>[0.8525981189567378]</td>\n",
       "    </tr>\n",
       "    <tr>\n",
       "      <th>195</th>\n",
       "      <td>svm_7</td>\n",
       "      <td>0.860721</td>\n",
       "      <td>[0.7805486284289277]</td>\n",
       "      <td>[0.6909492273730684]</td>\n",
       "      <td>[0.8579768691424723]</td>\n",
       "    </tr>\n",
       "    <tr>\n",
       "      <th>197</th>\n",
       "      <td>svm_8</td>\n",
       "      <td>0.850336</td>\n",
       "      <td>[0.7310924369747899]</td>\n",
       "      <td>[0.6365853658536585]</td>\n",
       "      <td>[0.8467470682893583]</td>\n",
       "    </tr>\n",
       "    <tr>\n",
       "      <th>199</th>\n",
       "      <td>svm_9</td>\n",
       "      <td>0.854612</td>\n",
       "      <td>[0.7402234636871509]</td>\n",
       "      <td>[0.6463414634146342]</td>\n",
       "      <td>[0.8511985229543984]</td>\n",
       "    </tr>\n",
       "  </tbody>\n",
       "</table>\n",
       "<p>100 rows × 5 columns</p>\n",
       "</div>"
      ],
      "text/plain": [
       "     model  accuracy_score             Precision                recall  \\\n",
       "1    svm_0        0.859585  [0.7676767676767676]  [0.6877828054298643]   \n",
       "3    svm_1        0.847985  [0.7442455242966752]  [0.6613636363636364]   \n",
       "5    svm_2        0.847375  [0.7282321899736148]  [0.6524822695035462]   \n",
       "7    svm_3        0.849206  [0.7438423645320197]  [0.6786516853932584]   \n",
       "9    svm_4        0.847282  [0.7485714285714286]  [0.6179245283018868]   \n",
       "..     ...             ...                   ...                   ...   \n",
       "191  svm_5        0.846671  [0.7284263959390863]   [0.665893271461717]   \n",
       "193  svm_6        0.855834  [0.7506775067750677]  [0.6579572446555819]   \n",
       "195  svm_7        0.860721  [0.7805486284289277]  [0.6909492273730684]   \n",
       "197  svm_8        0.850336  [0.7310924369747899]  [0.6365853658536585]   \n",
       "199  svm_9        0.854612  [0.7402234636871509]  [0.6463414634146342]   \n",
       "\n",
       "                F-1 score  \n",
       "1    [0.8570556545519394]  \n",
       "3    [0.8450268234370469]  \n",
       "5    [0.8445453388834628]  \n",
       "7    [0.8469635980348666]  \n",
       "9    [0.8422413534558554]  \n",
       "..                    ...  \n",
       "191  [0.8443907117801964]  \n",
       "193  [0.8525981189567378]  \n",
       "195  [0.8579768691424723]  \n",
       "197  [0.8467470682893583]  \n",
       "199  [0.8511985229543984]  \n",
       "\n",
       "[100 rows x 5 columns]"
      ]
     },
     "execution_count": 17,
     "metadata": {},
     "output_type": "execute_result"
    }
   ],
   "source": [
    "knn_result = df_result[df_result.index%2 != 0]\n",
    "knn_result"
   ]
  },
  {
   "cell_type": "code",
   "execution_count": 18,
   "metadata": {},
   "outputs": [
    {
     "data": {
      "text/html": [
       "<div>\n",
       "<style scoped>\n",
       "    .dataframe tbody tr th:only-of-type {\n",
       "        vertical-align: middle;\n",
       "    }\n",
       "\n",
       "    .dataframe tbody tr th {\n",
       "        vertical-align: top;\n",
       "    }\n",
       "\n",
       "    .dataframe thead th {\n",
       "        text-align: right;\n",
       "    }\n",
       "</style>\n",
       "<table border=\"1\" class=\"dataframe\">\n",
       "  <thead>\n",
       "    <tr style=\"text-align: right;\">\n",
       "      <th></th>\n",
       "      <th>model</th>\n",
       "      <th>accuracy_score</th>\n",
       "      <th>Precision</th>\n",
       "      <th>recall</th>\n",
       "      <th>F-1 score</th>\n",
       "    </tr>\n",
       "  </thead>\n",
       "  <tbody>\n",
       "    <tr>\n",
       "      <th>0</th>\n",
       "      <td>svm_0</td>\n",
       "      <td>0.730159</td>\n",
       "      <td>[0.0]</td>\n",
       "      <td>[0.0]</td>\n",
       "      <td>[0.6162807630697539]</td>\n",
       "    </tr>\n",
       "    <tr>\n",
       "      <th>2</th>\n",
       "      <td>svm_1</td>\n",
       "      <td>0.731380</td>\n",
       "      <td>[0.0]</td>\n",
       "      <td>[0.0]</td>\n",
       "      <td>[0.6179075586691947]</td>\n",
       "    </tr>\n",
       "    <tr>\n",
       "      <th>4</th>\n",
       "      <td>svm_2</td>\n",
       "      <td>0.741758</td>\n",
       "      <td>[0.0]</td>\n",
       "      <td>[0.0]</td>\n",
       "      <td>[0.6317814677436129]</td>\n",
       "    </tr>\n",
       "    <tr>\n",
       "      <th>6</th>\n",
       "      <td>svm_3</td>\n",
       "      <td>0.728327</td>\n",
       "      <td>[0.0]</td>\n",
       "      <td>[0.0]</td>\n",
       "      <td>[0.6138427293496173]</td>\n",
       "    </tr>\n",
       "    <tr>\n",
       "      <th>8</th>\n",
       "      <td>svm_4</td>\n",
       "      <td>0.740990</td>\n",
       "      <td>[0.0]</td>\n",
       "      <td>[0.0]</td>\n",
       "      <td>[0.6307511601238894]</td>\n",
       "    </tr>\n",
       "    <tr>\n",
       "      <th>...</th>\n",
       "      <td>...</td>\n",
       "      <td>...</td>\n",
       "      <td>...</td>\n",
       "      <td>...</td>\n",
       "      <td>...</td>\n",
       "    </tr>\n",
       "    <tr>\n",
       "      <th>190</th>\n",
       "      <td>svm_5</td>\n",
       "      <td>0.736714</td>\n",
       "      <td>[0.0]</td>\n",
       "      <td>[0.0]</td>\n",
       "      <td>[0.6250274227002158]</td>\n",
       "    </tr>\n",
       "    <tr>\n",
       "      <th>192</th>\n",
       "      <td>svm_6</td>\n",
       "      <td>0.742822</td>\n",
       "      <td>[0.0]</td>\n",
       "      <td>[0.0]</td>\n",
       "      <td>[0.6332084393476222]</td>\n",
       "    </tr>\n",
       "    <tr>\n",
       "      <th>194</th>\n",
       "      <td>svm_7</td>\n",
       "      <td>0.723274</td>\n",
       "      <td>[0.0]</td>\n",
       "      <td>[0.0]</td>\n",
       "      <td>[0.6071299185769007]</td>\n",
       "    </tr>\n",
       "    <tr>\n",
       "      <th>196</th>\n",
       "      <td>svm_8</td>\n",
       "      <td>0.749542</td>\n",
       "      <td>[0.0]</td>\n",
       "      <td>[0.0]</td>\n",
       "      <td>[0.6422401142572426]</td>\n",
       "    </tr>\n",
       "    <tr>\n",
       "      <th>198</th>\n",
       "      <td>svm_9</td>\n",
       "      <td>0.749542</td>\n",
       "      <td>[0.0]</td>\n",
       "      <td>[0.0]</td>\n",
       "      <td>[0.6422401142572426]</td>\n",
       "    </tr>\n",
       "  </tbody>\n",
       "</table>\n",
       "<p>100 rows × 5 columns</p>\n",
       "</div>"
      ],
      "text/plain": [
       "     model  accuracy_score Precision recall             F-1 score\n",
       "0    svm_0        0.730159     [0.0]  [0.0]  [0.6162807630697539]\n",
       "2    svm_1        0.731380     [0.0]  [0.0]  [0.6179075586691947]\n",
       "4    svm_2        0.741758     [0.0]  [0.0]  [0.6317814677436129]\n",
       "6    svm_3        0.728327     [0.0]  [0.0]  [0.6138427293496173]\n",
       "8    svm_4        0.740990     [0.0]  [0.0]  [0.6307511601238894]\n",
       "..     ...             ...       ...    ...                   ...\n",
       "190  svm_5        0.736714     [0.0]  [0.0]  [0.6250274227002158]\n",
       "192  svm_6        0.742822     [0.0]  [0.0]  [0.6332084393476222]\n",
       "194  svm_7        0.723274     [0.0]  [0.0]  [0.6071299185769007]\n",
       "196  svm_8        0.749542     [0.0]  [0.0]  [0.6422401142572426]\n",
       "198  svm_9        0.749542     [0.0]  [0.0]  [0.6422401142572426]\n",
       "\n",
       "[100 rows x 5 columns]"
      ]
     },
     "execution_count": 18,
     "metadata": {},
     "output_type": "execute_result"
    }
   ],
   "source": [
    "svm_result = df_result[df_result.index%2 == 0]\n",
    "svm_result"
   ]
  },
  {
   "cell_type": "code",
   "execution_count": 21,
   "metadata": {
    "scrolled": true
   },
   "outputs": [
    {
     "data": {
      "text/html": [
       "<div>\n",
       "<style scoped>\n",
       "    .dataframe tbody tr th:only-of-type {\n",
       "        vertical-align: middle;\n",
       "    }\n",
       "\n",
       "    .dataframe tbody tr th {\n",
       "        vertical-align: top;\n",
       "    }\n",
       "\n",
       "    .dataframe thead th {\n",
       "        text-align: right;\n",
       "    }\n",
       "</style>\n",
       "<table border=\"1\" class=\"dataframe\">\n",
       "  <thead>\n",
       "    <tr style=\"text-align: right;\">\n",
       "      <th></th>\n",
       "      <th>model</th>\n",
       "      <th>accuracy_score</th>\n",
       "      <th>Precision</th>\n",
       "      <th>recall</th>\n",
       "      <th>F-1 score</th>\n",
       "    </tr>\n",
       "  </thead>\n",
       "  <tbody>\n",
       "    <tr>\n",
       "      <th>92</th>\n",
       "      <td>svm_6</td>\n",
       "      <td>0.761759</td>\n",
       "      <td>[0.0]</td>\n",
       "      <td>[0.0]</td>\n",
       "      <td>[0.6587474804643316]</td>\n",
       "    </tr>\n",
       "    <tr>\n",
       "      <th>134</th>\n",
       "      <td>svm_7</td>\n",
       "      <td>0.755651</td>\n",
       "      <td>[0.0]</td>\n",
       "      <td>[0.0]</td>\n",
       "      <td>[0.6504800054753314]</td>\n",
       "    </tr>\n",
       "  </tbody>\n",
       "</table>\n",
       "</div>"
      ],
      "text/plain": [
       "     model  accuracy_score Precision recall             F-1 score\n",
       "92   svm_6        0.761759     [0.0]  [0.0]  [0.6587474804643316]\n",
       "134  svm_7        0.755651     [0.0]  [0.0]  [0.6504800054753314]"
      ]
     },
     "execution_count": 21,
     "metadata": {},
     "output_type": "execute_result"
    }
   ],
   "source": [
    "svm_final = svm_result.nlargest(2, 'accuracy_score')\n",
    "svm_final"
   ]
  },
  {
   "cell_type": "code",
   "execution_count": 22,
   "metadata": {},
   "outputs": [
    {
     "data": {
      "text/html": [
       "<div>\n",
       "<style scoped>\n",
       "    .dataframe tbody tr th:only-of-type {\n",
       "        vertical-align: middle;\n",
       "    }\n",
       "\n",
       "    .dataframe tbody tr th {\n",
       "        vertical-align: top;\n",
       "    }\n",
       "\n",
       "    .dataframe thead th {\n",
       "        text-align: right;\n",
       "    }\n",
       "</style>\n",
       "<table border=\"1\" class=\"dataframe\">\n",
       "  <thead>\n",
       "    <tr style=\"text-align: right;\">\n",
       "      <th></th>\n",
       "      <th>model</th>\n",
       "      <th>accuracy_score</th>\n",
       "      <th>Precision</th>\n",
       "      <th>recall</th>\n",
       "      <th>F-1 score</th>\n",
       "    </tr>\n",
       "  </thead>\n",
       "  <tbody>\n",
       "    <tr>\n",
       "      <th>89</th>\n",
       "      <td>svm_4</td>\n",
       "      <td>0.864386</td>\n",
       "      <td>[0.7644110275689223]</td>\n",
       "      <td>[0.7043879907621247]</td>\n",
       "      <td>[0.8625591917245857]</td>\n",
       "    </tr>\n",
       "    <tr>\n",
       "      <th>175</th>\n",
       "      <td>svm_7</td>\n",
       "      <td>0.861332</td>\n",
       "      <td>[0.7396907216494846]</td>\n",
       "      <td>[0.6949152542372882]</td>\n",
       "      <td>[0.8598686285219669]</td>\n",
       "    </tr>\n",
       "  </tbody>\n",
       "</table>\n",
       "</div>"
      ],
      "text/plain": [
       "     model  accuracy_score             Precision                recall  \\\n",
       "89   svm_4        0.864386  [0.7644110275689223]  [0.7043879907621247]   \n",
       "175  svm_7        0.861332  [0.7396907216494846]  [0.6949152542372882]   \n",
       "\n",
       "                F-1 score  \n",
       "89   [0.8625591917245857]  \n",
       "175  [0.8598686285219669]  "
      ]
     },
     "execution_count": 22,
     "metadata": {},
     "output_type": "execute_result"
    }
   ],
   "source": [
    "knn_final = knn_result.nlargest(2, 'accuracy_score')\n",
    "knn_final"
   ]
  },
  {
   "cell_type": "code",
   "execution_count": 35,
   "metadata": {},
   "outputs": [
    {
     "data": {
      "text/html": [
       "<div>\n",
       "<style scoped>\n",
       "    .dataframe tbody tr th:only-of-type {\n",
       "        vertical-align: middle;\n",
       "    }\n",
       "\n",
       "    .dataframe tbody tr th {\n",
       "        vertical-align: top;\n",
       "    }\n",
       "\n",
       "    .dataframe thead th {\n",
       "        text-align: right;\n",
       "    }\n",
       "</style>\n",
       "<table border=\"1\" class=\"dataframe\">\n",
       "  <thead>\n",
       "    <tr style=\"text-align: right;\">\n",
       "      <th></th>\n",
       "      <th>model</th>\n",
       "      <th>accuracy_score</th>\n",
       "      <th>Precision</th>\n",
       "      <th>recall</th>\n",
       "      <th>F-1 score</th>\n",
       "    </tr>\n",
       "  </thead>\n",
       "  <tbody>\n",
       "    <tr>\n",
       "      <th>92</th>\n",
       "      <td>svm_6</td>\n",
       "      <td>0.761759</td>\n",
       "      <td>[0.0]</td>\n",
       "      <td>[0.0]</td>\n",
       "      <td>[0.6587474804643316]</td>\n",
       "    </tr>\n",
       "    <tr>\n",
       "      <th>134</th>\n",
       "      <td>svm_7</td>\n",
       "      <td>0.755651</td>\n",
       "      <td>[0.0]</td>\n",
       "      <td>[0.0]</td>\n",
       "      <td>[0.6504800054753314]</td>\n",
       "    </tr>\n",
       "    <tr>\n",
       "      <th>89</th>\n",
       "      <td>svm_4</td>\n",
       "      <td>0.864386</td>\n",
       "      <td>[0.7644110275689223]</td>\n",
       "      <td>[0.7043879907621247]</td>\n",
       "      <td>[0.8625591917245857]</td>\n",
       "    </tr>\n",
       "    <tr>\n",
       "      <th>175</th>\n",
       "      <td>svm_7</td>\n",
       "      <td>0.861332</td>\n",
       "      <td>[0.7396907216494846]</td>\n",
       "      <td>[0.6949152542372882]</td>\n",
       "      <td>[0.8598686285219669]</td>\n",
       "    </tr>\n",
       "  </tbody>\n",
       "</table>\n",
       "</div>"
      ],
      "text/plain": [
       "     model  accuracy_score             Precision                recall  \\\n",
       "92   svm_6        0.761759                 [0.0]                 [0.0]   \n",
       "134  svm_7        0.755651                 [0.0]                 [0.0]   \n",
       "89   svm_4        0.864386  [0.7644110275689223]  [0.7043879907621247]   \n",
       "175  svm_7        0.861332  [0.7396907216494846]  [0.6949152542372882]   \n",
       "\n",
       "                F-1 score  \n",
       "92   [0.6587474804643316]  \n",
       "134  [0.6504800054753314]  \n",
       "89   [0.8625591917245857]  \n",
       "175  [0.8598686285219669]  "
      ]
     },
     "execution_count": 35,
     "metadata": {},
     "output_type": "execute_result"
    }
   ],
   "source": [
    "svm_df = pd.DataFrame(data=svm_final)\n",
    "knn_df = pd.DataFrame(data=knn_final)\n",
    "final = pd.concat([svm_df,knn_df])\n",
    "final "
   ]
  },
  {
   "cell_type": "code",
   "execution_count": null,
   "metadata": {},
   "outputs": [],
   "source": []
  }
 ],
 "metadata": {
  "kernelspec": {
   "display_name": "Python 3",
   "language": "python",
   "name": "python3"
  },
  "language_info": {
   "codemirror_mode": {
    "name": "ipython",
    "version": 3
   },
   "file_extension": ".py",
   "mimetype": "text/x-python",
   "name": "python",
   "nbconvert_exporter": "python",
   "pygments_lexer": "ipython3",
   "version": "3.7.4"
  }
 },
 "nbformat": 4,
 "nbformat_minor": 2
}
