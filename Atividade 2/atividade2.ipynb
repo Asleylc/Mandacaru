{
 "cells": [
  {
   "cell_type": "markdown",
   "metadata": {},
   "source": [
    "# Atividade 2 Mandacaru Modulo Cacto"
   ]
  },
  {
   "cell_type": "code",
   "execution_count": null,
   "metadata": {},
   "outputs": [],
   "source": [
    "# autor Asley Lioba Caldas"
   ]
  },
  {
   "cell_type": "markdown",
   "metadata": {},
   "source": [
    "# Import"
   ]
  },
  {
   "cell_type": "code",
   "execution_count": null,
   "metadata": {},
   "outputs": [],
   "source": [
    "import requests\n",
    "import json\n",
    "import pandas as pd\n",
    "from pandas import json_normalize\n",
    "import geopandas as gpd\n",
    "import seaborn as sns\n",
    "import plotly as plt\n",
    "import plotly.express as px\n",
    "from urllib.request import urlopen\n",
    "import pandas as pd\n",
    "import numpy as np"
   ]
  },
  {
   "cell_type": "markdown",
   "metadata": {},
   "source": [
    "# Item 1 - BoxPlot"
   ]
  },
  {
   "cell_type": "code",
   "execution_count": null,
   "metadata": {},
   "outputs": [],
   "source": [
    "# Obtendo os dados rendimento nominal mensal -mt e go\n",
    "# Dados obtidos em https://servicodados.ibge.gov.br/api/docs/agregados?versao=3\n",
    "url = 'https://servicodados.ibge.gov.br/api/v3/agregados/3974/periodos/2010/variaveis/3948?localidades=N6[N3[51,52]]&classificacao=12085[100543]|58[95253]'\n",
    "response = requests.get(url)\n",
    "rend = response.json()\n",
    "print(rend)\n"
   ]
  },
  {
   "cell_type": "code",
   "execution_count": null,
   "metadata": {},
   "outputs": [],
   "source": [
    "url = 'https://servicodados.ibge.gov.br/api/v3/agregados/3974/periodos/2010/variaveis/3948?localidades=N6[N3[51,52]]&classificacao=12085[100543]|58[95253]'\n",
    "response = requests.get(url)\n",
    "rend = response.json()\n",
    "for item in rend:\n",
    "    for key in item['resultados']:\n",
    "        rendJson = key\n",
    "rendJson.pop('classificacoes')\n",
    "dfrend = pd.json_normalize(rendJson['series'])\n",
    "dfrend.head()\n"
   ]
  },
  {
   "cell_type": "code",
   "execution_count": null,
   "metadata": {},
   "outputs": [],
   "source": [
    "dfrend.rename(columns = {'localidade.nome':'nome'}, inplace = True)\n",
    "dfrend.rename(columns = {'localidade.id':'id'}, inplace = True)\n",
    "dfrend.rename(columns = {'localidade.nivel.id':'n_id'}, inplace = True)\n",
    "dfrend.rename(columns = {'localidade.nivel.nome':'tipo'}, inplace = True)\n",
    "dfrend.rename(columns = {'serie.20':'rendimento'}, inplace = True)\n",
    "\n",
    "dfrend"
   ]
  },
  {
   "cell_type": "code",
   "execution_count": null,
   "metadata": {},
   "outputs": [],
   "source": [
    "dfrend.drop(columns=['tipo','n_id'], inplace = True)\n",
    "dfrend.rename(columns = {'serie.2010':'rendimento'}, inplace = True)"
   ]
  },
  {
   "cell_type": "code",
   "execution_count": null,
   "metadata": {},
   "outputs": [],
   "source": [
    "dfrend"
   ]
  },
  {
   "cell_type": "code",
   "execution_count": null,
   "metadata": {},
   "outputs": [],
   "source": [
    "dfrend[['cidade','estado']]=dfrend.nome.str.split(' - ',expand=True)\n",
    "print(dfrend)"
   ]
  },
  {
   "cell_type": "code",
   "execution_count": null,
   "metadata": {},
   "outputs": [],
   "source": [
    "dfrend.drop(columns=['nome'], inplace = True)\n"
   ]
  },
  {
   "cell_type": "code",
   "execution_count": null,
   "metadata": {},
   "outputs": [],
   "source": [
    "import plotly.express as px \n",
    "  \n",
    "\n",
    "fig = px.box(dfrend, x=\"estado\", y=\"rendimento\") \n",
    "  \n",
    "fig.show()"
   ]
  },
  {
   "cell_type": "code",
   "execution_count": null,
   "metadata": {},
   "outputs": [],
   "source": []
  },
  {
   "cell_type": "code",
   "execution_count": null,
   "metadata": {},
   "outputs": [],
   "source": [
    "# Obtendo os dados cabeça de bois -mt e go\n",
    "url = 'https://servicodados.ibge.gov.br/api/v3/agregados/1224/periodos/2006/variaveis/2057?localidades=N3[51,52]|N6[N3[51,52]]&classificacao=12947[0]'\n",
    "response = requests.get(url)\n",
    "boi = response.json()\n",
    "print(boi)\n"
   ]
  },
  {
   "cell_type": "code",
   "execution_count": null,
   "metadata": {},
   "outputs": [],
   "source": [
    "url = 'https://servicodados.ibge.gov.br/api/v3/agregados/1224/periodos/2006/variaveis/2057?localidades=N3[51,52]|N6[N3[51,52]]&classificacao=12947[0]'\n",
    "response = requests.get(url)\n",
    "boi = response.json()\n",
    "for item in boi:\n",
    "    for key in item['resultados']:\n",
    "        boiJson = key\n",
    "boiJson.pop('classificacoes')\n",
    "dfboi = pd.json_normalize(boiJson['series'])\n",
    "dfboi.head()\n"
   ]
  },
  {
   "cell_type": "code",
   "execution_count": null,
   "metadata": {},
   "outputs": [],
   "source": [
    "dfboi.rename(columns = {'localidade.nome':'nome'}, inplace = True)\n",
    "dfboi.rename(columns = {'localidade.id':'id'}, inplace = True)\n",
    "dfboi.rename(columns = {'localidade.nivel.id':'n_id'}, inplace = True)\n",
    "dfboi.rename(columns = {'localidade.nivel.nome':'tipo'}, inplace = True)\n",
    "dfboi.rename(columns = {'serie.2006':'bovinos'}, inplace = True)\n",
    "\n",
    "dfboi"
   ]
  },
  {
   "cell_type": "code",
   "execution_count": null,
   "metadata": {},
   "outputs": [],
   "source": [
    "dfboi.dtypes\n"
   ]
  },
  {
   "cell_type": "code",
   "execution_count": null,
   "metadata": {},
   "outputs": [],
   "source": [
    "dfboi.id.astype(float)\n",
    "dfboi.bovinos.astype(float)\n",
    "dfboi.nome.astype(str)"
   ]
  },
  {
   "cell_type": "code",
   "execution_count": null,
   "metadata": {},
   "outputs": [],
   "source": [
    "# escolhendo apenas Mato Grosso e Goiás\n",
    "df_mask=dfboi['n_id']== 'N3'\n",
    "filtered_df = dfboi[df_mask]\n",
    "print(filtered_df)"
   ]
  },
  {
   "cell_type": "code",
   "execution_count": null,
   "metadata": {},
   "outputs": [],
   "source": [
    "filtered_df.drop(columns=['tipo','n_id'], inplace = True)\n",
    "filtered_df.set_index('nome',inplace=True)"
   ]
  },
  {
   "cell_type": "code",
   "execution_count": null,
   "metadata": {},
   "outputs": [],
   "source": [
    "filtered_df"
   ]
  },
  {
   "cell_type": "code",
   "execution_count": null,
   "metadata": {},
   "outputs": [],
   "source": [
    "filtered_df.T"
   ]
  },
  {
   "cell_type": "code",
   "execution_count": null,
   "metadata": {},
   "outputs": [],
   "source": [
    "ax = sns.boxplot(data=filtered_df.T, orient=\"h\", palette=\"Set2\")"
   ]
  },
  {
   "cell_type": "code",
   "execution_count": null,
   "metadata": {},
   "outputs": [],
   "source": [
    "df_mask=dfboi['n_id']== 'N6'\n",
    "filtered_df2 = '' \n",
    "filtered_df2 = dfboi[df_mask]\n",
    "print(filtered_df2)"
   ]
  },
  {
   "cell_type": "code",
   "execution_count": null,
   "metadata": {},
   "outputs": [],
   "source": [
    "filtered_df2[['cidade','estado']]=filtered_df2.nome.str.split(' - ',expand=True)\n",
    "print(filtered_df2)"
   ]
  },
  {
   "cell_type": "code",
   "execution_count": null,
   "metadata": {},
   "outputs": [],
   "source": [
    "filtered_df2.drop(columns=['tipo','n_id','nome','cidade'], inplace = True)\n",
    "#filtered_df2.set_index('estado',inplace=True)"
   ]
  },
  {
   "cell_type": "code",
   "execution_count": null,
   "metadata": {},
   "outputs": [],
   "source": [
    "filtered_df2"
   ]
  },
  {
   "cell_type": "code",
   "execution_count": null,
   "metadata": {},
   "outputs": [],
   "source": [
    "sns.boxplot(data=filtered_df2)"
   ]
  },
  {
   "cell_type": "code",
   "execution_count": null,
   "metadata": {},
   "outputs": [],
   "source": [
    "df_mask=filtered_df2['estado']== 'MT'\n",
    "df_MT = filtered_df2[df_mask]\n",
    "df1 = filtered_df2[df_mask]\n",
    "df_MT.drop(columns=['estado'], inplace = True)\n",
    "\n",
    "\n",
    "df_mask=filtered_df2['estado']== 'GO'\n",
    "df_GO = filtered_df2[df_mask]\n",
    "df2 = filtered_df2[df_mask]\n",
    "df_GO.drop(columns=['estado'], inplace = True)"
   ]
  },
  {
   "cell_type": "code",
   "execution_count": null,
   "metadata": {},
   "outputs": [],
   "source": [
    "sns.boxplot(data=df_MT)"
   ]
  },
  {
   "cell_type": "code",
   "execution_count": null,
   "metadata": {
    "scrolled": false
   },
   "outputs": [],
   "source": [
    "sns.boxplot(data=df_GO)"
   ]
  },
  {
   "cell_type": "code",
   "execution_count": null,
   "metadata": {},
   "outputs": [],
   "source": [
    "import plotly.express as px \n",
    "  \n",
    "\n",
    "fig = px.box(filtered_df2, x=\"estado\", y=\"bovinos\") \n",
    "  \n",
    "fig.show()"
   ]
  },
  {
   "cell_type": "code",
   "execution_count": null,
   "metadata": {},
   "outputs": [],
   "source": [
    "filtered_df2"
   ]
  },
  {
   "cell_type": "markdown",
   "metadata": {},
   "source": [
    "# Item 2 - Line chart"
   ]
  },
  {
   "cell_type": "code",
   "execution_count": null,
   "metadata": {},
   "outputs": [],
   "source": [
    "url = 'https://servicodados.ibge.gov.br/api/v3/agregados/2296/periodos/200001|200002|200003|200004|200005|200006|200007|200008|200009|200010|200011|200012|200101|200102|200103|200104|200105|200106|200107|200108|200109|200110|200111|200112|200201|200202|200203|200204|200205|200206|200207|200208|200209|200210|200211|200212|200301|200302|200303|200304|200305|200306|200307|200308|200309|200310|200311|200312|200401|200402|200403|200404|200405|200406|200407|200408|200409|200410|200411|200412|200501|200502|200503|200504|200505|200506|200507|200508|200509|200510|200511|200512|200601|200602|200603|200604|200605|200606|200607|200608|200609|200610|200611|200612|200701|200702|200703|200704|200705|200706|200707|200708|200709|200710|200711|200712|200801|200802|200803|200804|200805|200806|200807|200808|200809|200810|200811|200812|200901|200902|200903|200904|200905|200906|200907|200908|200909|200910|200911|200912|201001|201002|201003|201004|201005|201006|201007|201008|201009|201010|201011|201012|201101|201102|201103|201104|201105|201106|201107|201108|201109|201110|201111|201112|201201|201202|201203|201204|201205|201206|201207|201208|201209|201210|201211|201212|201301|201302|201303|201304|201305|201306|201307|201308|201309|201310|201311|201312|201401|201402|201403|201404|201405|201406|201407|201408|201409|201410|201411|201412|201501|201502|201503|201504|201505|201506|201507|201508|201509|201510|201511|201512|201601|201602|201603|201604|201605|201606|201607|201608|201609|201610|201611|201612|201701|201702|201703|201704|201705|201706|201707|201708|201709|201710|201711|201712|201801|201802|201803|201804|201805|201806|201807|201808|201809|201810|201811|201812|201901|201902|201903|201904|201905|201906|201907|201908|201909|201910|201911|201912|202001|202002|202003|202004|202005|202006|202007|202008|202009|202010|202011|202012|202101|202102|202103|202104|202105|202106|202107|202108|202109|202110|202111|202112|202201|202202|202203|202204/variaveis/49?localidades=N3[51,52]'\n",
    "response = requests.get(url)\n",
    "civil = response.json()\n",
    "for item in civil:\n",
    "    for key in item['resultados']:\n",
    "        civilJson = key\n",
    "civilJson.pop('classificacoes')\n",
    "dfcivil = pd.json_normalize(civilJson['series'])\n",
    "dfcivil.head()"
   ]
  },
  {
   "cell_type": "code",
   "execution_count": null,
   "metadata": {},
   "outputs": [],
   "source": [
    "\n",
    "dfcivil.rename(columns = {'localidade.id':'id'}, inplace = True)\n",
    "dfcivil.set_index('id',inplace=True)\n",
    "dfcivil.drop(columns=['localidade.nivel.id', 'localidade.nivel.nome','localidade.nome'], inplace = True)\n",
    "\n",
    "dfcivil"
   ]
  },
  {
   "cell_type": "code",
   "execution_count": null,
   "metadata": {},
   "outputs": [],
   "source": [
    "colunas = dfcivil.columns.str.split('.').str[1]"
   ]
  },
  {
   "cell_type": "code",
   "execution_count": null,
   "metadata": {},
   "outputs": [],
   "source": [
    "dfcivil.set_axis(colunas,axis='columns', inplace=True)"
   ]
  },
  {
   "cell_type": "code",
   "execution_count": null,
   "metadata": {},
   "outputs": [],
   "source": [
    "dfcivil \n",
    "# posso fazer a soma dos valores de data."
   ]
  },
  {
   "cell_type": "code",
   "execution_count": null,
   "metadata": {},
   "outputs": [],
   "source": [
    "df = dfcivil.T\n",
    "df"
   ]
  },
  {
   "cell_type": "code",
   "execution_count": null,
   "metadata": {},
   "outputs": [],
   "source": [
    "df.dtypes"
   ]
  },
  {
   "cell_type": "code",
   "execution_count": null,
   "metadata": {},
   "outputs": [],
   "source": [
    "df = df.astype(float)"
   ]
  },
  {
   "cell_type": "code",
   "execution_count": null,
   "metadata": {},
   "outputs": [],
   "source": [
    "df.rename(columns = {'51':'Mato Grosso','52':'Goias'}, inplace = True)\n",
    "lines = df.plot.line()"
   ]
  },
  {
   "cell_type": "code",
   "execution_count": null,
   "metadata": {},
   "outputs": [],
   "source": []
  },
  {
   "cell_type": "code",
   "execution_count": null,
   "metadata": {},
   "outputs": [],
   "source": [
    "url = 'https://servicodados.ibge.gov.br/api/v3/agregados/5939/periodos/2002|2003|2004|2005|2006|2007|2008|2009|2010|2011|2012|2013|2014|2015|2016|2017|2018|2019/variaveis/529?localidades=N3[51,52]'\n",
    "response = requests.get(url)\n",
    "pib = response.json()\n",
    "for item in pib:\n",
    "    for key in item['resultados']:\n",
    "        pibJson = key\n",
    "pibJson.pop('classificacoes')\n",
    "dfPIB = pd.json_normalize(pibJson['series'])\n",
    "dfPIB.head()\n"
   ]
  },
  {
   "cell_type": "code",
   "execution_count": null,
   "metadata": {},
   "outputs": [],
   "source": [
    "dfPIB.rename(columns = {'localidade.nome':'nome'}, inplace = True)\n",
    "\n",
    "dfPIB.drop(columns=['localidade.nivel.id', 'localidade.nivel.nome','localidade.id'], inplace = True)\n",
    "\n",
    "dfPIB"
   ]
  },
  {
   "cell_type": "code",
   "execution_count": null,
   "metadata": {},
   "outputs": [],
   "source": [
    "dfPIB.set_index('nome',inplace=True)"
   ]
  },
  {
   "cell_type": "code",
   "execution_count": null,
   "metadata": {},
   "outputs": [],
   "source": [
    "colunas = dfPIB.columns.str.split('.').str[1]\n",
    "\n",
    "dfPIB.set_axis(colunas,axis='columns', inplace=True)"
   ]
  },
  {
   "cell_type": "code",
   "execution_count": null,
   "metadata": {},
   "outputs": [],
   "source": [
    "df2 = dfPIB.T\n",
    "df2 = df2.astype(float)\n",
    "lines = df2.plot.line()"
   ]
  },
  {
   "cell_type": "markdown",
   "metadata": {},
   "source": [
    "# Item 3 - Mapa Coroplético"
   ]
  },
  {
   "cell_type": "code",
   "execution_count": null,
   "metadata": {},
   "outputs": [],
   "source": []
  },
  {
   "cell_type": "code",
   "execution_count": null,
   "metadata": {},
   "outputs": [],
   "source": [
    "# Número de unidades locais das entidades sem fins lucrativosem  mt e go\n",
    "url = 'https://servicodados.ibge.gov.br/api/v3/agregados/6917/periodos/2016/variaveis/2122?localidades=N6[N3[51,52]]&classificacao=12665[114484]'\n",
    "response = requests.get(url)\n",
    "numT = response.json()\n",
    "print(numT)"
   ]
  },
  {
   "cell_type": "code",
   "execution_count": null,
   "metadata": {},
   "outputs": [],
   "source": [
    "url = 'https://servicodados.ibge.gov.br/api/v3/agregados/6917/periodos/2016/variaveis/2122?localidades=N6[N3[51,52]]&classificacao=12665[114484]'\n",
    "response = requests.get(url)\n",
    "numT = response.json()\n",
    "for item in numT:\n",
    "    for key in item['resultados']:\n",
    "        numTJson = key\n",
    "numTJson.pop('classificacoes')\n",
    "dfnumT = pd.json_normalize(numTJson['series'])\n",
    "dfnumT.head()"
   ]
  },
  {
   "cell_type": "code",
   "execution_count": null,
   "metadata": {},
   "outputs": [],
   "source": [
    "dfnumT.rename(columns = {'localidade.nome':'nome'}, inplace = True)\n",
    "dfnumT.rename(columns = {'localidade.id':'id'}, inplace = True)\n",
    "dfnumT.rename(columns = {'localidade.nivel.id':'n_id'}, inplace = True)\n",
    "dfnumT.rename(columns = {'localidade.nivel.nome':'tipo'}, inplace = True)\n",
    "dfnumT.rename(columns = {'serie.2016':'unidades'}, inplace = True)\n"
   ]
  },
  {
   "cell_type": "code",
   "execution_count": null,
   "metadata": {},
   "outputs": [],
   "source": [
    "dfnumT[['cidade','estado']]=dfnumT.nome.str.split(' - ',expand=True)"
   ]
  },
  {
   "cell_type": "code",
   "execution_count": null,
   "metadata": {},
   "outputs": [],
   "source": [
    "dfnumT.drop(columns=['tipo','n_id','nome'], inplace = True)"
   ]
  },
  {
   "cell_type": "code",
   "execution_count": null,
   "metadata": {},
   "outputs": [],
   "source": [
    "dfnumT.id = dfnumT.id.astype(int)\n"
   ]
  },
  {
   "cell_type": "code",
   "execution_count": null,
   "metadata": {},
   "outputs": [],
   "source": [
    "url = 'https://servicodados.ibge.gov.br/api/v3/malhas/regioes/5?formato=application/vnd.geo+json&qualidade=minima&intrarregiao=municipio'\n",
    "response = requests.get(url)\n",
    "shapesJson = response.json()\n"
   ]
  },
  {
   "cell_type": "code",
   "execution_count": null,
   "metadata": {},
   "outputs": [],
   "source": [
    "indexNames = dfnumT[ dfnumT['unidades'] == '...' ].index\n",
    "# Delete these row indexes from dataFrame\n",
    "dfnumT.drop(indexNames , inplace=True)"
   ]
  },
  {
   "cell_type": "code",
   "execution_count": null,
   "metadata": {},
   "outputs": [],
   "source": [
    "dfnumT"
   ]
  },
  {
   "cell_type": "code",
   "execution_count": null,
   "metadata": {},
   "outputs": [],
   "source": [
    "brazilMap = px.choropleth_mapbox(dfnumT,\n",
    "                geojson=shapesJson, \n",
    "                locations=dfnumT.id,\n",
    "                hover_name ='cidade',\n",
    "                color='unidades',\n",
    "                featureidkey=\"properties.codarea\",\n",
    "                )\n",
    "brazilMap.update_layout(mapbox_style=\"open-street-map\", \n",
    "                            mapbox_zoom=2,\n",
    "                            title=\"Número de unidades locais das entidades sem fins lucrativos MT e GO\")\n",
    "brazilMap.show()"
   ]
  },
  {
   "cell_type": "code",
   "execution_count": null,
   "metadata": {},
   "outputs": [],
   "source": []
  }
 ],
 "metadata": {
  "kernelspec": {
   "display_name": "Python 3",
   "language": "python",
   "name": "python3"
  },
  "language_info": {
   "codemirror_mode": {
    "name": "ipython",
    "version": 3
   },
   "file_extension": ".py",
   "mimetype": "text/x-python",
   "name": "python",
   "nbconvert_exporter": "python",
   "pygments_lexer": "ipython3",
   "version": "3.7.4"
  }
 },
 "nbformat": 4,
 "nbformat_minor": 2
}
