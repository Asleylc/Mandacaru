{
 "cells": [
  {
   "cell_type": "markdown",
   "metadata": {
    "id": "pnkyMqIYQ6Nn"
   },
   "source": [
    "# Atividade 03 - Arquivo Base\n",
    "\n",
    "Descrição da atividade: Clusterizando Dados de Estatísticas Bancárias por Região Geográfica do Brasil\n",
    "\n",
    "Objetivo: Implementar uma solução de clusterização para comparar cidades na mesma região geográfica \n",
    "\n",
    "\n",
    "# Região Sudeste\n",
    "\n",
    "Atividade: \n",
    "Utilize os dados dos **Relatório por município e agência** do ESTBAN [em formato csv](https://www4.bcb.gov.br/fis/cosif/estban.asp?frame=1) de todas as cidades da região selecionada no ano de 2021 para encontrar similaridades no perfil de obtenção de crédito agropecuário e financiamento imobiliário entre cidades. \n",
    "\n",
    "Agrupe as colunas `VERBETE_163_FIN_RURAIS_AGRICUL_CUST/INVEST`, `VERBETE_164_FIN_RURAIS_PECUAR_CUST/INVEST`, `VERBETE_165_FIN_RURAIS_AGRICUL_COMERCIALIZ` e `VERBETE_166_FIN_RURAIS_PECUARIA_COMERCIALIZ` somando seus valores e dividindo pela população para calcular o volume total de financiamentos agropecuários em uma nova coluna `fin_agro_per_capita`. Modifique, também, a coluna `VERBETE_169_FINANCIAMENTOS_IMOBILIARIOS` para `fin_imob_per_capita` . Nos dois casos, divida os valores brutos médios anuais após agrupar por cidade pela população estimada total de cada município, para o ano de 2021.\n",
    " \n",
    "1. Utilize o K-Means para encontrar 5 clusters nessas duas variáveis. Explique se você consegue enxergar alguma relação entre as cidades de cada cluster e exiba um mapa cloroplético.\n",
    "2. Pesquise alguma das variáveis do censo do IBGE (por exemplo: o PIB de cada município) e apresente um histograma ou o box-plot dessa variável para cada cluster. Explique se essa variável tem comportamento diferente em cada cluster.\n",
    "Usando o critério de inércia, varie a quantidade de clusters entre 2 e 10.\n",
    "3. Plote o gráfico de cotovelo e identifique qual quantidade de clusters você recomendaria nesse problema.\n",
    "4. O projeto de lei suplementar 316/09 propôs uma classificação de municípios em cinco categorias:\n",
    "\n",
    "\n",
    "> - Rural, se tiver população inferior a 50 mil habitantes, valor adicionado da agropecuária superior a uma terça parte do PIB municipal e densidade demográfica inferior a 80 habitantes por quilômetro quadrado;\n",
    ">\n",
    "> - Relativamente rural, se tiver população inferior a 50 mil habitantes, valor adicionado da agropecuária entre uma terça parte e quinze centésimos do PIB municipal e densidade demográfica inferior a 80 habitantes por quilômetro quadrado;\n",
    ">\n",
    "> - De pequeno porte, se tiver população inferior a 50 mil habitantes, valor adicionado da agropecuária inferior a quinze centésimos do PIB municipal e densidade demográfica inferior a 80 habitantes por quilômetro quadrado, ou se tiver população inferior a 20 mil habitantes e densidade populacional superior a 80 habitantes por quilômetro quadrado;\n",
    ">\n",
    "> - De médio porte, se tiver população entre 50 mil e cem mil habitantes, ou se tiver densidade demográfica superior a 80 habitantes por quilômetro quadrado e população entre 20 mil e 50 mil habitantes;\n",
    ">\n",
    "> - De grande porte, se tiver população superior a cem mil habitantes.\n",
    "\n",
    "4. (cont) Recupere os dados necessários para montar esta classificação a partir da API do IBGE. Existe alguma similaridade entre os clusters obtidos e a classificação do municípío? Calcule o percentual de clusters pertencentes a cada classe. Existe alguma relação entre eles? Exiba um mapa cloroplético dos municípios de acordo com essa classe.\n",
    "\n",
    "\n",
    "\n"
   ]
  },
  {
   "cell_type": "code",
   "execution_count": null,
   "metadata": {
    "id": "X6JUpbyFOJjD"
   },
   "outputs": [],
   "source": [
    "import pandas as pd\n",
    "import numpy as np"
   ]
  },
  {
   "cell_type": "markdown",
   "metadata": {
    "id": "_fhl1HELUqf_"
   },
   "source": [
    "A sintaxe a seguir armazena os dados de **Relatório por município e agência** do ESTBAN em um único dataframe `df`. [Obtenha os arquivos CSV](https://www4.bcb.gov.br/fis/cosif/estban.asp?frame=1) e carrege para o Google Colab todos os dados relativos ao ano de 2021. Não se esqueça de ajustar o intervalo de busca no laço iterativo."
   ]
  },
  {
   "cell_type": "code",
   "execution_count": null,
   "metadata": {
    "id": "D25p6lQCOZGh"
   },
   "outputs": [],
   "source": [
    "df = pd.DataFrame()\n",
    "for i in range(1,13): #Janeiro até Março (01 a 12)\n",
    "    if i<10:    \n",
    "        filename = \"20210\"+str(i)+\"_ESTBAN_AG.CSV\" # Geração do nome do arquivo\n",
    "        dfAux = pd.read_csv(filename, sep=\";\",on_bad_lines='skip',encoding = \"ISO-8859-1\",  skiprows=2) # Para manipular o carregamento de CSV do ESTBAN\n",
    "        df = pd.concat([df,dfAux], ignore_index=True) # Concatenação de dataframes\n",
    "    else:\n",
    "        filename = \"2021\"+str(i)+\"_ESTBAN_AG.CSV\" # Geração do nome do arquivo\n",
    "        dfAux = pd.read_csv(filename, sep=\";\",on_bad_lines='skip',encoding = \"ISO-8859-1\",  skiprows=2) # Para manipular o carregamento de CSV do ESTBAN\n",
    "        df = pd.concat([df,dfAux], ignore_index=True) # Concatenação de dataframes"
   ]
  },
  {
   "cell_type": "code",
   "execution_count": null,
   "metadata": {
    "colab": {
     "base_uri": "https://localhost:8080/",
     "height": 751
    },
    "id": "6Uklvp25Ug7S",
    "outputId": "870edfb2-bf8c-4112-d36b-35b96ee5f717"
   },
   "outputs": [],
   "source": [
    "df.tail(10) "
   ]
  },
  {
   "cell_type": "markdown",
   "metadata": {
    "id": "AuFJaerJP71y"
   },
   "source": [
    "Verifique que algumas linhas possuem CODMUN `NaN`:"
   ]
  },
  {
   "cell_type": "code",
   "execution_count": null,
   "metadata": {
    "colab": {
     "base_uri": "https://localhost:8080/",
     "height": 699
    },
    "id": "GG3X1OUkO-6Y",
    "outputId": "2ddc4643-ba7f-4baa-dc56-3eb264c911c6"
   },
   "outputs": [],
   "source": [
    "df[df['CODMUN'].isna()]"
   ]
  },
  {
   "cell_type": "markdown",
   "metadata": {
    "id": "jkjWrY-lQhmo"
   },
   "source": [
    "Para a análise nesta atividade, vamos ignorar os bancos "
   ]
  },
  {
   "cell_type": "code",
   "execution_count": null,
   "metadata": {
    "colab": {
     "base_uri": "https://localhost:8080/",
     "height": 230
    },
    "id": "X63za1ViQhWq",
    "outputId": "894df4ff-8927-4381-8a6d-6f86d1d59214"
   },
   "outputs": [],
   "source": [
    "df = df.dropna(subset=['CODMUN'])\n",
    "df[df['CODMUN'].isna()]"
   ]
  },
  {
   "cell_type": "markdown",
   "metadata": {
    "id": "uDh6m6rrXMUM"
   },
   "source": [
    "Podemos visualizar quais colunas estão presentes no dataset:"
   ]
  },
  {
   "cell_type": "code",
   "execution_count": null,
   "metadata": {
    "colab": {
     "base_uri": "https://localhost:8080/"
    },
    "id": "eYHI89vvXMFY",
    "outputId": "229084b8-ff0a-437b-e4aa-13ba390f2761"
   },
   "outputs": [],
   "source": [
    "df.columns"
   ]
  },
  {
   "cell_type": "markdown",
   "metadata": {
    "id": "ERJT6WGxY8L3"
   },
   "source": [
    "Vamos utilizar as colunas: `VERBETE_163_FIN_RURAIS_AGRICUL_CUST/INVEST`,\n",
    "       `VERBETE_164_FIN_RURAIS_PECUAR_CUST/INVEST`,\n",
    "       `VERBETE_165_FIN_RURAIS_AGRICUL_COMERCIALIZ`,\n",
    "       `VERBETE_166_FIN_RURAIS_PECUARIA_COMERCIALIZ`, e `VERBETE_169_FINANCIAMENTOS_IMOBILIARIOS`, que correspondem às colunas `23-26` e `28` do nosso dataframe:"
   ]
  },
  {
   "cell_type": "code",
   "execution_count": null,
   "metadata": {
    "colab": {
     "base_uri": "https://localhost:8080/"
    },
    "id": "HMJHWqr3aEac",
    "outputId": "33a36c09-2331-4833-af3e-e8e0d8968fac"
   },
   "outputs": [],
   "source": [
    "cols = df.columns\n",
    "selectedCols = []\n",
    "# selecionando colunas 0-6, 20, 28 e última coluna do dataframe\n",
    "selectedCols = list(cols[0:7]) + list(cols[23:27]) + [cols[28],cols[-1]]\n",
    "selectedCols"
   ]
  },
  {
   "cell_type": "markdown",
   "metadata": {
    "id": "by2pqMOScYmp"
   },
   "source": [
    "Vamos manter apenas essas colunas no nosso dataframe. Podemos fazer da forma a seguir:"
   ]
  },
  {
   "cell_type": "code",
   "execution_count": null,
   "metadata": {
    "colab": {
     "base_uri": "https://localhost:8080/",
     "height": 392
    },
    "id": "x10tX-eObWLZ",
    "outputId": "a04e85a6-dafe-4f93-c67b-50ff8505ed1e"
   },
   "outputs": [],
   "source": [
    "df = df.drop(df.columns.difference(selectedCols), axis=1)\n",
    "df.head()"
   ]
  },
  {
   "cell_type": "markdown",
   "metadata": {
    "id": "Ckz4_P5Zdtcf"
   },
   "source": [
    "Vamos verificar os `dtypes` do nosso dataframe"
   ]
  },
  {
   "cell_type": "code",
   "execution_count": null,
   "metadata": {
    "colab": {
     "base_uri": "https://localhost:8080/"
    },
    "id": "46bdNdgrctDW",
    "outputId": "5028ac76-79d6-476a-d2f1-f3447653c53f"
   },
   "outputs": [],
   "source": [
    "df.dtypes"
   ]
  },
  {
   "cell_type": "markdown",
   "metadata": {
    "id": "9wVpANGPdWFe"
   },
   "source": [
    "Verifique que o tipo de dados da coluna `CODMUN_IBGE` está em float. Por ser um código, o ideal é que o tipo esteja como string, sem o decimal. Vamos converter inicialmente para inteiro e, posteriormente, para string:"
   ]
  },
  {
   "cell_type": "code",
   "execution_count": null,
   "metadata": {
    "colab": {
     "base_uri": "https://localhost:8080/"
    },
    "id": "03M3P470Wt6k",
    "outputId": "f538fd20-6689-4ae0-874d-7c1d82d2cfa2"
   },
   "outputs": [],
   "source": [
    "df = df.astype({'CODMUN_IBGE': 'int64'})\n",
    "df = df.astype({'CODMUN_IBGE': 'str'})\n",
    "df.dtypes"
   ]
  },
  {
   "cell_type": "code",
   "execution_count": null,
   "metadata": {
    "colab": {
     "base_uri": "https://localhost:8080/",
     "height": 392
    },
    "id": "ijmUh99idJpU",
    "outputId": "a5597b1c-be3f-46a9-8747-ebf8881ca49c"
   },
   "outputs": [],
   "source": [
    "df.head()"
   ]
  },
  {
   "cell_type": "markdown",
   "metadata": {
    "id": "cTmhzoJiweyh"
   },
   "source": [
    "Vamos agrupar os dados a partir do codigo de município IBGE. Iremos selecionar as colunas que contém a informação que queremos agrupar. Vamos selecionar as devidas colunas "
   ]
  },
  {
   "cell_type": "code",
   "execution_count": null,
   "metadata": {
    "colab": {
     "base_uri": "https://localhost:8080/"
    },
    "id": "bYsI3QWOxH9u",
    "outputId": "ac85e02a-e6b3-4ed6-e977-315c6a18cf22"
   },
   "outputs": [],
   "source": [
    "selectedCols = df.columns[7:-1]\n",
    "selectedCols"
   ]
  },
  {
   "cell_type": "markdown",
   "metadata": {
    "id": "SOmdW8v3x8pL"
   },
   "source": [
    "Em seguida, agruparemos pela variável CODMUN_IBGE, calculando a média do saldo de financiamentos agropecuários e imobiliários.\n",
    "\n",
    "OBS: O dataframe gerado irá conter a média do saldo de financiamento (agropecuários e imobiliários) de todos os bancos em uma cidade. É possível (e provável) que agências tenham sido criadas ou encerradas durante esse tempo. Portanto, é recomendado fazer uma avaliação mais minuciosa da evolução desses dados ao longo do tempo."
   ]
  },
  {
   "cell_type": "code",
   "execution_count": null,
   "metadata": {
    "colab": {
     "base_uri": "https://localhost:8080/",
     "height": 302
    },
    "id": "MeM21es1vLkf",
    "outputId": "a3511a50-9ba3-47b0-d69b-7ca97683eca6"
   },
   "outputs": [],
   "source": [
    "groupedDf = df.groupby([\"CODMUN_IBGE\"])[selectedCols].agg('mean')\n",
    "groupedDf.reset_index(inplace = True)\n",
    "groupedDf.set_index(\"CODMUN_IBGE\", inplace = True)\n",
    "groupedDf.head()"
   ]
  },
  {
   "cell_type": "markdown",
   "metadata": {
    "id": "dGc_2xt44035"
   },
   "source": [
    "Vamos inserir no dataframe a informação populacional. Utilizaremos a estimativa populacional para 2021:"
   ]
  },
  {
   "cell_type": "code",
   "execution_count": null,
   "metadata": {
    "colab": {
     "base_uri": "https://localhost:8080/",
     "height": 238
    },
    "id": "HidSqCFT3PK_",
    "outputId": "5f9d905f-515f-4385-f338-3df6841fa3b9"
   },
   "outputs": [],
   "source": [
    "# Obtendo os dados populacionais - Todas as regiões\n",
    "import requests                    # api module\n",
    "import json\n",
    "url = \"https://servicodados.ibge.gov.br/api/v3/agregados/6579/periodos/2021/variaveis/9324?localidades=N6[N2[1,2,3,4,5]]\"\n",
    "response = requests.get(url)\n",
    "population = response.json()\n",
    "for item in population:\n",
    "for key in item['resultados']:\n",
    "    populationJson = key\n",
    "populationJson.pop('classificacoes')\n",
    "dfPopulation = pd.json_normalize(populationJson['series'])\n",
    "dfPopulation.rename(columns = {dfPopulation.columns[0]:'CODMUN_IBGE', \n",
    "                         dfPopulation.columns[-1]: 'POPULACAO'},\n",
    "             inplace = True)\n",
    "dfPopulation[['CIDADE','UF']] = dfPopulation[dfPopulation.columns[-2]].str.split(' - ',1).tolist()\n",
    "dfPopulation.set_index('CODMUN_IBGE', inplace = True)\n",
    "dfPopulation.drop(dfPopulation.columns[0:3], axis=1,inplace=True)\n",
    "dfPopulation = dfPopulation.astype({'POPULACAO': 'int64'})\n",
    "dfPopulation.head()"
   ]
  },
  {
   "cell_type": "markdown",
   "metadata": {
    "id": "IpmILgu0EOkE"
   },
   "source": [
    "Vamos obter, também, a área de cada município:"
   ]
  },
  {
   "cell_type": "code",
   "execution_count": null,
   "metadata": {
    "colab": {
     "base_uri": "https://localhost:8080/",
     "height": 238
    },
    "id": "PAVDIlB4EOPV",
    "outputId": "c6689fa0-6b05-4dde-bb14-2c37a5a05014"
   },
   "outputs": [],
   "source": [
    "# Obtendo a área territorial de todos os municípios Brasileiros\n",
    "url = \"https://servicodados.ibge.gov.br/api/v3/agregados/1301/periodos/2010/variaveis/615?localidades=N6[N2[1,2,3,4,5]]\"\n",
    "response = requests.get(url)\n",
    "area = response.json()\n",
    "for item in area:\n",
    "  for key in item['resultados']:\n",
    "    areaJson = key\n",
    "areaJson.pop('classificacoes')\n",
    "dfArea = pd.json_normalize(areaJson['series'])\n",
    "dfArea.drop(columns=[dfArea.columns[1],\n",
    "                    dfArea.columns[2],\n",
    "                    dfArea.columns[3]],\n",
    "           inplace=True)\n",
    "dfArea.rename(columns = {dfArea.columns[0]:'CODMUN_IBGE', \n",
    "                       dfArea.columns[1]: 'AREA'},\n",
    "             inplace = True)\n",
    "dfArea.set_index('CODMUN_IBGE', inplace = True)\n",
    "dfArea = dfArea.astype({'AREA': 'float'})\n",
    "dfArea.head()"
   ]
  },
  {
   "cell_type": "markdown",
   "metadata": {
    "id": "pIpUhd0b6Vy6"
   },
   "source": [
    "Vamos agrupar oS dataframe de população e área ao dataframe dos financiamentos. Os municípios que não apresentarem saldo de financiamento (não possuírem agências), teão valores zero atribuídos."
   ]
  },
  {
   "cell_type": "markdown",
   "metadata": {
    "id": "XcQnOJM6HLRx"
   },
   "source": []
  },
  {
   "cell_type": "code",
   "execution_count": null,
   "metadata": {
    "colab": {
     "base_uri": "https://localhost:8080/",
     "height": 238
    },
    "id": "rBo32db1HMQ0",
    "outputId": "e2f33871-0f07-45b6-9466-2a34cb203e6b"
   },
   "outputs": [],
   "source": [
    "df = pd.DataFrame()\n",
    "df = dfPopulation.merge(dfArea,left_index=True, right_index=True, how='outer')\n",
    "df.head()"
   ]
  },
  {
   "cell_type": "markdown",
   "metadata": {
    "id": "__M2Yaw9P65q"
   },
   "source": [
    "Vamos, agora, agrupar os dataframes dos dados bancários aos dados do IBGE:"
   ]
  },
  {
   "cell_type": "code",
   "execution_count": null,
   "metadata": {
    "colab": {
     "base_uri": "https://localhost:8080/",
     "height": 336
    },
    "id": "FlWJXLB_2zt7",
    "outputId": "e606d3ca-10a2-4230-9b46-ad1ef0751828"
   },
   "outputs": [],
   "source": [
    "df = df.merge(groupedDf,left_index=True, right_index=True, how='outer').fillna(0)\n",
    "df.head()"
   ]
  },
  {
   "cell_type": "code",
   "execution_count": null,
   "metadata": {
    "colab": {
     "base_uri": "https://localhost:8080/"
    },
    "id": "X0TTw5kCF0si",
    "outputId": "ea55e86c-8668-4f7d-ad75-0c3772b47f0d"
   },
   "outputs": [],
   "source": [
    "df.dtypes"
   ]
  },
  {
   "cell_type": "markdown",
   "metadata": {
    "id": "3OK53BnW2mAL"
   },
   "source": [
    "Vamos somar as colunas de financiamento agropecuário, dividir pela população e salva-lo em uma nova coluna. Também, vamos calcular os financiamentos imobiliários per capita:"
   ]
  },
  {
   "cell_type": "code",
   "execution_count": null,
   "metadata": {
    "colab": {
     "base_uri": "https://localhost:8080/",
     "height": 336
    },
    "id": "1FWLGt_V28Y-",
    "outputId": "a19e3208-831a-4aa5-d1bd-483592e54529"
   },
   "outputs": [],
   "source": [
    "df['fin_agro_per_capita'] = df.iloc[:,4:8].sum(axis=1)/df['POPULACAO']\n",
    "df['fin_imob_per_capita'] = df.iloc[:,8]/df['POPULACAO']\n",
    "df.head()"
   ]
  },
  {
   "cell_type": "markdown",
   "metadata": {
    "id": "NzYw9ydb79jA"
   },
   "source": [
    "Agora podemos excluir as demais colunas do dataframe:"
   ]
  },
  {
   "cell_type": "code",
   "execution_count": null,
   "metadata": {
    "colab": {
     "base_uri": "https://localhost:8080/",
     "height": 238
    },
    "id": "a1KPKkji28E6",
    "outputId": "4b42e76d-9f3d-4901-d6a0-52137c389e6f"
   },
   "outputs": [],
   "source": [
    "selectedCols = [\"POPULACAO\",\"CIDADE\",\"UF\",\"AREA\",\"fin_agro_per_capita\",\"fin_imob_per_capita\"]\n",
    "df = df.drop(df.columns.difference(selectedCols), axis=1)\n",
    "df.head()"
   ]
  },
  {
   "cell_type": "code",
   "execution_count": null,
   "metadata": {
    "colab": {
     "base_uri": "https://localhost:8080/",
     "height": 300
    },
    "id": "GNskr5-G8h_V",
    "outputId": "a13a77e9-5201-452a-9a48-fe11f35a464d"
   },
   "outputs": [],
   "source": [
    "df.describe()"
   ]
  },
  {
   "cell_type": "code",
   "execution_count": null,
   "metadata": {
    "id": "GzKQKAeYJXZB"
   },
   "outputs": [],
   "source": [
    "from sklearn.cluster import KMeans\n",
    "import plotly.express as px"
   ]
  },
  {
   "cell_type": "markdown",
   "metadata": {
    "id": "8vYNgc9aNRhS"
   },
   "source": [
    "Iremos selecionar apenas os municípios do estado de Minas Gerais (MG);"
   ]
  },
  {
   "cell_type": "code",
   "execution_count": null,
   "metadata": {
    "colab": {
     "base_uri": "https://localhost:8080/",
     "height": 238
    },
    "id": "bKtIEpFeNWqk",
    "outputId": "b566294c-b884-49d9-938d-5466fb81ecdd"
   },
   "outputs": [],
   "source": [
    "dfMG = df[df['UF']=='MG']  #colocar demais da região sudeste\n",
    "dfMG.head()"
   ]
  },
  {
   "cell_type": "code",
   "execution_count": null,
   "metadata": {
    "colab": {
     "base_uri": "https://localhost:8080/",
     "height": 238
    },
    "id": "nLPIYpqSUo36",
    "outputId": "da66125d-2a0c-473b-8e04-d90d90248fc5"
   },
   "outputs": [],
   "source": [
    "dfRJ = df[df['UF']=='RJ'] \n",
    "dfRJ.head()"
   ]
  },
  {
   "cell_type": "code",
   "execution_count": null,
   "metadata": {
    "colab": {
     "base_uri": "https://localhost:8080/",
     "height": 238
    },
    "id": "EAdI6kCvUzpR",
    "outputId": "cabdcdf8-7b48-4496-edb6-3d77b2a3802a"
   },
   "outputs": [],
   "source": [
    "dfSP = df[df['UF']=='SP']  \n",
    "dfSP.head()"
   ]
  },
  {
   "cell_type": "code",
   "execution_count": null,
   "metadata": {
    "colab": {
     "base_uri": "https://localhost:8080/",
     "height": 238
    },
    "id": "86CDWBAdUzx-",
    "outputId": "8d887e0f-fb16-42df-93a8-3b52488eb68c"
   },
   "outputs": [],
   "source": [
    "dfES = df[df['UF']=='ES']  \n",
    "dfES.head()"
   ]
  },
  {
   "cell_type": "code",
   "execution_count": null,
   "metadata": {
    "colab": {
     "base_uri": "https://localhost:8080/",
     "height": 300
    },
    "id": "Mpcd5nSvSy2O",
    "outputId": "7648a1a3-f5c5-446e-f9bc-853d94d03e62"
   },
   "outputs": [],
   "source": [
    "dfMG.describe()"
   ]
  },
  {
   "cell_type": "code",
   "execution_count": null,
   "metadata": {
    "colab": {
     "base_uri": "https://localhost:8080/",
     "height": 238
    },
    "id": "voACMYkAUz5b",
    "outputId": "e10688cc-2fa3-4d0f-a05f-9ddc459a1e4e"
   },
   "outputs": [],
   "source": [
    "dfSudeste = pd.concat([dfMG,dfRJ,dfSP,dfES])\n",
    "dfSudeste.head() # sudeste, fazer a partir desse valor"
   ]
  },
  {
   "cell_type": "code",
   "execution_count": null,
   "metadata": {
    "id": "KWwjv9gyW6Yv"
   },
   "outputs": [],
   "source": [
    "X = dfSudeste[['fin_agro_per_capita', 'fin_imob_per_capita']].to_numpy()"
   ]
  },
  {
   "cell_type": "code",
   "execution_count": null,
   "metadata": {
    "colab": {
     "base_uri": "https://localhost:8080/",
     "height": 542
    },
    "id": "T4dW0ofuW6qr",
    "outputId": "0ae71ca2-5115-4dab-f7c4-04fb0fe0f1cb"
   },
   "outputs": [],
   "source": [
    "cl = KMeans(n_clusters=5, random_state=0).fit(X)\n",
    "clusters = pd.DataFrame(cl.labels_, columns=['cluster'])\n",
    "\n",
    "detail = pd.merge(left=dfSudeste.reset_index(), right=clusters, left_index=True, right_index=True)\n",
    "detail = detail.astype({'cluster': 'str'})\n",
    "\n",
    "fig = px.scatter(detail, x=\"fin_agro_per_capita\", y=\"fin_imob_per_capita\", color=\"cluster\",hover_name='CIDADE')\n",
    "\n",
    "fig.show() #talvez seja interessante utilizar os estados como marcadores."
   ]
  },
  {
   "cell_type": "code",
   "execution_count": null,
   "metadata": {
    "id": "-EitoT0ZZOOC"
   },
   "outputs": [],
   "source": [
    "url = 'https://servicodados.ibge.gov.br/api/v3/malhas/regioes/3?formato=application/vnd.geo+json&qualidade=minima&intrarregiao=municipio'\n",
    "response = requests.get(url)\n",
    "shapesJson = response.json()\n",
    "\n"
   ]
  },
  {
   "cell_type": "code",
   "execution_count": null,
   "metadata": {
    "colab": {
     "base_uri": "https://localhost:8080/",
     "height": 542
    },
    "id": "QP4bBWY_XoQ1",
    "outputId": "11ad0b5d-bac3-44ee-a147-ae27ea08f709"
   },
   "outputs": [],
   "source": [
    "detail['cluster'] = detail['cluster'].astype(str)\n",
    "\n",
    "brazilMap = px.choropleth_mapbox(detail,\n",
    "                geojson=shapesJson, \n",
    "                locations='CODMUN_IBGE',\n",
    "                hover_name = 'CIDADE',\n",
    "                color='cluster', \n",
    "                featureidkey=\"properties.codarea\",\n",
    "                )\n",
    "brazilMap.update_layout(mapbox_style=\"open-street-map\", \n",
    "                            mapbox_zoom=5,\n",
    "                            title=\"Clusters - KMeans\")\n",
    "brazilMap.show()"
   ]
  },
  {
   "cell_type": "markdown",
   "metadata": {
    "id": "KjRDqv1BaPfw"
   },
   "source": [
    "Justificativa:\n",
    "\n",
    "Região litoral sudeste devido a aréa não tem espaço para desenvolver atividades agropecuarias, com isso predonomina fundos imobiliarios, em regiões mais afastadas e interiores, tem um aumento na produção agropecuaria, como por exemplo: Paranapanema. A região de Minas gerais predomina o agronegocio."
   ]
  },
  {
   "cell_type": "markdown",
   "metadata": {
    "id": "kBKXrYj0PCxJ"
   },
   "source": [
    "2: Pesquise alguma das variáveis do censo do IBGE (por exemplo: o PIB de cada município) e apresente um histograma ou o box-plot dessa variável para cada cluster. Explique se essa variável tem comportamento diferente em cada cluster. Usando o critério de inércia, varie a quantidade de clusters entre 2 e 10.\n",
    "\n"
   ]
  },
  {
   "cell_type": "code",
   "execution_count": null,
   "metadata": {
    "colab": {
     "base_uri": "https://localhost:8080/",
     "height": 206
    },
    "id": "ogMrOIp315Vs",
    "outputId": "dd573e3e-881e-4e78-f81d-06c8f1af8251"
   },
   "outputs": [],
   "source": [
    "url = 'https://servicodados.ibge.gov.br/api/v3/agregados/5938/periodos/2012/variaveis/37?localidades=N6[N2[3]]'\n",
    "response = requests.get(url)\n",
    "pib = response.json()\n",
    "for item in pib:\n",
    "    for key in item['resultados']:\n",
    "        rendJson = key\n",
    "rendJson.pop('classificacoes')\n",
    "dfpib = pd.json_normalize(rendJson['series'])\n",
    "dfpib.head()\n"
   ]
  },
  {
   "cell_type": "code",
   "execution_count": null,
   "metadata": {
    "id": "ULQVZhyMO9Z7"
   },
   "outputs": [],
   "source": [
    "dfpib.rename(columns = {'localidade.nome':'nome'}, inplace = True)\n",
    "dfpib[['CIDADE','UF']]=dfpib.nome.str.split(' - ',expand=True)\n",
    "dfpib.rename(columns = {'serie.2012':'pib'}, inplace = True)\n"
   ]
  },
  {
   "cell_type": "code",
   "execution_count": null,
   "metadata": {
    "id": "6bXTQaZlO9Mu"
   },
   "outputs": [],
   "source": [
    "dfpib.drop(columns=['localidade.id','localidade.nivel.id','localidade.nivel.nome','nome','UF'], inplace = True)\n"
   ]
  },
  {
   "cell_type": "code",
   "execution_count": null,
   "metadata": {
    "colab": {
     "base_uri": "https://localhost:8080/",
     "height": 424
    },
    "id": "lZqPkasC4aKI",
    "outputId": "8384fbca-fc1e-4e7a-dd99-bed9c9dee347"
   },
   "outputs": [],
   "source": [
    "dfpib"
   ]
  },
  {
   "cell_type": "code",
   "execution_count": null,
   "metadata": {
    "colab": {
     "base_uri": "https://localhost:8080/",
     "height": 424
    },
    "id": "Gehq7rS54qsY",
    "outputId": "1165e44c-c0ed-40bc-e3e1-8dafc8333ab2"
   },
   "outputs": [],
   "source": [
    "dfSudeste_pib = detail.merge(dfpib, how='inner', on='CIDADE')\n",
    "dfSudeste_pib"
   ]
  },
  {
   "cell_type": "code",
   "execution_count": null,
   "metadata": {
    "id": "mozmAvQ94q4Y"
   },
   "outputs": [],
   "source": [
    "X = dfSudeste_pib[['pib', 'cluster']].to_numpy()"
   ]
  },
  {
   "cell_type": "code",
   "execution_count": null,
   "metadata": {
    "id": "mWnNhdnkAXqx"
   },
   "outputs": [],
   "source": [
    "#detail2 = detail2.astype({'pib': 'int64'})\n"
   ]
  },
  {
   "cell_type": "code",
   "execution_count": null,
   "metadata": {
    "colab": {
     "base_uri": "https://localhost:8080/",
     "height": 1000
    },
    "id": "51r84L-q5yxR",
    "outputId": "95f09f7c-1c79-47e5-e610-460dcd47c36a"
   },
   "outputs": [],
   "source": [
    "import matplotlib.pyplot as plt\n",
    "import plotly.express as px \n",
    "\n",
    "\n",
    "for z in range(2, 9):#9\n",
    "    cl = KMeans(n_clusters=z, random_state=0).fit(X) # fazer de 2 a 10\n",
    "    clusters = pd.DataFrame(cl.labels_, columns=['new_cluster'])\n",
    "\n",
    "    detail2 = pd.merge(left=dfSudeste_pib.reset_index(), right=clusters, left_index=True, right_index=True)\n",
    "    detail2 = detail2.astype({'new_cluster': 'str'})\n",
    "\n",
    "    #fig = px.scatter(detail2, x=\"pib\", y=\"cluster\", color=\"new_cluster\",hover_name='CIDADE')\n",
    "\n",
    "    #fig.show()\n",
    "  \n",
    "\n",
    "    fig = px.box(detail2, x=\"new_cluster\", y=\"pib\") \n",
    "  \n",
    "    fig.show()"
   ]
  },
  {
   "cell_type": "code",
   "execution_count": null,
   "metadata": {
    "id": "noy97y0R8NyN"
   },
   "outputs": [],
   "source": []
  },
  {
   "cell_type": "code",
   "execution_count": null,
   "metadata": {
    "colab": {
     "base_uri": "https://localhost:8080/",
     "height": 424
    },
    "id": "IIg4qcdE71lC",
    "outputId": "5f5d946e-efee-4752-d78a-19489ac68e21"
   },
   "outputs": [],
   "source": [
    "detail2"
   ]
  },
  {
   "cell_type": "markdown",
   "metadata": {
    "id": "Sa6u7G-YBAHy"
   },
   "source": [
    "Justificativa:\n",
    "\n",
    "De acordo com a ordenação dos cluesteres anteriores por (Fin_agro e Fin_imob) temos a nova execução de um Kmeans ( cluster e pib), assim gerando novos cluestres, ao analizar os novos clusters e o pib, conseguimos notar que existem clusters que tomam a maior parte dos dados e outros que quase não possuem, isso se deve ao fato da predominancia dos clusteres anteriores, em regioes com alto indice imobiliario, dessa forma ao executarmos com:\n",
    "\n",
    "2 clusteres: Vemos um totalmente predominando os dados enquanto o segundo, com quase nada do pib.\n",
    "\n",
    "3 clusteres: O mesmo acontece, um predomina e os outros dois quase vazios\n",
    "\n",
    "4 clusteres: Nesse fica dividido, dois com a maior parte dos dados e 2 quase vazios\n",
    "\n",
    "5 clusteres: Três com os dados e dois quase sem\n",
    "\n",
    "6 clusteres: Quatro com os dados e 2 quase sem\n",
    "\n",
    "7 clusteres: Quatro com os dados e 3 quase sem\n",
    "\n",
    "8 clusteres: Seis com os dados e 2 quase sem.\n",
    "\n",
    "Dessa forma é possivel analizar, que quanto maior a quantidade de clusteres maior vai ser a diversificação dos dados, porém ainda existira clusteres que não se adequam.\n",
    "\n"
   ]
  },
  {
   "cell_type": "markdown",
   "metadata": {
    "id": "GXaeUdKOPXAh"
   },
   "source": [
    "3 : \n",
    "Plote o gráfico de cotovelo e identifique qual quantidade de clusters você recomendaria nesse problema.\n",
    "\n"
   ]
  },
  {
   "cell_type": "code",
   "execution_count": null,
   "metadata": {
    "colab": {
     "base_uri": "https://localhost:8080/",
     "height": 424
    },
    "id": "cJSAofpfpg-U",
    "outputId": "7c0780eb-dde5-4022-d65d-9b5875293252"
   },
   "outputs": [],
   "source": [
    "df_elbow = detail2.copy()\n",
    "df_elbow"
   ]
  },
  {
   "cell_type": "code",
   "execution_count": null,
   "metadata": {
    "id": "2OfCunZrphBA"
   },
   "outputs": [],
   "source": [
    "df_elbow.drop(columns=['CIDADE','index','UF'], inplace = True)\n"
   ]
  },
  {
   "cell_type": "code",
   "execution_count": null,
   "metadata": {
    "colab": {
     "base_uri": "https://localhost:8080/",
     "height": 376
    },
    "id": "HWEU8ZoPF9Oh",
    "outputId": "20fe2bc3-c136-4eff-82de-52fc39241045"
   },
   "outputs": [],
   "source": [
    "import pandas as pd\n",
    "import numpy as np\n",
    "from sklearn.cluster import KMeans\n",
    "from sklearn.cluster import DBSCAN\n",
    "from sklearn.preprocessing import LabelEncoder\n",
    "from sklearn import metrics\n",
    "from scipy.spatial.distance import cdist\n",
    "import matplotlib.pyplot as plt\n",
    "from sklearn.preprocessing import StandardScaler\n",
    "from sklearn.decomposition import PCA\n",
    "\n",
    "X = StandardScaler().fit_transform(df_elbow.values)\n",
    "\n",
    "# k means determine k\n",
    "distortions = []\n",
    "K = range(3, 20, 2)\n",
    "for k in K:\n",
    "    kmeanModel = KMeans(n_clusters=k).fit(X)\n",
    "    kmeanModel.fit(X)\n",
    "    distortions.append(sum(np.min(cdist(X, kmeanModel.cluster_centers_, 'euclidean'), axis=1)) / X.shape[0])\n",
    "\n",
    "# Plot the elbow\n",
    "plt.plot(K, distortions, 'bx-')\n",
    "plt.xlabel('k')\n",
    "plt.ylabel('Distortion')\n",
    "plt.title('The Elbow Method showing the optimal k')\n",
    "plt.show()\n"
   ]
  },
  {
   "cell_type": "markdown",
   "metadata": {
    "id": "K-e8HgblreyM"
   },
   "source": [
    "Justificativa: A curva mostra que o Melhor valor para K, ou seja o numero de clusters é igual a cinco (5)"
   ]
  },
  {
   "cell_type": "markdown",
   "metadata": {
    "id": "mCGuPbyXdY2m"
   },
   "source": [
    "4 ) O projeto de lei suplementar 316/09 propôs uma classificação de municípios em cinco categorias:\n",
    "Rural, se tiver população inferior a 50 mil habitantes, valor adicionado da agropecuária superior a uma terça parte do PIB municipal e densidade demográfica inferior a 80 habitantes por quilômetro quadrado;\n",
    "\n",
    "Relativamente rural, se tiver população inferior a 50 mil habitantes, valor adicionado da agropecuária entre uma terça parte e quinze centésimos do PIB municipal e densidade demográfica inferior a 80 habitantes por quilômetro quadrado;\n",
    "\n",
    "De pequeno porte, se tiver população inferior a 50 mil habitantes, valor adicionado da agropecuária inferior a quinze centésimos do PIB municipal e densidade demográfica inferior a 80 habitantes por quilômetro quadrado, ou se tiver população inferior a 20 mil habitantes e densidade populacional superior a 80 habitantes por quilômetro quadrado;\n",
    "\n",
    "De médio porte, se tiver população entre 50 mil e cem mil habitantes, ou se tiver densidade demográfica superior a 80 habitantes por quilômetro quadrado e população entre 20 mil e 50 mil habitantes;\n",
    "\n",
    "De grande porte, se tiver população superior a cem mil habitantes.\n",
    "\n",
    "(cont) Recupere os dados necessários para montar esta classificação a partir da API do IBGE. Existe alguma similaridade entre os clusters obtidos e a classificação do municípío? Calcule o percentual de clusters pertencentes a cada classe. Existe alguma relação entre eles? Exiba um mapa cloroplético dos municípios de acordo com essa classe."
   ]
  },
  {
   "cell_type": "code",
   "execution_count": null,
   "metadata": {
    "colab": {
     "base_uri": "https://localhost:8080/",
     "height": 206
    },
    "id": "8Fp5nSImstCo",
    "outputId": "e0e21f41-8724-405c-c662-0c91e9f4e43e"
   },
   "outputs": [],
   "source": [
    "url = 'https://servicodados.ibge.gov.br/api/v3/agregados/1301/periodos/2010/variaveis/616?localidades=N6[N2[3]]'\n",
    "response = requests.get(url)\n",
    "densidade = response.json()\n",
    "for item in densidade:\n",
    "    for key in item['resultados']:\n",
    "        rendJson = key\n",
    "rendJson.pop('classificacoes')\n",
    "dfdes = pd.json_normalize(rendJson['series'])\n",
    "dfdes.head()\n"
   ]
  },
  {
   "cell_type": "code",
   "execution_count": null,
   "metadata": {
    "id": "5tGwwVTastE-"
   },
   "outputs": [],
   "source": [
    "dfdes.rename(columns = {'localidade.nome':'nome'}, inplace = True)\n",
    "dfdes[['CIDADE','UF']]=dfdes.nome.str.split(' - ',expand=True)\n",
    "dfdes.rename(columns = {'serie.2010':'densidade'}, inplace = True)"
   ]
  },
  {
   "cell_type": "code",
   "execution_count": null,
   "metadata": {
    "id": "XjT7J5MNtL_d"
   },
   "outputs": [],
   "source": [
    "dfdes.drop(columns=['localidade.id','localidade.nivel.id','localidade.nivel.nome','nome','UF'], inplace = True)"
   ]
  },
  {
   "cell_type": "code",
   "execution_count": null,
   "metadata": {
    "colab": {
     "base_uri": "https://localhost:8080/",
     "height": 424
    },
    "id": "q7C8VUkUtL_d",
    "outputId": "6c9e127c-1cdf-459c-c630-09dc7553d85f"
   },
   "outputs": [],
   "source": [
    "dfdes"
   ]
  },
  {
   "cell_type": "code",
   "execution_count": null,
   "metadata": {
    "colab": {
     "base_uri": "https://localhost:8080/",
     "height": 424
    },
    "id": "YspN-I0YstHc",
    "outputId": "eb42a524-bf62-4c44-cd48-e0d436fec646"
   },
   "outputs": [],
   "source": [
    "df_t = detail2.merge(dfdes, how='inner', on='CIDADE') # pode ou nao retirar os clusteres\n",
    "df_t"
   ]
  },
  {
   "cell_type": "code",
   "execution_count": null,
   "metadata": {
    "colab": {
     "base_uri": "https://localhost:8080/"
    },
    "id": "FkP79_lUt47U",
    "outputId": "3f32ce81-4dcb-40b0-d607-00d3bdf0a7fd"
   },
   "outputs": [],
   "source": [
    "df_t.dtypes"
   ]
  },
  {
   "cell_type": "code",
   "execution_count": null,
   "metadata": {
    "id": "ZXKwJZONvAnj"
   },
   "outputs": [],
   "source": [
    "df_t.pib = df_t.pib.astype(int)\n",
    "df_t.densidade = df_t.densidade.astype(float)\n"
   ]
  },
  {
   "cell_type": "code",
   "execution_count": null,
   "metadata": {
    "colab": {
     "base_uri": "https://localhost:8080/"
    },
    "id": "9xw0wgq8udG0",
    "outputId": "e195d8f5-4112-41f6-bcf9-64ca932274ec"
   },
   "outputs": [],
   "source": [
    "df_t.POPULACAO.iloc[0]"
   ]
  },
  {
   "cell_type": "code",
   "execution_count": null,
   "metadata": {
    "id": "3YjyF84gBfsw"
   },
   "outputs": [],
   "source": [
    "df_t[\"agro\"]= pd.NaT"
   ]
  },
  {
   "cell_type": "code",
   "execution_count": null,
   "metadata": {
    "colab": {
     "base_uri": "https://localhost:8080/"
    },
    "id": "xphWV1GVuow_",
    "outputId": "aa84d832-b014-47ab-a0ce-57c9beb8250a"
   },
   "outputs": [],
   "source": [
    "for x in range(1722):\n",
    "    df_t.agro.iloc[x]= df_t.fin_agro_per_capita.iloc[x] * df_t.POPULACAO.iloc[x]"
   ]
  },
  {
   "cell_type": "code",
   "execution_count": null,
   "metadata": {
    "colab": {
     "base_uri": "https://localhost:8080/",
     "height": 35
    },
    "id": "u4eUIN04uozg",
    "outputId": "71ea3837-566b-4746-a2c0-eabd73fdc4f9"
   },
   "outputs": [],
   "source": [
    "df_t.densidade.iloc[0]"
   ]
  },
  {
   "cell_type": "code",
   "execution_count": null,
   "metadata": {
    "colab": {
     "base_uri": "https://localhost:8080/"
    },
    "id": "FBtDsBH_uzun",
    "outputId": "56bd7a92-2223-4cc1-a979-7fdcda5ec450"
   },
   "outputs": [],
   "source": [
    "x = df_t.pib.iloc[0]/3\n",
    "x"
   ]
  },
  {
   "cell_type": "code",
   "execution_count": null,
   "metadata": {
    "id": "pansVwa80EMz"
   },
   "outputs": [],
   "source": [
    "df_t[\"tipo\"]= pd.NaT"
   ]
  },
  {
   "cell_type": "code",
   "execution_count": null,
   "metadata": {
    "colab": {
     "base_uri": "https://localhost:8080/",
     "height": 424
    },
    "id": "Ha_uNbbx0EHy",
    "outputId": "4460b3d7-d40c-41c4-c1ce-3cb652951d90"
   },
   "outputs": [],
   "source": [
    "df_t"
   ]
  },
  {
   "cell_type": "code",
   "execution_count": null,
   "metadata": {},
   "outputs": [],
   "source": [
    "for i in range(1722):\n",
    "    if df_t.POPULACAO.iloc[i] < 50000 and df_t.agro.iloc[i] > df_t.pib.iloc[i]/3:\n",
    "        if df_t.densidade.iloc[i] <80:\n",
    "            df_t[\"tipo\"].iloc[i] = 0\n",
    "        \n",
    "    if df_t.POPULACAO.iloc[i] < 50000 and df_t.agro.iloc[i] < df_t.pib.iloc[i]/3 :\n",
    "        if (df_t.agro.iloc[i] > df_t.pib.iloc[i]*0,15 and df_t.densidade.iloc[i] <80):\n",
    "            df_t[\"tipo\"].iloc[i] = 1 \n",
    "\n",
    "        \n",
    "    if (df_t.POPULACAO.iloc[i] < 50000 and  df_t.agro.iloc[i] < df_t.pib.iloc[i]*0,15):\n",
    "        if (df_t.densidade.iloc[i] <80):\n",
    "            df_t[\"tipo\"].iloc[i] = 2\n",
    "            \n",
    "    if (df_t.POPULACAO.iloc[i] < 20000 and df_t.densidade.iloc[i] >80):\n",
    "         df_t[\"tipo\"].iloc[i] = 2\n",
    "\n",
    "\n",
    "\n",
    "    if (df_t.POPULACAO.iloc[i] >= 50000 and df_t.POPULACAO.iloc[i] <= 100000):\n",
    "        df_t[\"tipo\"].iloc[i] = 3\n",
    "\n",
    "    if (df_t.densidade.iloc[i] >80 and df_t.POPULACAO.iloc[i] >= 20000):\n",
    "        if (df_t.POPULACAO.iloc[i] <= 50000):\n",
    "            df_t[\"tipo\"].iloc[i] = 3\n",
    "\n",
    "\n",
    "    if (df_t.POPULACAO.iloc[i] > 100000):\n",
    "        df_t[\"tipo\"].iloc[i] = 4"
   ]
  },
  {
   "cell_type": "code",
   "execution_count": null,
   "metadata": {
    "colab": {
     "base_uri": "https://localhost:8080/"
    },
    "id": "ipWXFgn_0hoB",
    "outputId": "714f8f55-50b1-4fd2-8ecc-e8b79b793dbf"
   },
   "outputs": [],
   "source": [
    "for i in range(1722):\n",
    "    if df_t.POPULACAO.iloc[i] < 50000 and df_t.agro.iloc[i] > df_t.pib.iloc[i]/3:\n",
    "        if df_t.densidade.iloc[i] <80:\n",
    "            df_t[\"tipo\"].iloc[i] = 0\n",
    "        \n",
    "    elif df_t.POPULACAO.iloc[i] < 50000 and df_t.agro.iloc[i] < df_t.pib.iloc[i]/3 :\n",
    "        if (df_t.agro.iloc[i] > df_t.pib.iloc[i]*0,15 and df_t.densidade.iloc[i] <80):\n",
    "            df_t[\"tipo\"].iloc[i] = 1 \n",
    "\n",
    "        \n",
    "    elif (df_t.POPULACAO.iloc[i] < 50000 and  df_t.agro.iloc[i] < df_t.pib.iloc[i]*0,15):\n",
    "        if (df_t.densidade.iloc[i] <80):\n",
    "            df_t[\"tipo\"].iloc[i] = 2\n",
    "            \n",
    "    elif (df_t.POPULACAO.iloc[i] < 20000 and df_t.densidade.iloc[i] >80):\n",
    "         df_t[\"tipo\"].iloc[i] = 2\n",
    "\n",
    "\n",
    "\n",
    "    elif (df_t.POPULACAO.iloc[i] >= 50000 and df_t.POPULACAO.iloc[i] <= 100000):\n",
    "        df_t[\"tipo\"].iloc[i] = 3\n",
    "\n",
    "    elif (df_t.densidade.iloc[i] >80 and df_t.POPULACAO.iloc[i] >= 20000):\n",
    "        if (df_t.POPULACAO.iloc[i] <= 50000):\n",
    "            df_t[\"tipo\"].iloc[i] = 3\n",
    "\n",
    "\n",
    "    elif (df_t.POPULACAO.iloc[i] > 100000):\n",
    "        df_t[\"tipo\"].iloc[i] = 4"
   ]
  },
  {
   "cell_type": "code",
   "execution_count": null,
   "metadata": {
    "colab": {
     "base_uri": "https://localhost:8080/",
     "height": 424
    },
    "id": "U0lm2LTQdZJY",
    "outputId": "e9916e3d-14e2-417c-8163-81b8bb4ce8d5"
   },
   "outputs": [],
   "source": [
    "df_t #comparação com clusteres"
   ]
  },
  {
   "cell_type": "code",
   "execution_count": null,
   "metadata": {
    "colab": {
     "base_uri": "https://localhost:8080/"
    },
    "id": "GrYD3j7T0WeN",
    "outputId": "11b7a6a0-f657-4926-b15d-4853ea1bf64e"
   },
   "outputs": [],
   "source": [
    "df_t.tipo.unique()"
   ]
  },
  {
   "cell_type": "code",
   "execution_count": null,
   "metadata": {
    "id": "4uuTj-y0MR30"
   },
   "outputs": [],
   "source": [
    "df_t_save = df_t.copy()\n"
   ]
  },
  {
   "cell_type": "code",
   "execution_count": null,
   "metadata": {
    "colab": {
     "base_uri": "https://localhost:8080/"
    },
    "id": "KlBkHwpmCJ3o",
    "outputId": "7ec104d1-9e4c-46c0-b609-fd1665609cde"
   },
   "outputs": [],
   "source": [
    "df_t.cluster.unique()"
   ]
  },
  {
   "cell_type": "code",
   "execution_count": null,
   "metadata": {
    "colab": {
     "base_uri": "https://localhost:8080/",
     "height": 424
    },
    "id": "auerCAeSCWbs",
    "outputId": "0bde9df0-c9bb-4165-dde2-6a7059b78584"
   },
   "outputs": [],
   "source": [
    "df_comp = pd.DataFrame(df_t, columns = ['cluster','tipo'])\n",
    "df_comp"
   ]
  },
  {
   "cell_type": "code",
   "execution_count": null,
   "metadata": {
    "id": "vHIoJWr7DLuB"
   },
   "outputs": [],
   "source": [
    "df_comp = df_comp.astype(int)"
   ]
  },
  {
   "cell_type": "code",
   "execution_count": null,
   "metadata": {
    "colab": {
     "base_uri": "https://localhost:8080/",
     "height": 424
    },
    "id": "FB-ZBvAwCWeP",
    "outputId": "d5a63769-57a4-4df8-ef77-0a08d6136933"
   },
   "outputs": [],
   "source": [
    "df_mask=df_comp['cluster']==0\n",
    "filtered_df = df_comp[df_mask]\n",
    "filtered_df"
   ]
  },
  {
   "cell_type": "code",
   "execution_count": null,
   "metadata": {
    "colab": {
     "base_uri": "https://localhost:8080/"
    },
    "id": "1T2y1lXTCWgo",
    "outputId": "3ba2d9e1-6657-4363-aa69-8da4ecb482f6"
   },
   "outputs": [],
   "source": [
    "freq = filtered_df.groupby(['tipo']).count() \n",
    "print(freq)"
   ]
  },
  {
   "cell_type": "code",
   "execution_count": null,
   "metadata": {
    "colab": {
     "base_uri": "https://localhost:8080/",
     "height": 424
    },
    "id": "c8iwF0jADu8s",
    "outputId": "0e83c4ad-0dbc-49db-cd6c-964982c89a1a"
   },
   "outputs": [],
   "source": [
    "df_mask=df_comp['cluster']==1\n",
    "filtered_df = df_comp[df_mask]\n",
    "filtered_df"
   ]
  },
  {
   "cell_type": "code",
   "execution_count": null,
   "metadata": {
    "colab": {
     "base_uri": "https://localhost:8080/"
    },
    "id": "KFOxTzPtDu8s",
    "outputId": "83271692-6264-4469-88b6-4283c46e144b"
   },
   "outputs": [],
   "source": [
    "freq = filtered_df.groupby(['tipo']).count() \n",
    "print(freq)"
   ]
  },
  {
   "cell_type": "code",
   "execution_count": null,
   "metadata": {
    "colab": {
     "base_uri": "https://localhost:8080/",
     "height": 426
    },
    "id": "bbBCOtzmDvQO",
    "outputId": "db77d5ea-6745-4ee9-bde3-1f8407b26539"
   },
   "outputs": [],
   "source": [
    "df_mask=df_comp['cluster']==2\n",
    "filtered_df = df_comp[df_mask]\n",
    "filtered_df"
   ]
  },
  {
   "cell_type": "code",
   "execution_count": null,
   "metadata": {
    "colab": {
     "base_uri": "https://localhost:8080/"
    },
    "id": "VDp_zRY1DvQP",
    "outputId": "4bb44abd-5de3-461e-fca4-dc6e947568e0"
   },
   "outputs": [],
   "source": [
    "freq = filtered_df.groupby(['tipo']).count() \n",
    "print(freq)"
   ]
  },
  {
   "cell_type": "code",
   "execution_count": null,
   "metadata": {
    "colab": {
     "base_uri": "https://localhost:8080/",
     "height": 1000
    },
    "id": "TSZWyadUDvk1",
    "outputId": "166b881d-b893-4af4-944f-4e45807363ea"
   },
   "outputs": [],
   "source": [
    "df_mask=df_comp['cluster']==3\n",
    "filtered_df = df_comp[df_mask]\n",
    "filtered_df"
   ]
  },
  {
   "cell_type": "code",
   "execution_count": null,
   "metadata": {
    "colab": {
     "base_uri": "https://localhost:8080/"
    },
    "id": "mLwvEyGZDvk2",
    "outputId": "aefd9ff9-cc8a-4564-e29a-ededa99afd9c"
   },
   "outputs": [],
   "source": [
    "freq = filtered_df.groupby(['tipo']).count() \n",
    "print(freq)"
   ]
  },
  {
   "cell_type": "code",
   "execution_count": null,
   "metadata": {
    "colab": {
     "base_uri": "https://localhost:8080/",
     "height": 424
    },
    "id": "CTqPA_51D3ac",
    "outputId": "286fe1de-eeba-4b40-a463-7c8963c39adb"
   },
   "outputs": [],
   "source": [
    "df_mask=df_comp['cluster']==4\n",
    "filtered_df = df_comp[df_mask]\n",
    "filtered_df"
   ]
  },
  {
   "cell_type": "code",
   "execution_count": null,
   "metadata": {
    "colab": {
     "base_uri": "https://localhost:8080/"
    },
    "id": "7q4e-Z0lD3ad",
    "outputId": "24f975d2-0941-42e0-ddd2-65b0de735894"
   },
   "outputs": [],
   "source": [
    "freq = filtered_df.groupby(['tipo']).count() \n",
    "print(freq)"
   ]
  },
  {
   "cell_type": "code",
   "execution_count": null,
   "metadata": {
    "id": "crlBG9pJG3bY"
   },
   "outputs": [],
   "source": [
    "rural = 0\n",
    "semirural = 0\n",
    "pequenoPorte = 0\n",
    "medioPorte = 0\n",
    "grandePorte = 0\n",
    "\n",
    "for x in range(1722):\n",
    "    if df_comp.tipo.iloc[x]==0:\n",
    "        rural = rural +1\n",
    "\n",
    "    if df_comp.tipo.iloc[x]==1:\n",
    "        semirural = semirural +1\n",
    "\n",
    "    if df_comp.tipo.iloc[x]==2:\n",
    "        pequenoPorte = pequenoPorte +1\n",
    "\n",
    "    if df_comp.tipo.iloc[x]==3:\n",
    "        medioPorte = medioPorte +1\n",
    "\n",
    "    if df_comp.tipo.iloc[x]==4:\n",
    "        grandePorte = grandePorte +1\n"
   ]
  },
  {
   "cell_type": "code",
   "execution_count": null,
   "metadata": {
    "colab": {
     "base_uri": "https://localhost:8080/"
    },
    "id": "fsAhF4MbG3eQ",
    "outputId": "cbcf45f5-d678-4f42-8312-5dedc6db9f64"
   },
   "outputs": [],
   "source": [
    "print('percentual de rural',rural*100/1722)\n",
    "print('percentual de semirural',semirural*100/1722)\n",
    "print('percentual de pequenoPorte',pequenoPorte*100/1722)\n",
    "print('percentual de medioPorte',medioPorte*100/1722)\n",
    "print('percentual de grandePorte',grandePorte*100/1722)\n",
    "\n",
    "print('total',grandePorte*100/1722+ medioPorte*100/1722+pequenoPorte*100/1722+semirural*100/1722+rural*100/1722)\n"
   ]
  },
  {
   "cell_type": "code",
   "execution_count": null,
   "metadata": {
    "id": "IcD-FxXVG3hD"
   },
   "outputs": [],
   "source": [
    "# AQUI ESTOU MUDANDO O NOME DE TIPO PARA CLUSTER, PQ POR ALGUM MOTIVO SÓ CONSIGO O MAPA ASSIM,KKKK\n",
    "\n",
    "df_t.rename(columns = {'cluster':'cluster_tes'}, inplace = True)\n",
    "df_t.rename(columns = {'tipo':'cluster'}, inplace = True)\n"
   ]
  },
  {
   "cell_type": "code",
   "execution_count": null,
   "metadata": {
    "colab": {
     "base_uri": "https://localhost:8080/",
     "height": 424
    },
    "id": "XN5aHB8TKNHU",
    "outputId": "e2d051b7-b1bf-4f1b-fcbf-eddaa92caa89"
   },
   "outputs": [],
   "source": [
    "df_t"
   ]
  },
  {
   "cell_type": "code",
   "execution_count": null,
   "metadata": {
    "id": "dgrjOROuILgq"
   },
   "outputs": [],
   "source": [
    "url = 'https://servicodados.ibge.gov.br/api/v3/malhas/regioes/3?formato=application/vnd.geo+json&qualidade=minima&intrarregiao=municipio'\n",
    "response = requests.get(url)\n",
    "shapesJson = response.json()\n"
   ]
  },
  {
   "cell_type": "code",
   "execution_count": null,
   "metadata": {
    "colab": {
     "base_uri": "https://localhost:8080/",
     "height": 542
    },
    "id": "OGsOzk6vILgr",
    "outputId": "0fa4d9ab-ec93-49c1-f60c-a11db69938a0"
   },
   "outputs": [],
   "source": [
    "df_t['cluster'] = df_t['cluster'].astype(str)\n",
    "\n",
    "brazilMap = px.choropleth_mapbox(df_t,\n",
    "                geojson=shapesJson, \n",
    "                locations='CODMUN_IBGE',\n",
    "                hover_name = 'CIDADE',\n",
    "                color='cluster', \n",
    "                featureidkey=\"properties.codarea\",\n",
    "                )\n",
    "brazilMap.update_layout(mapbox_style=\"open-street-map\", \n",
    "                            mapbox_zoom=5,\n",
    "                            title=\"Clusters - KMeans\")\n",
    "brazilMap.show()"
   ]
  },
  {
   "cell_type": "markdown",
   "metadata": {
    "id": "GubJ550fB8Ke"
   },
   "source": [
    "justificativa: Os dados monstram que os clusters  (0,4) que possuem maior indice imobiliario representam a maior parte das cidades, sendo o Cluster 4 responsavel por mais da metade desses dados, ao observar em comparação com o tipo de regiãos, vemos a predominância de semi rural e rural seguida por grande porte, isso se dá devido a grande area ocupada por Minas Gerais, que favorece a classificação das zonas, do mesmo modo, podemos entender mediante as demais classificações de frequência, que o acerto de valores de uma classe regional é muito proxima do valor do cluster, como nos clusters 1,2,3 onde predomina um tipo regional e os demais tipos são minimos. "
   ]
  }
 ],
 "metadata": {
  "colab": {
   "collapsed_sections": [],
   "name": "AT03 - Base.ipynb",
   "provenance": []
  },
  "kernelspec": {
   "display_name": "Python 3",
   "language": "python",
   "name": "python3"
  },
  "language_info": {
   "codemirror_mode": {
    "name": "ipython",
    "version": 3
   },
   "file_extension": ".py",
   "mimetype": "text/x-python",
   "name": "python",
   "nbconvert_exporter": "python",
   "pygments_lexer": "ipython3",
   "version": "3.7.4"
  }
 },
 "nbformat": 4,
 "nbformat_minor": 1
}
